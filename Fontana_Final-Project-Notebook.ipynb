{
 "cells": [
  {
   "cell_type": "markdown",
   "metadata": {},
   "source": [
    "# Best Neighborhood in Pittsburgh Final Project\n",
    "## Madeline Fontana's Project Notebook"
   ]
  },
  {
   "cell_type": "code",
   "execution_count": 1,
   "metadata": {},
   "outputs": [],
   "source": [
    "import pandas as pd\n",
    "%matplotlib inline"
   ]
  },
  {
   "cell_type": "markdown",
   "metadata": {},
   "source": [
    "**This notebook looks at two data sets analyzing City of Pittsburgh parks, courts, and rinks to determine the best neighborhood in Pittsburgh. Our group's criteria for best neighborhood is the best neighborhood for children. This will be determined on multiple factors including amount of local parks, courts, and rinks, and the types of of each of these items. My partner will also be analyzing information about playgrounds and playground equipment best suited for children. Neighborhoods will be ranked based on certain criteria. The best neighborhood will be a neighborhood with plenty of access to parks, courts, rinks, and playgrounds, and the best quality locations for each. The best neighborhood will be great for promoting exercise, healthy habits, and emotional well being for children. Notice that some parks overlap neighborhoods. For this particular analysis, we have chosen to ignore this piece of information.**"
   ]
  },
  {
   "cell_type": "markdown",
   "metadata": {},
   "source": [
    "## **City of Pittsburgh Parks**\n",
    "\n",
    "**First, I read in the City of Pittsburgh Parks data set and took a sample of 10 values from the data set.**"
   ]
  },
  {
   "cell_type": "code",
   "execution_count": 2,
   "metadata": {},
   "outputs": [
    {
     "data": {
      "text/html": [
       "<div>\n",
       "<style scoped>\n",
       "    .dataframe tbody tr th:only-of-type {\n",
       "        vertical-align: middle;\n",
       "    }\n",
       "\n",
       "    .dataframe tbody tr th {\n",
       "        vertical-align: top;\n",
       "    }\n",
       "\n",
       "    .dataframe thead th {\n",
       "        text-align: right;\n",
       "    }\n",
       "</style>\n",
       "<table border=\"1\" class=\"dataframe\">\n",
       "  <thead>\n",
       "    <tr style=\"text-align: right;\">\n",
       "      <th></th>\n",
       "      <th>id</th>\n",
       "      <th>name</th>\n",
       "      <th>type</th>\n",
       "      <th>maintenance_responsibility</th>\n",
       "      <th>image</th>\n",
       "      <th>neighborhood</th>\n",
       "      <th>council_district</th>\n",
       "      <th>ward</th>\n",
       "      <th>tract</th>\n",
       "      <th>public_works_division</th>\n",
       "      <th>pli_division</th>\n",
       "      <th>police_zone</th>\n",
       "      <th>fire_zone</th>\n",
       "      <th>latitude</th>\n",
       "      <th>longitude</th>\n",
       "    </tr>\n",
       "  </thead>\n",
       "  <tbody>\n",
       "    <tr>\n",
       "      <th>134</th>\n",
       "      <td>1541827179</td>\n",
       "      <td>Morrow Triangle Park</td>\n",
       "      <td>Park</td>\n",
       "      <td>Parks - Northeast</td>\n",
       "      <td>https://tools.wprdc.org/images/pittsburgh/park...</td>\n",
       "      <td>Bloomfield</td>\n",
       "      <td>7</td>\n",
       "      <td>8</td>\n",
       "      <td>42003080600</td>\n",
       "      <td>2</td>\n",
       "      <td>8</td>\n",
       "      <td>5</td>\n",
       "      <td>3-23</td>\n",
       "      <td>40.456564</td>\n",
       "      <td>-79.938937</td>\n",
       "    </tr>\n",
       "    <tr>\n",
       "      <th>43</th>\n",
       "      <td>564546832</td>\n",
       "      <td>Davis Park</td>\n",
       "      <td>Park</td>\n",
       "      <td>Parks - Eastern</td>\n",
       "      <td>NaN</td>\n",
       "      <td>Squirrel Hill South</td>\n",
       "      <td>5</td>\n",
       "      <td>14</td>\n",
       "      <td>42003141300</td>\n",
       "      <td>3</td>\n",
       "      <td>14</td>\n",
       "      <td>4</td>\n",
       "      <td>2-21</td>\n",
       "      <td>40.432365</td>\n",
       "      <td>-79.924957</td>\n",
       "    </tr>\n",
       "    <tr>\n",
       "      <th>196</th>\n",
       "      <td>1849203338</td>\n",
       "      <td>West End-Elliott Overlook Park</td>\n",
       "      <td>Park</td>\n",
       "      <td>Parks - Western</td>\n",
       "      <td>NaN</td>\n",
       "      <td>Elliott</td>\n",
       "      <td>2</td>\n",
       "      <td>20</td>\n",
       "      <td>42003562600</td>\n",
       "      <td>5</td>\n",
       "      <td>20</td>\n",
       "      <td>6</td>\n",
       "      <td>1-17</td>\n",
       "      <td>40.446332</td>\n",
       "      <td>-80.033703</td>\n",
       "    </tr>\n",
       "    <tr>\n",
       "      <th>72</th>\n",
       "      <td>809676292</td>\n",
       "      <td>Four Mile Run Park</td>\n",
       "      <td>Park</td>\n",
       "      <td>Parks - Schenley</td>\n",
       "      <td>NaN</td>\n",
       "      <td>Greenfield</td>\n",
       "      <td>5</td>\n",
       "      <td>15</td>\n",
       "      <td>42003151600</td>\n",
       "      <td>3</td>\n",
       "      <td>15</td>\n",
       "      <td>4</td>\n",
       "      <td>2-12</td>\n",
       "      <td>40.427551</td>\n",
       "      <td>-79.949468</td>\n",
       "    </tr>\n",
       "    <tr>\n",
       "      <th>31</th>\n",
       "      <td>1899722366</td>\n",
       "      <td>Buhl Community Park at Allegheny Square</td>\n",
       "      <td>Park</td>\n",
       "      <td>Parks - Northern</td>\n",
       "      <td>NaN</td>\n",
       "      <td>Allegheny Center</td>\n",
       "      <td>1</td>\n",
       "      <td>22</td>\n",
       "      <td>42003562700</td>\n",
       "      <td>1</td>\n",
       "      <td>22</td>\n",
       "      <td>1</td>\n",
       "      <td>1-6</td>\n",
       "      <td>40.452447</td>\n",
       "      <td>-80.005828</td>\n",
       "    </tr>\n",
       "    <tr>\n",
       "      <th>87</th>\n",
       "      <td>1264215460</td>\n",
       "      <td>Harris Triangle</td>\n",
       "      <td>Traffic Island/Median</td>\n",
       "      <td>3rd Division</td>\n",
       "      <td>NaN</td>\n",
       "      <td>North Oakland</td>\n",
       "      <td>6</td>\n",
       "      <td>5</td>\n",
       "      <td>42003562000</td>\n",
       "      <td>3</td>\n",
       "      <td>5</td>\n",
       "      <td>4</td>\n",
       "      <td>2-23</td>\n",
       "      <td>40.456040</td>\n",
       "      <td>-79.954771</td>\n",
       "    </tr>\n",
       "    <tr>\n",
       "      <th>139</th>\n",
       "      <td>1063708324</td>\n",
       "      <td>Negley-Collins Triangle</td>\n",
       "      <td>Traffic Island/Median</td>\n",
       "      <td>2nd Division</td>\n",
       "      <td>NaN</td>\n",
       "      <td>East Liberty</td>\n",
       "      <td>9</td>\n",
       "      <td>11</td>\n",
       "      <td>42003111300</td>\n",
       "      <td>2</td>\n",
       "      <td>11</td>\n",
       "      <td>5</td>\n",
       "      <td>3-8</td>\n",
       "      <td>40.466415</td>\n",
       "      <td>-79.918852</td>\n",
       "    </tr>\n",
       "    <tr>\n",
       "      <th>177</th>\n",
       "      <td>571208483</td>\n",
       "      <td>Swisshelm War Memorial</td>\n",
       "      <td>Monument/Memorial</td>\n",
       "      <td>3rd Division</td>\n",
       "      <td>NaN</td>\n",
       "      <td>Swisshelm Park</td>\n",
       "      <td>5</td>\n",
       "      <td>14</td>\n",
       "      <td>42003141100</td>\n",
       "      <td>3</td>\n",
       "      <td>14</td>\n",
       "      <td>4</td>\n",
       "      <td>2-19</td>\n",
       "      <td>40.420715</td>\n",
       "      <td>-79.899837</td>\n",
       "    </tr>\n",
       "    <tr>\n",
       "      <th>15</th>\n",
       "      <td>1353792888</td>\n",
       "      <td>Banksville Park</td>\n",
       "      <td>Park</td>\n",
       "      <td>Parks - Western</td>\n",
       "      <td>NaN</td>\n",
       "      <td>Banksville</td>\n",
       "      <td>2</td>\n",
       "      <td>20</td>\n",
       "      <td>42003202300</td>\n",
       "      <td>5</td>\n",
       "      <td>20</td>\n",
       "      <td>6</td>\n",
       "      <td>4-9</td>\n",
       "      <td>40.414295</td>\n",
       "      <td>-80.038760</td>\n",
       "    </tr>\n",
       "    <tr>\n",
       "      <th>98</th>\n",
       "      <td>789893248</td>\n",
       "      <td>Joe Natoli Park</td>\n",
       "      <td>Park</td>\n",
       "      <td>Parks - Northeast</td>\n",
       "      <td>NaN</td>\n",
       "      <td>Morningside</td>\n",
       "      <td>7</td>\n",
       "      <td>10</td>\n",
       "      <td>42003101400</td>\n",
       "      <td>2</td>\n",
       "      <td>10</td>\n",
       "      <td>5</td>\n",
       "      <td>3-7</td>\n",
       "      <td>40.483824</td>\n",
       "      <td>-79.925777</td>\n",
       "    </tr>\n",
       "  </tbody>\n",
       "</table>\n",
       "</div>"
      ],
      "text/plain": [
       "             id                                     name  \\\n",
       "134  1541827179                     Morrow Triangle Park   \n",
       "43    564546832                               Davis Park   \n",
       "196  1849203338           West End-Elliott Overlook Park   \n",
       "72    809676292                       Four Mile Run Park   \n",
       "31   1899722366  Buhl Community Park at Allegheny Square   \n",
       "87   1264215460                          Harris Triangle   \n",
       "139  1063708324                  Negley-Collins Triangle   \n",
       "177   571208483                   Swisshelm War Memorial   \n",
       "15   1353792888                          Banksville Park   \n",
       "98    789893248                          Joe Natoli Park   \n",
       "\n",
       "                      type maintenance_responsibility  \\\n",
       "134                   Park          Parks - Northeast   \n",
       "43                    Park            Parks - Eastern   \n",
       "196                   Park            Parks - Western   \n",
       "72                    Park           Parks - Schenley   \n",
       "31                    Park           Parks - Northern   \n",
       "87   Traffic Island/Median               3rd Division   \n",
       "139  Traffic Island/Median               2nd Division   \n",
       "177      Monument/Memorial               3rd Division   \n",
       "15                    Park            Parks - Western   \n",
       "98                    Park          Parks - Northeast   \n",
       "\n",
       "                                                 image         neighborhood  \\\n",
       "134  https://tools.wprdc.org/images/pittsburgh/park...           Bloomfield   \n",
       "43                                                 NaN  Squirrel Hill South   \n",
       "196                                                NaN              Elliott   \n",
       "72                                                 NaN           Greenfield   \n",
       "31                                                 NaN     Allegheny Center   \n",
       "87                                                 NaN        North Oakland   \n",
       "139                                                NaN         East Liberty   \n",
       "177                                                NaN       Swisshelm Park   \n",
       "15                                                 NaN           Banksville   \n",
       "98                                                 NaN          Morningside   \n",
       "\n",
       "     council_district  ward        tract  public_works_division  pli_division  \\\n",
       "134                 7     8  42003080600                      2             8   \n",
       "43                  5    14  42003141300                      3            14   \n",
       "196                 2    20  42003562600                      5            20   \n",
       "72                  5    15  42003151600                      3            15   \n",
       "31                  1    22  42003562700                      1            22   \n",
       "87                  6     5  42003562000                      3             5   \n",
       "139                 9    11  42003111300                      2            11   \n",
       "177                 5    14  42003141100                      3            14   \n",
       "15                  2    20  42003202300                      5            20   \n",
       "98                  7    10  42003101400                      2            10   \n",
       "\n",
       "     police_zone fire_zone   latitude  longitude  \n",
       "134            5      3-23  40.456564 -79.938937  \n",
       "43             4      2-21  40.432365 -79.924957  \n",
       "196            6      1-17  40.446332 -80.033703  \n",
       "72             4      2-12  40.427551 -79.949468  \n",
       "31             1       1-6  40.452447 -80.005828  \n",
       "87             4      2-23  40.456040 -79.954771  \n",
       "139            5       3-8  40.466415 -79.918852  \n",
       "177            4      2-19  40.420715 -79.899837  \n",
       "15             6       4-9  40.414295 -80.038760  \n",
       "98             5       3-7  40.483824 -79.925777  "
      ]
     },
     "execution_count": 2,
     "metadata": {},
     "output_type": "execute_result"
    }
   ],
   "source": [
    "#Read in Data\n",
    "parks_data = pd.read_csv(\"cityofpghparks.csv\")\n",
    "parks_data.sample(10)"
   ]
  },
  {
   "cell_type": "markdown",
   "metadata": {},
   "source": [
    "**Next, I performed some data analysis on the data set. Here I created a data frame that contained all of the neighborhoods with no repeats and their cooresponding number of parks in each neighborhood. Here is a sample of 20 neighborhoods from this data frame. I used `.value_counts()` to find these values.**"
   ]
  },
  {
   "cell_type": "code",
   "execution_count": 3,
   "metadata": {},
   "outputs": [
    {
     "data": {
      "text/html": [
       "<div>\n",
       "<style scoped>\n",
       "    .dataframe tbody tr th:only-of-type {\n",
       "        vertical-align: middle;\n",
       "    }\n",
       "\n",
       "    .dataframe tbody tr th {\n",
       "        vertical-align: top;\n",
       "    }\n",
       "\n",
       "    .dataframe thead th {\n",
       "        text-align: right;\n",
       "    }\n",
       "</style>\n",
       "<table border=\"1\" class=\"dataframe\">\n",
       "  <thead>\n",
       "    <tr style=\"text-align: right;\">\n",
       "      <th></th>\n",
       "      <th>neighborhood</th>\n",
       "    </tr>\n",
       "  </thead>\n",
       "  <tbody>\n",
       "    <tr>\n",
       "      <th>Greenfield</th>\n",
       "      <td>3</td>\n",
       "    </tr>\n",
       "    <tr>\n",
       "      <th>Lincoln Place</th>\n",
       "      <td>2</td>\n",
       "    </tr>\n",
       "    <tr>\n",
       "      <th>Regent Square</th>\n",
       "      <td>1</td>\n",
       "    </tr>\n",
       "    <tr>\n",
       "      <th>Crafton Heights</th>\n",
       "      <td>2</td>\n",
       "    </tr>\n",
       "    <tr>\n",
       "      <th>West Oakland</th>\n",
       "      <td>1</td>\n",
       "    </tr>\n",
       "    <tr>\n",
       "      <th>Spring Garden</th>\n",
       "      <td>2</td>\n",
       "    </tr>\n",
       "    <tr>\n",
       "      <th>Garfield</th>\n",
       "      <td>3</td>\n",
       "    </tr>\n",
       "    <tr>\n",
       "      <th>Arlington</th>\n",
       "      <td>1</td>\n",
       "    </tr>\n",
       "    <tr>\n",
       "      <th>Central Oakland</th>\n",
       "      <td>4</td>\n",
       "    </tr>\n",
       "    <tr>\n",
       "      <th>Carrick</th>\n",
       "      <td>3</td>\n",
       "    </tr>\n",
       "    <tr>\n",
       "      <th>Brookline</th>\n",
       "      <td>3</td>\n",
       "    </tr>\n",
       "    <tr>\n",
       "      <th>Allegheny Center</th>\n",
       "      <td>2</td>\n",
       "    </tr>\n",
       "    <tr>\n",
       "      <th>Highland Park</th>\n",
       "      <td>2</td>\n",
       "    </tr>\n",
       "    <tr>\n",
       "      <th>Fineview</th>\n",
       "      <td>2</td>\n",
       "    </tr>\n",
       "    <tr>\n",
       "      <th>Mount Washington</th>\n",
       "      <td>6</td>\n",
       "    </tr>\n",
       "    <tr>\n",
       "      <th>Hazelwood</th>\n",
       "      <td>6</td>\n",
       "    </tr>\n",
       "    <tr>\n",
       "      <th>Westwood</th>\n",
       "      <td>3</td>\n",
       "    </tr>\n",
       "    <tr>\n",
       "      <th>Oakwood</th>\n",
       "      <td>1</td>\n",
       "    </tr>\n",
       "    <tr>\n",
       "      <th>Point Breeze North</th>\n",
       "      <td>3</td>\n",
       "    </tr>\n",
       "    <tr>\n",
       "      <th>Duquesne Heights</th>\n",
       "      <td>2</td>\n",
       "    </tr>\n",
       "  </tbody>\n",
       "</table>\n",
       "</div>"
      ],
      "text/plain": [
       "                    neighborhood\n",
       "Greenfield                     3\n",
       "Lincoln Place                  2\n",
       "Regent Square                  1\n",
       "Crafton Heights                2\n",
       "West Oakland                   1\n",
       "Spring Garden                  2\n",
       "Garfield                       3\n",
       "Arlington                      1\n",
       "Central Oakland                4\n",
       "Carrick                        3\n",
       "Brookline                      3\n",
       "Allegheny Center               2\n",
       "Highland Park                  2\n",
       "Fineview                       2\n",
       "Mount Washington               6\n",
       "Hazelwood                      6\n",
       "Westwood                       3\n",
       "Oakwood                        1\n",
       "Point Breeze North             3\n",
       "Duquesne Heights               2"
      ]
     },
     "execution_count": 3,
     "metadata": {},
     "output_type": "execute_result"
    }
   ],
   "source": [
    "#Parks Per Neighborhood\n",
    "\n",
    "parks_values = parks_data['neighborhood'].value_counts()\n",
    "parks = pd.DataFrame(parks_values)\n",
    "parks.sample(20)"
   ]
  },
  {
   "cell_type": "markdown",
   "metadata": {},
   "source": [
    "**Here are the top neighborhoods and the amount of parks in each neighborhood.**"
   ]
  },
  {
   "cell_type": "code",
   "execution_count": 4,
   "metadata": {},
   "outputs": [
    {
     "data": {
      "text/html": [
       "<div>\n",
       "<style scoped>\n",
       "    .dataframe tbody tr th:only-of-type {\n",
       "        vertical-align: middle;\n",
       "    }\n",
       "\n",
       "    .dataframe tbody tr th {\n",
       "        vertical-align: top;\n",
       "    }\n",
       "\n",
       "    .dataframe thead th {\n",
       "        text-align: right;\n",
       "    }\n",
       "</style>\n",
       "<table border=\"1\" class=\"dataframe\">\n",
       "  <thead>\n",
       "    <tr style=\"text-align: right;\">\n",
       "      <th></th>\n",
       "      <th>neighborhood</th>\n",
       "    </tr>\n",
       "  </thead>\n",
       "  <tbody>\n",
       "    <tr>\n",
       "      <th>East Liberty</th>\n",
       "      <td>12</td>\n",
       "    </tr>\n",
       "    <tr>\n",
       "      <th>Central Business District</th>\n",
       "      <td>10</td>\n",
       "    </tr>\n",
       "    <tr>\n",
       "      <th>Beechview</th>\n",
       "      <td>8</td>\n",
       "    </tr>\n",
       "    <tr>\n",
       "      <th>South Side Slopes</th>\n",
       "      <td>7</td>\n",
       "    </tr>\n",
       "    <tr>\n",
       "      <th>Point Breeze</th>\n",
       "      <td>7</td>\n",
       "    </tr>\n",
       "    <tr>\n",
       "      <th>Squirrel Hill South</th>\n",
       "      <td>6</td>\n",
       "    </tr>\n",
       "    <tr>\n",
       "      <th>Mount Washington</th>\n",
       "      <td>6</td>\n",
       "    </tr>\n",
       "    <tr>\n",
       "      <th>Sheraden</th>\n",
       "      <td>6</td>\n",
       "    </tr>\n",
       "    <tr>\n",
       "      <th>Hazelwood</th>\n",
       "      <td>6</td>\n",
       "    </tr>\n",
       "    <tr>\n",
       "      <th>South Side Flats</th>\n",
       "      <td>6</td>\n",
       "    </tr>\n",
       "    <tr>\n",
       "      <th>South Oakland</th>\n",
       "      <td>5</td>\n",
       "    </tr>\n",
       "    <tr>\n",
       "      <th>Troy Hill</th>\n",
       "      <td>5</td>\n",
       "    </tr>\n",
       "  </tbody>\n",
       "</table>\n",
       "</div>"
      ],
      "text/plain": [
       "                           neighborhood\n",
       "East Liberty                         12\n",
       "Central Business District            10\n",
       "Beechview                             8\n",
       "South Side Slopes                     7\n",
       "Point Breeze                          7\n",
       "Squirrel Hill South                   6\n",
       "Mount Washington                      6\n",
       "Sheraden                              6\n",
       "Hazelwood                             6\n",
       "South Side Flats                      6\n",
       "South Oakland                         5\n",
       "Troy Hill                             5"
      ]
     },
     "execution_count": 4,
     "metadata": {},
     "output_type": "execute_result"
    }
   ],
   "source": [
    "parks.head(12)"
   ]
  },
  {
   "cell_type": "markdown",
   "metadata": {},
   "source": [
    "**Next, I performed a statistical analysis of the data frame I created. The average number of parks per neighborhood was 2.86 so about 3 parks per neighborhood. The maximum number of parks per neighborhood was 12 parks.**"
   ]
  },
  {
   "cell_type": "code",
   "execution_count": 5,
   "metadata": {},
   "outputs": [
    {
     "data": {
      "text/html": [
       "<div>\n",
       "<style scoped>\n",
       "    .dataframe tbody tr th:only-of-type {\n",
       "        vertical-align: middle;\n",
       "    }\n",
       "\n",
       "    .dataframe tbody tr th {\n",
       "        vertical-align: top;\n",
       "    }\n",
       "\n",
       "    .dataframe thead th {\n",
       "        text-align: right;\n",
       "    }\n",
       "</style>\n",
       "<table border=\"1\" class=\"dataframe\">\n",
       "  <thead>\n",
       "    <tr style=\"text-align: right;\">\n",
       "      <th></th>\n",
       "      <th>neighborhood</th>\n",
       "    </tr>\n",
       "  </thead>\n",
       "  <tbody>\n",
       "    <tr>\n",
       "      <th>count</th>\n",
       "      <td>73.000000</td>\n",
       "    </tr>\n",
       "    <tr>\n",
       "      <th>mean</th>\n",
       "      <td>2.863014</td>\n",
       "    </tr>\n",
       "    <tr>\n",
       "      <th>std</th>\n",
       "      <td>2.206777</td>\n",
       "    </tr>\n",
       "    <tr>\n",
       "      <th>min</th>\n",
       "      <td>1.000000</td>\n",
       "    </tr>\n",
       "    <tr>\n",
       "      <th>25%</th>\n",
       "      <td>1.000000</td>\n",
       "    </tr>\n",
       "    <tr>\n",
       "      <th>50%</th>\n",
       "      <td>2.000000</td>\n",
       "    </tr>\n",
       "    <tr>\n",
       "      <th>75%</th>\n",
       "      <td>3.000000</td>\n",
       "    </tr>\n",
       "    <tr>\n",
       "      <th>max</th>\n",
       "      <td>12.000000</td>\n",
       "    </tr>\n",
       "  </tbody>\n",
       "</table>\n",
       "</div>"
      ],
      "text/plain": [
       "       neighborhood\n",
       "count     73.000000\n",
       "mean       2.863014\n",
       "std        2.206777\n",
       "min        1.000000\n",
       "25%        1.000000\n",
       "50%        2.000000\n",
       "75%        3.000000\n",
       "max       12.000000"
      ]
     },
     "execution_count": 5,
     "metadata": {},
     "output_type": "execute_result"
    }
   ],
   "source": [
    "#Statistical Analysis of Data\n",
    "parks.describe()"
   ]
  },
  {
   "cell_type": "markdown",
   "metadata": {},
   "source": [
    "**Here I generated a sample graph containing 6 random neighborhoods and each neighborhood's number of parks. Run this multiple times to get an idea for how neighborhoods compare.**"
   ]
  },
  {
   "cell_type": "code",
   "execution_count": 6,
   "metadata": {},
   "outputs": [
    {
     "data": {
      "text/plain": [
       "<matplotlib.axes._subplots.AxesSubplot at 0x7f40b3ea3670>"
      ]
     },
     "execution_count": 6,
     "metadata": {},
     "output_type": "execute_result"
    },
    {
     "data": {
      "image/png": "[encoded data removed]",
      "text/plain": [
       "<Figure size 864x576 with 1 Axes>"
      ]
     },
     "metadata": {
      "needs_background": "light"
     },
     "output_type": "display_data"
    }
   ],
   "source": [
    "#Sample Graph\n",
    "#parks = pd.Series(quantities, index=neighborhoods)\n",
    "\n",
    "parks.sample(6).plot.bar(rot=0, figsize=[12,8])"
   ]
  },
  {
   "cell_type": "markdown",
   "metadata": {},
   "source": [
    "**Here I generated a graph of the top neighborhoods and the amount of parks in each.**"
   ]
  },
  {
   "cell_type": "code",
   "execution_count": 7,
   "metadata": {},
   "outputs": [
    {
     "data": {
      "text/plain": [
       "<matplotlib.axes._subplots.AxesSubplot at 0x7f40b369daf0>"
      ]
     },
     "execution_count": 7,
     "metadata": {},
     "output_type": "execute_result"
    },
    {
     "data": {
      "image/png": "[encoded data removed]",
      "text/plain": [
       "<Figure size 1872x576 with 1 Axes>"
      ]
     },
     "metadata": {
      "needs_background": "light"
     },
     "output_type": "display_data"
    }
   ],
   "source": [
    "#Top Neighborhoods Graph\n",
    "parks.head(13).plot.bar(rot=0, figsize=[26,8])"
   ]
  },
  {
   "cell_type": "markdown",
   "metadata": {},
   "source": [
    "**Neighborhoods with Most Parks Ranking**\n",
    "1. **East Liberty**\n",
    "2. **Central Business District and Point Breeze North**\n",
    "3. **Beechview**\n",
    "4. **South Side Slopes and Point Breeze**\n",
    "5. **South Side Flats, Hazelwood, Squirrel Hill South, Mount Washington, and Sheraden**\n",
    "6. **South Oakland and Troy Hill**"
   ]
  },
  {
   "cell_type": "markdown",
   "metadata": {},
   "source": [
    "**Here is a line graph showing the entire data set. Notice how the values 12 and 10 and outliers being that most neighborhoods do not have that many parks. Also notice how many neighborhoods have a value centering around 5 and 3, showing that many neighborhoods on average have a range from about 2 to 5 parks.**"
   ]
  },
  {
   "cell_type": "code",
   "execution_count": 8,
   "metadata": {},
   "outputs": [
    {
     "data": {
      "text/plain": [
       "<matplotlib.axes._subplots.AxesSubplot at 0x7f40b31b2fd0>"
      ]
     },
     "execution_count": 8,
     "metadata": {},
     "output_type": "execute_result"
    },
    {
     "data": {
      "image/png": "[encoded data removed]",
      "text/plain": [
       "<Figure size 1080x576 with 1 Axes>"
      ]
     },
     "metadata": {
      "needs_background": "light"
     },
     "output_type": "display_data"
    }
   ],
   "source": [
    "#Entire Data Set Graph\n",
    "parks.plot.bar(figsize=[15,8])"
   ]
  },
  {
   "cell_type": "markdown",
   "metadata": {},
   "source": [
    "**However, after analyzing this data set, I noticed that some of the parks listed were not traditional parks, so I analyzed this as well.**"
   ]
  },
  {
   "cell_type": "code",
   "execution_count": 9,
   "metadata": {},
   "outputs": [
    {
     "data": {
      "text/html": [
       "<div>\n",
       "<style scoped>\n",
       "    .dataframe tbody tr th:only-of-type {\n",
       "        vertical-align: middle;\n",
       "    }\n",
       "\n",
       "    .dataframe tbody tr th {\n",
       "        vertical-align: top;\n",
       "    }\n",
       "\n",
       "    .dataframe thead th {\n",
       "        text-align: right;\n",
       "    }\n",
       "</style>\n",
       "<table border=\"1\" class=\"dataframe\">\n",
       "  <thead>\n",
       "    <tr style=\"text-align: right;\">\n",
       "      <th></th>\n",
       "      <th>type</th>\n",
       "    </tr>\n",
       "  </thead>\n",
       "  <tbody>\n",
       "    <tr>\n",
       "      <th>Park</th>\n",
       "      <td>153</td>\n",
       "    </tr>\n",
       "    <tr>\n",
       "      <th>Traffic Island/Median</th>\n",
       "      <td>33</td>\n",
       "    </tr>\n",
       "    <tr>\n",
       "      <th>Building Grounds</th>\n",
       "      <td>10</td>\n",
       "    </tr>\n",
       "    <tr>\n",
       "      <th>Monument/Memorial</th>\n",
       "      <td>7</td>\n",
       "    </tr>\n",
       "    <tr>\n",
       "      <th>Open Space</th>\n",
       "      <td>6</td>\n",
       "    </tr>\n",
       "  </tbody>\n",
       "</table>\n",
       "</div>"
      ],
      "text/plain": [
       "                       type\n",
       "Park                    153\n",
       "Traffic Island/Median    33\n",
       "Building Grounds         10\n",
       "Monument/Memorial         7\n",
       "Open Space                6"
      ]
     },
     "execution_count": 9,
     "metadata": {},
     "output_type": "execute_result"
    }
   ],
   "source": [
    "#Number of Each Type of Park \n",
    "\n",
    "type_values = parks_data['type'].value_counts()\n",
    "types = pd.DataFrame(type_values)\n",
    "types.head(10)"
   ]
  },
  {
   "cell_type": "markdown",
   "metadata": {},
   "source": [
    "**Here is a graph showing how many of each type of park there is in the data set.**"
   ]
  },
  {
   "cell_type": "code",
   "execution_count": 10,
   "metadata": {},
   "outputs": [
    {
     "data": {
      "text/plain": [
       "<matplotlib.axes._subplots.AxesSubplot at 0x7f40b2fa8400>"
      ]
     },
     "execution_count": 10,
     "metadata": {},
     "output_type": "execute_result"
    },
    {
     "data": {
      "image/png": "[encoded data removed]",
      "text/plain": [
       "<Figure size 720x576 with 1 Axes>"
      ]
     },
     "metadata": {
      "needs_background": "light"
     },
     "output_type": "display_data"
    }
   ],
   "source": [
    "types.plot.bar(rot=0, figsize=[10,8])"
   ]
  },
  {
   "cell_type": "markdown",
   "metadata": {},
   "source": [
    "**Now let's analyze on a broader scale what may be the best region to live in, and what neighborhoods are in that region.**"
   ]
  },
  {
   "cell_type": "markdown",
   "metadata": {},
   "source": [
    "**I chose to look at what region the park was in to locate which regions had the most parks in them, so that choosing a neighborhood in a region with many parks would mean that nearby neighborhoods would also have many parks, even further expanding access to parks for children. If a neighborhood is in a top region (a region with many parks), this neighborhood is a great location for children to be in. An example of how this factor could be evaluated is if a neighborhood had a decent amount of parks but was in a region without that many parks (meaning not many parks are around the neighborhood), this might not be the best neighborhood to choose for children.**"
   ]
  },
  {
   "cell_type": "code",
   "execution_count": 11,
   "metadata": {},
   "outputs": [
    {
     "data": {
      "text/html": [
       "<div>\n",
       "<style scoped>\n",
       "    .dataframe tbody tr th:only-of-type {\n",
       "        vertical-align: middle;\n",
       "    }\n",
       "\n",
       "    .dataframe tbody tr th {\n",
       "        vertical-align: top;\n",
       "    }\n",
       "\n",
       "    .dataframe thead th {\n",
       "        text-align: right;\n",
       "    }\n",
       "</style>\n",
       "<table border=\"1\" class=\"dataframe\">\n",
       "  <thead>\n",
       "    <tr style=\"text-align: right;\">\n",
       "      <th></th>\n",
       "      <th>maintenance_responsibility</th>\n",
       "    </tr>\n",
       "  </thead>\n",
       "  <tbody>\n",
       "    <tr>\n",
       "      <th>Parks - Northern</th>\n",
       "      <td>39</td>\n",
       "    </tr>\n",
       "    <tr>\n",
       "      <th>Parks - Western</th>\n",
       "      <td>32</td>\n",
       "    </tr>\n",
       "    <tr>\n",
       "      <th>Parks - Southern</th>\n",
       "      <td>29</td>\n",
       "    </tr>\n",
       "    <tr>\n",
       "      <th>Parks - Northeast</th>\n",
       "      <td>25</td>\n",
       "    </tr>\n",
       "    <tr>\n",
       "      <th>Parks - Schenley</th>\n",
       "      <td>23</td>\n",
       "    </tr>\n",
       "  </tbody>\n",
       "</table>\n",
       "</div>"
      ],
      "text/plain": [
       "                   maintenance_responsibility\n",
       "Parks - Northern                           39\n",
       "Parks - Western                            32\n",
       "Parks - Southern                           29\n",
       "Parks - Northeast                          25\n",
       "Parks - Schenley                           23"
      ]
     },
     "execution_count": 11,
     "metadata": {},
     "output_type": "execute_result"
    }
   ],
   "source": [
    "#Regions\n",
    "\n",
    "region_values = parks_data['maintenance_responsibility'].value_counts()\n",
    "regions = pd.DataFrame(region_values)\n",
    "top_regions = regions.head(5)\n",
    "top_regions"
   ]
  },
  {
   "cell_type": "markdown",
   "metadata": {},
   "source": [
    "**The Parks-Northern region has the most parks in it with 39 parks being in that region. Next, I found which neighborhoods are in the top five regions listed.**"
   ]
  },
  {
   "cell_type": "code",
   "execution_count": 36,
   "metadata": {},
   "outputs": [
    {
     "data": {
      "text/html": [
       "<div>\n",
       "<style scoped>\n",
       "    .dataframe tbody tr th:only-of-type {\n",
       "        vertical-align: middle;\n",
       "    }\n",
       "\n",
       "    .dataframe tbody tr th {\n",
       "        vertical-align: top;\n",
       "    }\n",
       "\n",
       "    .dataframe thead th {\n",
       "        text-align: right;\n",
       "    }\n",
       "</style>\n",
       "<table border=\"1\" class=\"dataframe\">\n",
       "  <thead>\n",
       "    <tr style=\"text-align: right;\">\n",
       "      <th></th>\n",
       "      <th>maintenance_responsibility</th>\n",
       "      <th>neighborhood</th>\n",
       "    </tr>\n",
       "  </thead>\n",
       "  <tbody>\n",
       "    <tr>\n",
       "      <th>0</th>\n",
       "      <td>Parks - Southern</td>\n",
       "      <td>Beechview</td>\n",
       "    </tr>\n",
       "    <tr>\n",
       "      <th>1</th>\n",
       "      <td>Parks - Schenley</td>\n",
       "      <td>Crawford-Roberts</td>\n",
       "    </tr>\n",
       "    <tr>\n",
       "      <th>2</th>\n",
       "      <td>Parks - Northern</td>\n",
       "      <td>North Shore</td>\n",
       "    </tr>\n",
       "    <tr>\n",
       "      <th>3</th>\n",
       "      <td>Parks - Northern</td>\n",
       "      <td>Allegheny Center</td>\n",
       "    </tr>\n",
       "    <tr>\n",
       "      <th>4</th>\n",
       "      <td>Parks - Northern</td>\n",
       "      <td>North Shore</td>\n",
       "    </tr>\n",
       "    <tr>\n",
       "      <th>5</th>\n",
       "      <td>Parks - Northern</td>\n",
       "      <td>Central Business District</td>\n",
       "    </tr>\n",
       "    <tr>\n",
       "      <th>6</th>\n",
       "      <td>Parks - Northern</td>\n",
       "      <td>Central Northside</td>\n",
       "    </tr>\n",
       "    <tr>\n",
       "      <th>7</th>\n",
       "      <td>Parks - Southern</td>\n",
       "      <td>Beechview</td>\n",
       "    </tr>\n",
       "    <tr>\n",
       "      <th>8</th>\n",
       "      <td>2nd Division</td>\n",
       "      <td>East Liberty</td>\n",
       "    </tr>\n",
       "    <tr>\n",
       "      <th>9</th>\n",
       "      <td>Parks - Schenley</td>\n",
       "      <td>Bedford Dwellings</td>\n",
       "    </tr>\n",
       "    <tr>\n",
       "      <th>10</th>\n",
       "      <td>Parks - Southern</td>\n",
       "      <td>South Side Slopes</td>\n",
       "    </tr>\n",
       "    <tr>\n",
       "      <th>11</th>\n",
       "      <td>Parks - Southern</td>\n",
       "      <td>South Side Slopes</td>\n",
       "    </tr>\n",
       "    <tr>\n",
       "      <th>12</th>\n",
       "      <td>Parks - Southern</td>\n",
       "      <td>South Side Flats</td>\n",
       "    </tr>\n",
       "    <tr>\n",
       "      <th>13</th>\n",
       "      <td>Parks - Northeast</td>\n",
       "      <td>Lower Lawrenceville</td>\n",
       "    </tr>\n",
       "    <tr>\n",
       "      <th>14</th>\n",
       "      <td>Parks - Schenley</td>\n",
       "      <td>Crawford-Roberts</td>\n",
       "    </tr>\n",
       "    <tr>\n",
       "      <th>15</th>\n",
       "      <td>Parks - Western</td>\n",
       "      <td>Banksville</td>\n",
       "    </tr>\n",
       "    <tr>\n",
       "      <th>16</th>\n",
       "      <td>Parks - Western</td>\n",
       "      <td>Banksville</td>\n",
       "    </tr>\n",
       "    <tr>\n",
       "      <th>17</th>\n",
       "      <td>3rd Division</td>\n",
       "      <td>South Oakland</td>\n",
       "    </tr>\n",
       "    <tr>\n",
       "      <th>18</th>\n",
       "      <td>2nd Division</td>\n",
       "      <td>East Liberty</td>\n",
       "    </tr>\n",
       "    <tr>\n",
       "      <th>19</th>\n",
       "      <td>Parks - Eastern</td>\n",
       "      <td>Homewood North</td>\n",
       "    </tr>\n",
       "  </tbody>\n",
       "</table>\n",
       "</div>"
      ],
      "text/plain": [
       "   maintenance_responsibility               neighborhood\n",
       "0            Parks - Southern                  Beechview\n",
       "1            Parks - Schenley           Crawford-Roberts\n",
       "2            Parks - Northern                North Shore\n",
       "3            Parks - Northern           Allegheny Center\n",
       "4            Parks - Northern                North Shore\n",
       "5            Parks - Northern  Central Business District\n",
       "6            Parks - Northern          Central Northside\n",
       "7            Parks - Southern                  Beechview\n",
       "8                2nd Division               East Liberty\n",
       "9            Parks - Schenley          Bedford Dwellings\n",
       "10           Parks - Southern          South Side Slopes\n",
       "11           Parks - Southern          South Side Slopes\n",
       "12           Parks - Southern           South Side Flats\n",
       "13          Parks - Northeast        Lower Lawrenceville\n",
       "14           Parks - Schenley           Crawford-Roberts\n",
       "15            Parks - Western                 Banksville\n",
       "16            Parks - Western                 Banksville\n",
       "17               3rd Division              South Oakland\n",
       "18               2nd Division               East Liberty\n",
       "19            Parks - Eastern             Homewood North"
      ]
     },
     "execution_count": 36,
     "metadata": {},
     "output_type": "execute_result"
    }
   ],
   "source": [
    "parks_data2 = pd.read_csv(\"cityofpghparks.csv\",usecols=['neighborhood','maintenance_responsibility'])\n",
    "df_parks = parks_data2.head(60)\n",
    "df_parks.head(20)"
   ]
  },
  {
   "cell_type": "markdown",
   "metadata": {},
   "source": [
    "**Here I am using `.groupby()` and `.value_counts()` on the data frame with both region and park counts to figure out which top neighborhoods are in top regions.**"
   ]
  },
  {
   "cell_type": "markdown",
   "metadata": {},
   "source": [
    "**Note that while forming a ranking I examined more of the data than the subset shown.**"
   ]
  },
  {
   "cell_type": "code",
   "execution_count": 35,
   "metadata": {},
   "outputs": [
    {
     "data": {
      "text/plain": [
       "maintenance_responsibility  neighborhood             \n",
       "2nd Division                East Liberty                 2\n",
       "3rd Division                Central Business District    1\n",
       "                            Point Breeze                 1\n",
       "                            South Oakland                2\n",
       "4th Division                Brookline                    1\n",
       "5th Division                Beechview                    1\n",
       "6th Division                Central Business District    1\n",
       "Parks - Eastern             East Hills                   1\n",
       "                            East Liberty                 1\n",
       "                            Hazelwood                    1\n",
       "                            Homewood North               1\n",
       "                            Homewood West                1\n",
       "                            Squirrel Hill South          1\n",
       "Parks - Northeast           East Liberty                 1\n",
       "                            Lincoln-Lemington-Belmar     1\n",
       "                            Lower Lawrenceville          1\n",
       "                            Stanton Heights              1\n",
       "                            Upper Lawrenceville          1\n",
       "Parks - Northern            Allegheny Center             2\n",
       "                            Brighton Heights             2\n",
       "                            Central Business District    1\n",
       "                            Central Northside            1\n",
       "                            North Shore                  2\n",
       "                            Perry South                  1\n",
       "                            Spring Garden                1\n",
       "                            Troy Hill                    1\n",
       "Parks - Schenley            Bedford Dwellings            1\n",
       "                            Central Oakland              1\n",
       "                            Crawford-Roberts             2\n",
       "                            Hazelwood                    2\n",
       "                            Strip District               1\n",
       "Parks - Southern            Arlington                    1\n",
       "                            Beechview                    3\n",
       "                            Bon Air                      1\n",
       "                            Brookline                    1\n",
       "                            South Side Flats             1\n",
       "                            South Side Slopes            4\n",
       "Parks - Western             Allentown                    2\n",
       "                            Banksville                   2\n",
       "                            Crafton Heights              1\n",
       "                            Duquesne Heights             2\n",
       "                            East Carnegie                1\n",
       "                            Mount Washington             1\n",
       "                            Westwood                     1\n",
       "                            Windgap                      1\n",
       "dtype: int64"
      ]
     },
     "execution_count": 35,
     "metadata": {},
     "output_type": "execute_result"
    }
   ],
   "source": [
    "df_parks.groupby(['maintenance_responsibility','neighborhood']).value_counts()"
   ]
  },
  {
   "cell_type": "markdown",
   "metadata": {},
   "source": [
    "**Here I have shown which top neighborhoods are in top regions. Top neighborhoods are neighborhoods ranked for having a lot of parks and top regions are regions with a lot of parks.**"
   ]
  },
  {
   "cell_type": "markdown",
   "metadata": {},
   "source": [
    "**Notice that regions 'Parks - Southern' and 'Parks - Schenely' (regions 3 and 5) have the most top neighborhoods in them, making them the best regions to live in. After analyzing the data based on region, I established a new ranking based on most top neighborhoods in top regions using parks per neighborhood counts to break ties.**"
   ]
  },
  {
   "cell_type": "markdown",
   "metadata": {},
   "source": [
    "**New Ranking**\n",
    "1. **Beechview**\n",
    "2. **South Side Slopes**\n",
    "3. **South Side Flats**\n",
    "4. **Hazelwood**\n",
    "5. **Squirrel Hill South**\n",
    "6. **South Oakland**\n",
    "7. **Central Business District**\n",
    "8. **Mount Washington**\n",
    "9. **Sheraden**\n",
    "10. **Troy Hill**\n",
    "11. **East Liberty**"
   ]
  },
  {
   "cell_type": "markdown",
   "metadata": {},
   "source": [
    "**Notice how much of a drastic change there was in the ranking when we base the ranking on best regions. East Liberty, who was ranked first when only looking at most parks, is now in last because it is not in a top region (meaning a region with a lot of parks). Beechview still is ranked high, and both the South Side Flats and Slopes moved up in the ranking slightly.**"
   ]
  },
  {
   "cell_type": "markdown",
   "metadata": {},
   "source": [
    "### **Summary of City of Pittsburgh Parks Data Set**\n",
    "\n",
    "**The overall winner for this data set is Beechview ranked first and third after performing analysis of two different aspects of the data set and forming a general conclusion. Beechview has 8 parks, ranked third in the ranking based of amount of parks and ranked first in the ranking based on region. Beechview could be considered a good neighborhood to live in and a good neighborhood for chidlren based on access to many parks of different types and for being in a region with many parks.**"
   ]
  },
  {
   "cell_type": "markdown",
   "metadata": {},
   "source": [
    "## **City of Pittsburgh Courts and Rinks**\n",
    "**First, I read in the City of Pittsburgh Courts and Rinks data set. Here is a sample of 10 entires in this data set.**"
   ]
  },
  {
   "cell_type": "code",
   "execution_count": 14,
   "metadata": {},
   "outputs": [
    {
     "data": {
      "text/html": [
       "<div>\n",
       "<style scoped>\n",
       "    .dataframe tbody tr th:only-of-type {\n",
       "        vertical-align: middle;\n",
       "    }\n",
       "\n",
       "    .dataframe tbody tr th {\n",
       "        vertical-align: top;\n",
       "    }\n",
       "\n",
       "    .dataframe thead th {\n",
       "        text-align: right;\n",
       "    }\n",
       "</style>\n",
       "<table border=\"1\" class=\"dataframe\">\n",
       "  <thead>\n",
       "    <tr style=\"text-align: right;\">\n",
       "      <th></th>\n",
       "      <th>id</th>\n",
       "      <th>name</th>\n",
       "      <th>type</th>\n",
       "      <th>park</th>\n",
       "      <th>location</th>\n",
       "      <th>surface_material</th>\n",
       "      <th>grandstand</th>\n",
       "      <th>inactive</th>\n",
       "      <th>neighborhood</th>\n",
       "      <th>council_district</th>\n",
       "      <th>ward</th>\n",
       "      <th>tract</th>\n",
       "      <th>public_works_division</th>\n",
       "      <th>pli_division</th>\n",
       "      <th>police_zone</th>\n",
       "      <th>fire_zone</th>\n",
       "      <th>latitude</th>\n",
       "      <th>longitude</th>\n",
       "    </tr>\n",
       "  </thead>\n",
       "  <tbody>\n",
       "    <tr>\n",
       "      <th>208</th>\n",
       "      <td>182857077</td>\n",
       "      <td>Wabash Park Basketball Court 2</td>\n",
       "      <td>Basketball (Full)</td>\n",
       "      <td>Wabash Park</td>\n",
       "      <td>NaN</td>\n",
       "      <td>Asphalt</td>\n",
       "      <td>0</td>\n",
       "      <td>f</td>\n",
       "      <td>West End</td>\n",
       "      <td>2</td>\n",
       "      <td>20</td>\n",
       "      <td>42003562600</td>\n",
       "      <td>5</td>\n",
       "      <td>20</td>\n",
       "      <td>6</td>\n",
       "      <td>1-17</td>\n",
       "      <td>40.438175</td>\n",
       "      <td>-80.034126</td>\n",
       "    </tr>\n",
       "    <tr>\n",
       "      <th>163</th>\n",
       "      <td>1324077535</td>\n",
       "      <td>Oakwood Park Tennis Court 1</td>\n",
       "      <td>Tennis</td>\n",
       "      <td>Oakwood Park</td>\n",
       "      <td>NaN</td>\n",
       "      <td>Asphalt</td>\n",
       "      <td>0</td>\n",
       "      <td>f</td>\n",
       "      <td>Oakwood</td>\n",
       "      <td>2</td>\n",
       "      <td>28</td>\n",
       "      <td>42003562800</td>\n",
       "      <td>5</td>\n",
       "      <td>28</td>\n",
       "      <td>6</td>\n",
       "      <td>1-19</td>\n",
       "      <td>40.426372</td>\n",
       "      <td>-80.066449</td>\n",
       "    </tr>\n",
       "    <tr>\n",
       "      <th>65</th>\n",
       "      <td>1573467860</td>\n",
       "      <td>Fineview Park Tennis Court 1</td>\n",
       "      <td>Pickleball</td>\n",
       "      <td>Fineview Park</td>\n",
       "      <td>NaN</td>\n",
       "      <td>Asphalt</td>\n",
       "      <td>0</td>\n",
       "      <td>f</td>\n",
       "      <td>Fineview</td>\n",
       "      <td>1</td>\n",
       "      <td>25</td>\n",
       "      <td>42003250900</td>\n",
       "      <td>1</td>\n",
       "      <td>25</td>\n",
       "      <td>1</td>\n",
       "      <td>1-10</td>\n",
       "      <td>40.461608</td>\n",
       "      <td>-80.004102</td>\n",
       "    </tr>\n",
       "    <tr>\n",
       "      <th>206</th>\n",
       "      <td>2034927516</td>\n",
       "      <td>Vincennes Park Basketball Court 1</td>\n",
       "      <td>Basketball (Full)</td>\n",
       "      <td>Vincennes Park</td>\n",
       "      <td>NaN</td>\n",
       "      <td>Asphalt</td>\n",
       "      <td>0</td>\n",
       "      <td>f</td>\n",
       "      <td>Middle Hill</td>\n",
       "      <td>6</td>\n",
       "      <td>5</td>\n",
       "      <td>42003050100</td>\n",
       "      <td>3</td>\n",
       "      <td>5</td>\n",
       "      <td>2</td>\n",
       "      <td>2-5</td>\n",
       "      <td>40.451205</td>\n",
       "      <td>-79.967705</td>\n",
       "    </tr>\n",
       "    <tr>\n",
       "      <th>161</th>\n",
       "      <td>779686783</td>\n",
       "      <td>Niagara Park Basketball Court 1</td>\n",
       "      <td>Basketball (Half)</td>\n",
       "      <td>Niagara Park</td>\n",
       "      <td>NaN</td>\n",
       "      <td>Asphalt</td>\n",
       "      <td>0</td>\n",
       "      <td>f</td>\n",
       "      <td>South Oakland</td>\n",
       "      <td>3</td>\n",
       "      <td>4</td>\n",
       "      <td>42003040900</td>\n",
       "      <td>3</td>\n",
       "      <td>4</td>\n",
       "      <td>4</td>\n",
       "      <td>2-10</td>\n",
       "      <td>40.434632</td>\n",
       "      <td>-79.960296</td>\n",
       "    </tr>\n",
       "    <tr>\n",
       "      <th>23</th>\n",
       "      <td>1919204105</td>\n",
       "      <td>Brighton Heights Park Basketball Court 1</td>\n",
       "      <td>Basketball (Full)</td>\n",
       "      <td>Brighton Heights Park</td>\n",
       "      <td>NaN</td>\n",
       "      <td>Asphalt</td>\n",
       "      <td>0</td>\n",
       "      <td>f</td>\n",
       "      <td>Brighton Heights</td>\n",
       "      <td>1</td>\n",
       "      <td>27</td>\n",
       "      <td>42003270800</td>\n",
       "      <td>1</td>\n",
       "      <td>27</td>\n",
       "      <td>1</td>\n",
       "      <td>1-14</td>\n",
       "      <td>40.487497</td>\n",
       "      <td>-80.031773</td>\n",
       "    </tr>\n",
       "    <tr>\n",
       "      <th>15</th>\n",
       "      <td>1083188111</td>\n",
       "      <td>Arsenal Park Tennis Court 3</td>\n",
       "      <td>Tennis</td>\n",
       "      <td>Arsenal Park</td>\n",
       "      <td>NaN</td>\n",
       "      <td>Asphalt</td>\n",
       "      <td>0</td>\n",
       "      <td>f</td>\n",
       "      <td>Lower Lawrenceville</td>\n",
       "      <td>7</td>\n",
       "      <td>6</td>\n",
       "      <td>42003060300</td>\n",
       "      <td>2</td>\n",
       "      <td>6</td>\n",
       "      <td>2</td>\n",
       "      <td>3-3</td>\n",
       "      <td>40.465902</td>\n",
       "      <td>-79.960882</td>\n",
       "    </tr>\n",
       "    <tr>\n",
       "      <th>48</th>\n",
       "      <td>2034859154</td>\n",
       "      <td>East Carnegie Park Basketball Court 1</td>\n",
       "      <td>Basketball (Full)</td>\n",
       "      <td>East Carnegie Park</td>\n",
       "      <td>NaN</td>\n",
       "      <td>Asphalt</td>\n",
       "      <td>0</td>\n",
       "      <td>f</td>\n",
       "      <td>East Carnegie</td>\n",
       "      <td>2</td>\n",
       "      <td>28</td>\n",
       "      <td>42003562800</td>\n",
       "      <td>5</td>\n",
       "      <td>28</td>\n",
       "      <td>6</td>\n",
       "      <td>1-19</td>\n",
       "      <td>40.414503</td>\n",
       "      <td>-80.074882</td>\n",
       "    </tr>\n",
       "    <tr>\n",
       "      <th>225</th>\n",
       "      <td>1066241176</td>\n",
       "      <td>Moore Park Pickleball Court 2</td>\n",
       "      <td>Pickleball</td>\n",
       "      <td>Moore Park</td>\n",
       "      <td>NaN</td>\n",
       "      <td>NaN</td>\n",
       "      <td>0</td>\n",
       "      <td>f</td>\n",
       "      <td>Brookline</td>\n",
       "      <td>4</td>\n",
       "      <td>19</td>\n",
       "      <td>42003191700</td>\n",
       "      <td>5</td>\n",
       "      <td>19</td>\n",
       "      <td>6</td>\n",
       "      <td>4-26</td>\n",
       "      <td>40.404821</td>\n",
       "      <td>-80.014735</td>\n",
       "    </tr>\n",
       "    <tr>\n",
       "      <th>63</th>\n",
       "      <td>1535096593</td>\n",
       "      <td>Fifty-Seventh Street Park Basketball Court 1</td>\n",
       "      <td>Basketball (Full)</td>\n",
       "      <td>Fifty-Seventh Street Park</td>\n",
       "      <td>NaN</td>\n",
       "      <td>Asphalt</td>\n",
       "      <td>0</td>\n",
       "      <td>f</td>\n",
       "      <td>Upper Lawrenceville</td>\n",
       "      <td>7</td>\n",
       "      <td>10</td>\n",
       "      <td>42003101100</td>\n",
       "      <td>2</td>\n",
       "      <td>10</td>\n",
       "      <td>2</td>\n",
       "      <td>3-5</td>\n",
       "      <td>40.485950</td>\n",
       "      <td>-79.946910</td>\n",
       "    </tr>\n",
       "  </tbody>\n",
       "</table>\n",
       "</div>"
      ],
      "text/plain": [
       "             id                                          name  \\\n",
       "208   182857077                Wabash Park Basketball Court 2   \n",
       "163  1324077535                   Oakwood Park Tennis Court 1   \n",
       "65   1573467860                  Fineview Park Tennis Court 1   \n",
       "206  2034927516             Vincennes Park Basketball Court 1   \n",
       "161   779686783               Niagara Park Basketball Court 1   \n",
       "23   1919204105      Brighton Heights Park Basketball Court 1   \n",
       "15   1083188111                   Arsenal Park Tennis Court 3   \n",
       "48   2034859154         East Carnegie Park Basketball Court 1   \n",
       "225  1066241176                 Moore Park Pickleball Court 2   \n",
       "63   1535096593  Fifty-Seventh Street Park Basketball Court 1   \n",
       "\n",
       "                  type                       park location surface_material  \\\n",
       "208  Basketball (Full)                Wabash Park      NaN          Asphalt   \n",
       "163             Tennis               Oakwood Park      NaN          Asphalt   \n",
       "65          Pickleball              Fineview Park      NaN          Asphalt   \n",
       "206  Basketball (Full)             Vincennes Park      NaN          Asphalt   \n",
       "161  Basketball (Half)               Niagara Park      NaN          Asphalt   \n",
       "23   Basketball (Full)      Brighton Heights Park      NaN          Asphalt   \n",
       "15              Tennis               Arsenal Park      NaN          Asphalt   \n",
       "48   Basketball (Full)         East Carnegie Park      NaN          Asphalt   \n",
       "225         Pickleball                 Moore Park      NaN              NaN   \n",
       "63   Basketball (Full)  Fifty-Seventh Street Park      NaN          Asphalt   \n",
       "\n",
       "     grandstand inactive         neighborhood  council_district  ward  \\\n",
       "208           0        f             West End                 2    20   \n",
       "163           0        f              Oakwood                 2    28   \n",
       "65            0        f             Fineview                 1    25   \n",
       "206           0        f          Middle Hill                 6     5   \n",
       "161           0        f        South Oakland                 3     4   \n",
       "23            0        f     Brighton Heights                 1    27   \n",
       "15            0        f  Lower Lawrenceville                 7     6   \n",
       "48            0        f        East Carnegie                 2    28   \n",
       "225           0        f            Brookline                 4    19   \n",
       "63            0        f  Upper Lawrenceville                 7    10   \n",
       "\n",
       "           tract  public_works_division  pli_division  police_zone fire_zone  \\\n",
       "208  42003562600                      5            20            6      1-17   \n",
       "163  42003562800                      5            28            6      1-19   \n",
       "65   42003250900                      1            25            1      1-10   \n",
       "206  42003050100                      3             5            2       2-5   \n",
       "161  42003040900                      3             4            4      2-10   \n",
       "23   42003270800                      1            27            1      1-14   \n",
       "15   42003060300                      2             6            2       3-3   \n",
       "48   42003562800                      5            28            6      1-19   \n",
       "225  42003191700                      5            19            6      4-26   \n",
       "63   42003101100                      2            10            2       3-5   \n",
       "\n",
       "      latitude  longitude  \n",
       "208  40.438175 -80.034126  \n",
       "163  40.426372 -80.066449  \n",
       "65   40.461608 -80.004102  \n",
       "206  40.451205 -79.967705  \n",
       "161  40.434632 -79.960296  \n",
       "23   40.487497 -80.031773  \n",
       "15   40.465902 -79.960882  \n",
       "48   40.414503 -80.074882  \n",
       "225  40.404821 -80.014735  \n",
       "63   40.485950 -79.946910  "
      ]
     },
     "execution_count": 14,
     "metadata": {},
     "output_type": "execute_result"
    }
   ],
   "source": [
    "#Read in Data\n",
    "courts_rinks_data = pd.read_csv(\"cityofpghcourtsandrinks.csv\")\n",
    "courts_rinks_data.sample(10)"
   ]
  },
  {
   "cell_type": "markdown",
   "metadata": {},
   "source": [
    "**Next, I found how many courts/rinks were in each neighborhood using `.value_counts()`. Here is a sample of 20 neighborhoods and the amount of courts/rinks in each.**"
   ]
  },
  {
   "cell_type": "code",
   "execution_count": 15,
   "metadata": {},
   "outputs": [
    {
     "data": {
      "text/html": [
       "<div>\n",
       "<style scoped>\n",
       "    .dataframe tbody tr th:only-of-type {\n",
       "        vertical-align: middle;\n",
       "    }\n",
       "\n",
       "    .dataframe tbody tr th {\n",
       "        vertical-align: top;\n",
       "    }\n",
       "\n",
       "    .dataframe thead th {\n",
       "        text-align: right;\n",
       "    }\n",
       "</style>\n",
       "<table border=\"1\" class=\"dataframe\">\n",
       "  <thead>\n",
       "    <tr style=\"text-align: right;\">\n",
       "      <th></th>\n",
       "      <th>neighborhood</th>\n",
       "    </tr>\n",
       "  </thead>\n",
       "  <tbody>\n",
       "    <tr>\n",
       "      <th>East Liberty</th>\n",
       "      <td>6</td>\n",
       "    </tr>\n",
       "    <tr>\n",
       "      <th>Brighton Heights</th>\n",
       "      <td>2</td>\n",
       "    </tr>\n",
       "    <tr>\n",
       "      <th>Lincoln-Lemington-Belmar</th>\n",
       "      <td>2</td>\n",
       "    </tr>\n",
       "    <tr>\n",
       "      <th>Oakwood</th>\n",
       "      <td>3</td>\n",
       "    </tr>\n",
       "    <tr>\n",
       "      <th>Bedford Dwellings</th>\n",
       "      <td>2</td>\n",
       "    </tr>\n",
       "    <tr>\n",
       "      <th>Upper Lawrenceville</th>\n",
       "      <td>2</td>\n",
       "    </tr>\n",
       "    <tr>\n",
       "      <th>New Homestead</th>\n",
       "      <td>2</td>\n",
       "    </tr>\n",
       "    <tr>\n",
       "      <th>Hays</th>\n",
       "      <td>1</td>\n",
       "    </tr>\n",
       "    <tr>\n",
       "      <th>Allegheny Center</th>\n",
       "      <td>9</td>\n",
       "    </tr>\n",
       "    <tr>\n",
       "      <th>Upper Hill</th>\n",
       "      <td>1</td>\n",
       "    </tr>\n",
       "    <tr>\n",
       "      <th>South Side Flats</th>\n",
       "      <td>5</td>\n",
       "    </tr>\n",
       "    <tr>\n",
       "      <th>Spring Hill-City View</th>\n",
       "      <td>4</td>\n",
       "    </tr>\n",
       "    <tr>\n",
       "      <th>Swisshelm Park</th>\n",
       "      <td>2</td>\n",
       "    </tr>\n",
       "    <tr>\n",
       "      <th>Point Breeze</th>\n",
       "      <td>2</td>\n",
       "    </tr>\n",
       "    <tr>\n",
       "      <th>Polish Hill</th>\n",
       "      <td>1</td>\n",
       "    </tr>\n",
       "    <tr>\n",
       "      <th>Beltzhoover</th>\n",
       "      <td>9</td>\n",
       "    </tr>\n",
       "    <tr>\n",
       "      <th>Mount Washington</th>\n",
       "      <td>5</td>\n",
       "    </tr>\n",
       "    <tr>\n",
       "      <th>Stanton Heights</th>\n",
       "      <td>2</td>\n",
       "    </tr>\n",
       "    <tr>\n",
       "      <th>West End</th>\n",
       "      <td>2</td>\n",
       "    </tr>\n",
       "    <tr>\n",
       "      <th>Terrace Village</th>\n",
       "      <td>5</td>\n",
       "    </tr>\n",
       "  </tbody>\n",
       "</table>\n",
       "</div>"
      ],
      "text/plain": [
       "                          neighborhood\n",
       "East Liberty                         6\n",
       "Brighton Heights                     2\n",
       "Lincoln-Lemington-Belmar             2\n",
       "Oakwood                              3\n",
       "Bedford Dwellings                    2\n",
       "Upper Lawrenceville                  2\n",
       "New Homestead                        2\n",
       "Hays                                 1\n",
       "Allegheny Center                     9\n",
       "Upper Hill                           1\n",
       "South Side Flats                     5\n",
       "Spring Hill-City View                4\n",
       "Swisshelm Park                       2\n",
       "Point Breeze                         2\n",
       "Polish Hill                          1\n",
       "Beltzhoover                          9\n",
       "Mount Washington                     5\n",
       "Stanton Heights                      2\n",
       "West End                             2\n",
       "Terrace Village                      5"
      ]
     },
     "execution_count": 15,
     "metadata": {},
     "output_type": "execute_result"
    }
   ],
   "source": [
    "#Courts and Rinks Per Neighborhood\n",
    "\n",
    "courts_values = courts_rinks_data['neighborhood'].value_counts()\n",
    "courts_and_rinks = pd.DataFrame(courts_values)\n",
    "\n",
    "courts_and_rinks.sample(20)"
   ]
  },
  {
   "cell_type": "markdown",
   "metadata": {},
   "source": [
    "**Here is the top 8 neighborhoods with the most courts/rinks with some neighborhoods forming a tie for the amount of courts/rinks. From this I found the top 6 rankings for most courts/rinks per neighborhood.**"
   ]
  },
  {
   "cell_type": "code",
   "execution_count": 16,
   "metadata": {},
   "outputs": [
    {
     "data": {
      "text/html": [
       "<div>\n",
       "<style scoped>\n",
       "    .dataframe tbody tr th:only-of-type {\n",
       "        vertical-align: middle;\n",
       "    }\n",
       "\n",
       "    .dataframe tbody tr th {\n",
       "        vertical-align: top;\n",
       "    }\n",
       "\n",
       "    .dataframe thead th {\n",
       "        text-align: right;\n",
       "    }\n",
       "</style>\n",
       "<table border=\"1\" class=\"dataframe\">\n",
       "  <thead>\n",
       "    <tr style=\"text-align: right;\">\n",
       "      <th></th>\n",
       "      <th>neighborhood</th>\n",
       "    </tr>\n",
       "  </thead>\n",
       "  <tbody>\n",
       "    <tr>\n",
       "      <th>Squirrel Hill South</th>\n",
       "      <td>26</td>\n",
       "    </tr>\n",
       "    <tr>\n",
       "      <th>Highland Park</th>\n",
       "      <td>20</td>\n",
       "    </tr>\n",
       "    <tr>\n",
       "      <th>Hazelwood</th>\n",
       "      <td>10</td>\n",
       "    </tr>\n",
       "    <tr>\n",
       "      <th>Beltzhoover</th>\n",
       "      <td>9</td>\n",
       "    </tr>\n",
       "    <tr>\n",
       "      <th>Brookline</th>\n",
       "      <td>9</td>\n",
       "    </tr>\n",
       "    <tr>\n",
       "      <th>Allegheny Center</th>\n",
       "      <td>9</td>\n",
       "    </tr>\n",
       "    <tr>\n",
       "      <th>Troy Hill</th>\n",
       "      <td>8</td>\n",
       "    </tr>\n",
       "    <tr>\n",
       "      <th>Beechview</th>\n",
       "      <td>7</td>\n",
       "    </tr>\n",
       "  </tbody>\n",
       "</table>\n",
       "</div>"
      ],
      "text/plain": [
       "                     neighborhood\n",
       "Squirrel Hill South            26\n",
       "Highland Park                  20\n",
       "Hazelwood                      10\n",
       "Beltzhoover                     9\n",
       "Brookline                       9\n",
       "Allegheny Center                9\n",
       "Troy Hill                       8\n",
       "Beechview                       7"
      ]
     },
     "execution_count": 16,
     "metadata": {},
     "output_type": "execute_result"
    }
   ],
   "source": [
    "courts_and_rinks.head(8)"
   ]
  },
  {
   "cell_type": "markdown",
   "metadata": {},
   "source": [
    "**Next, I performed a statistical analysis of the data frame using `.describe()`. Notice that the average number of courts/rinks is 3.9, so about 4 courts/rinks per neighborhood. The maximum number of courts/rinks per neighborhood is 26 courts/rinks.**"
   ]
  },
  {
   "cell_type": "code",
   "execution_count": 17,
   "metadata": {},
   "outputs": [
    {
     "data": {
      "text/html": [
       "<div>\n",
       "<style scoped>\n",
       "    .dataframe tbody tr th:only-of-type {\n",
       "        vertical-align: middle;\n",
       "    }\n",
       "\n",
       "    .dataframe tbody tr th {\n",
       "        vertical-align: top;\n",
       "    }\n",
       "\n",
       "    .dataframe thead th {\n",
       "        text-align: right;\n",
       "    }\n",
       "</style>\n",
       "<table border=\"1\" class=\"dataframe\">\n",
       "  <thead>\n",
       "    <tr style=\"text-align: right;\">\n",
       "      <th></th>\n",
       "      <th>neighborhood</th>\n",
       "    </tr>\n",
       "  </thead>\n",
       "  <tbody>\n",
       "    <tr>\n",
       "      <th>count</th>\n",
       "      <td>63.000000</td>\n",
       "    </tr>\n",
       "    <tr>\n",
       "      <th>mean</th>\n",
       "      <td>3.904762</td>\n",
       "    </tr>\n",
       "    <tr>\n",
       "      <th>std</th>\n",
       "      <td>4.260525</td>\n",
       "    </tr>\n",
       "    <tr>\n",
       "      <th>min</th>\n",
       "      <td>1.000000</td>\n",
       "    </tr>\n",
       "    <tr>\n",
       "      <th>25%</th>\n",
       "      <td>2.000000</td>\n",
       "    </tr>\n",
       "    <tr>\n",
       "      <th>50%</th>\n",
       "      <td>2.000000</td>\n",
       "    </tr>\n",
       "    <tr>\n",
       "      <th>75%</th>\n",
       "      <td>5.000000</td>\n",
       "    </tr>\n",
       "    <tr>\n",
       "      <th>max</th>\n",
       "      <td>26.000000</td>\n",
       "    </tr>\n",
       "  </tbody>\n",
       "</table>\n",
       "</div>"
      ],
      "text/plain": [
       "       neighborhood\n",
       "count     63.000000\n",
       "mean       3.904762\n",
       "std        4.260525\n",
       "min        1.000000\n",
       "25%        2.000000\n",
       "50%        2.000000\n",
       "75%        5.000000\n",
       "max       26.000000"
      ]
     },
     "execution_count": 17,
     "metadata": {},
     "output_type": "execute_result"
    }
   ],
   "source": [
    "courts_and_rinks.describe()"
   ]
  },
  {
   "cell_type": "markdown",
   "metadata": {},
   "source": [
    "**Next, I put the top neighborhoods and top quantities into lists and then a Series and then plotted this Series using a bar chart, showing the amount of parks in each of these top neighborhoods. Squirrel Hill South has the most courts/rinks with 26 courts/rinks.**"
   ]
  },
  {
   "cell_type": "code",
   "execution_count": 18,
   "metadata": {},
   "outputs": [
    {
     "data": {
      "text/plain": [
       "<matplotlib.axes._subplots.AxesSubplot at 0x7f40b2f24460>"
      ]
     },
     "execution_count": 18,
     "metadata": {},
     "output_type": "execute_result"
    },
    {
     "data": {
      "image/png": "[encoded data removed]",
      "text/plain": [
       "<Figure size 1872x576 with 1 Axes>"
      ]
     },
     "metadata": {
      "needs_background": "light"
     },
     "output_type": "display_data"
    }
   ],
   "source": [
    "#Top Neighborhoods Graph\n",
    "top_n2 = ['Squirrel Hill South','Highland Park','Hazelwood','Brookline','Allegheny Center','Beltzhoover','Troy Hill','Beechview']\n",
    "\n",
    "courts_and_rinks.head(8).plot.bar(rot=0, figsize=[26,8])"
   ]
  },
  {
   "cell_type": "markdown",
   "metadata": {},
   "source": [
    "**Neighborhoods with the Most Courts/Rinks Ranking**\n",
    "1. **Squirrel Hill South**\n",
    "2. **Highland Park**\n",
    "3. **Hazelwood**\n",
    "4. **Brookline, Allegheny Center, and Beltzhoover**\n",
    "5. **Troy Hill**\n",
    "6. **Beechview**"
   ]
  },
  {
   "cell_type": "markdown",
   "metadata": {},
   "source": [
    "**Afer forming this ranking, I wanted to analyze a different aspect of this data set. I found the amount of each type of court or rink there is in the City of Pittsburgh. The most common type is a Basketball (Full) court, with the City of Pittsburgh having 88 Basketball (Full) courts.**"
   ]
  },
  {
   "cell_type": "code",
   "execution_count": 19,
   "metadata": {},
   "outputs": [
    {
     "data": {
      "text/html": [
       "<div>\n",
       "<style scoped>\n",
       "    .dataframe tbody tr th:only-of-type {\n",
       "        vertical-align: middle;\n",
       "    }\n",
       "\n",
       "    .dataframe tbody tr th {\n",
       "        vertical-align: top;\n",
       "    }\n",
       "\n",
       "    .dataframe thead th {\n",
       "        text-align: right;\n",
       "    }\n",
       "</style>\n",
       "<table border=\"1\" class=\"dataframe\">\n",
       "  <thead>\n",
       "    <tr style=\"text-align: right;\">\n",
       "      <th></th>\n",
       "      <th>type</th>\n",
       "    </tr>\n",
       "  </thead>\n",
       "  <tbody>\n",
       "    <tr>\n",
       "      <th>Basketball (Full)</th>\n",
       "      <td>88</td>\n",
       "    </tr>\n",
       "    <tr>\n",
       "      <th>Tennis</th>\n",
       "      <td>73</td>\n",
       "    </tr>\n",
       "    <tr>\n",
       "      <th>Basketball (Half)</th>\n",
       "      <td>23</td>\n",
       "    </tr>\n",
       "    <tr>\n",
       "      <th>Hockey</th>\n",
       "      <td>14</td>\n",
       "    </tr>\n",
       "    <tr>\n",
       "      <th>Pickleball</th>\n",
       "      <td>12</td>\n",
       "    </tr>\n",
       "    <tr>\n",
       "      <th>Street Hockey</th>\n",
       "      <td>8</td>\n",
       "    </tr>\n",
       "    <tr>\n",
       "      <th>Bocce</th>\n",
       "      <td>8</td>\n",
       "    </tr>\n",
       "    <tr>\n",
       "      <th>General Sports</th>\n",
       "      <td>6</td>\n",
       "    </tr>\n",
       "    <tr>\n",
       "      <th>Dek Hockey</th>\n",
       "      <td>5</td>\n",
       "    </tr>\n",
       "    <tr>\n",
       "      <th>Volleyball</th>\n",
       "      <td>5</td>\n",
       "    </tr>\n",
       "    <tr>\n",
       "      <th>Lawn Bowling</th>\n",
       "      <td>2</td>\n",
       "    </tr>\n",
       "    <tr>\n",
       "      <th>Horseshoe Pit</th>\n",
       "      <td>2</td>\n",
       "    </tr>\n",
       "  </tbody>\n",
       "</table>\n",
       "</div>"
      ],
      "text/plain": [
       "                   type\n",
       "Basketball (Full)    88\n",
       "Tennis               73\n",
       "Basketball (Half)    23\n",
       "Hockey               14\n",
       "Pickleball           12\n",
       "Street Hockey         8\n",
       "Bocce                 8\n",
       "General Sports        6\n",
       "Dek Hockey            5\n",
       "Volleyball            5\n",
       "Lawn Bowling          2\n",
       "Horseshoe Pit         2"
      ]
     },
     "execution_count": 19,
     "metadata": {},
     "output_type": "execute_result"
    }
   ],
   "source": [
    "#Number of Each Type of Court/Rink \n",
    "\n",
    "court_types = courts_rinks_data['type'].value_counts()\n",
    "types = pd.DataFrame(court_types)\n",
    "\n",
    "types"
   ]
  },
  {
   "cell_type": "markdown",
   "metadata": {},
   "source": [
    "**Here are the top five types of court/rink in the data set.**"
   ]
  },
  {
   "cell_type": "code",
   "execution_count": 20,
   "metadata": {},
   "outputs": [
    {
     "data": {
      "text/html": [
       "<div>\n",
       "<style scoped>\n",
       "    .dataframe tbody tr th:only-of-type {\n",
       "        vertical-align: middle;\n",
       "    }\n",
       "\n",
       "    .dataframe tbody tr th {\n",
       "        vertical-align: top;\n",
       "    }\n",
       "\n",
       "    .dataframe thead th {\n",
       "        text-align: right;\n",
       "    }\n",
       "</style>\n",
       "<table border=\"1\" class=\"dataframe\">\n",
       "  <thead>\n",
       "    <tr style=\"text-align: right;\">\n",
       "      <th></th>\n",
       "      <th>type</th>\n",
       "    </tr>\n",
       "  </thead>\n",
       "  <tbody>\n",
       "    <tr>\n",
       "      <th>Basketball (Full)</th>\n",
       "      <td>88</td>\n",
       "    </tr>\n",
       "    <tr>\n",
       "      <th>Tennis</th>\n",
       "      <td>73</td>\n",
       "    </tr>\n",
       "    <tr>\n",
       "      <th>Basketball (Half)</th>\n",
       "      <td>23</td>\n",
       "    </tr>\n",
       "    <tr>\n",
       "      <th>Hockey</th>\n",
       "      <td>14</td>\n",
       "    </tr>\n",
       "    <tr>\n",
       "      <th>Pickleball</th>\n",
       "      <td>12</td>\n",
       "    </tr>\n",
       "  </tbody>\n",
       "</table>\n",
       "</div>"
      ],
      "text/plain": [
       "                   type\n",
       "Basketball (Full)    88\n",
       "Tennis               73\n",
       "Basketball (Half)    23\n",
       "Hockey               14\n",
       "Pickleball           12"
      ]
     },
     "execution_count": 20,
     "metadata": {},
     "output_type": "execute_result"
    }
   ],
   "source": [
    "types.head(5)"
   ]
  },
  {
   "cell_type": "markdown",
   "metadata": {},
   "source": [
    "**Here is a graph containing all of the different types of court/rink nad how many of each are in the data set.**"
   ]
  },
  {
   "cell_type": "code",
   "execution_count": 21,
   "metadata": {},
   "outputs": [
    {
     "data": {
      "text/plain": [
       "<matplotlib.axes._subplots.AxesSubplot at 0x7f40b2e972e0>"
      ]
     },
     "execution_count": 21,
     "metadata": {},
     "output_type": "execute_result"
    },
    {
     "data": {
      "image/png": "[encoded data removed]",
      "text/plain": [
       "<Figure size 1152x576 with 1 Axes>"
      ]
     },
     "metadata": {
      "needs_background": "light"
     },
     "output_type": "display_data"
    }
   ],
   "source": [
    "#Types of Court/Rink Graph\n",
    "\n",
    "types.plot.bar(rot=0, figsize=[16,8])"
   ]
  },
  {
   "cell_type": "markdown",
   "metadata": {},
   "source": [
    "**Here is a graph of the top five types of court or rink in the City of Pittsburgh.**"
   ]
  },
  {
   "cell_type": "code",
   "execution_count": 22,
   "metadata": {},
   "outputs": [
    {
     "data": {
      "text/plain": [
       "<matplotlib.axes._subplots.AxesSubplot at 0x7f40b2e1fee0>"
      ]
     },
     "execution_count": 22,
     "metadata": {},
     "output_type": "execute_result"
    },
    {
     "data": {
      "image/png": "[encoded data removed]",
      "text/plain": [
       "<Figure size 720x432 with 1 Axes>"
      ]
     },
     "metadata": {
      "needs_background": "light"
     },
     "output_type": "display_data"
    }
   ],
   "source": [
    "types.head(5).plot.bar(rot=0, figsize=[10,6])"
   ]
  },
  {
   "cell_type": "markdown",
   "metadata": {},
   "source": [
    "**Using the information I collected about the most commo types of court or rink, I put the neighborhoods into categories based on which type of court or rink a neighborhood has.**"
   ]
  },
  {
   "cell_type": "code",
   "execution_count": 32,
   "metadata": {},
   "outputs": [
    {
     "data": {
      "text/html": [
       "<div>\n",
       "<style scoped>\n",
       "    .dataframe tbody tr th:only-of-type {\n",
       "        vertical-align: middle;\n",
       "    }\n",
       "\n",
       "    .dataframe tbody tr th {\n",
       "        vertical-align: top;\n",
       "    }\n",
       "\n",
       "    .dataframe thead th {\n",
       "        text-align: right;\n",
       "    }\n",
       "</style>\n",
       "<table border=\"1\" class=\"dataframe\">\n",
       "  <thead>\n",
       "    <tr style=\"text-align: right;\">\n",
       "      <th></th>\n",
       "      <th>type</th>\n",
       "      <th>neighborhood</th>\n",
       "    </tr>\n",
       "  </thead>\n",
       "  <tbody>\n",
       "    <tr>\n",
       "      <th>0</th>\n",
       "      <td>Basketball (Full)</td>\n",
       "      <td>Allegheny Center</td>\n",
       "    </tr>\n",
       "    <tr>\n",
       "      <th>1</th>\n",
       "      <td>Tennis</td>\n",
       "      <td>Allegheny Center</td>\n",
       "    </tr>\n",
       "    <tr>\n",
       "      <th>2</th>\n",
       "      <td>Tennis</td>\n",
       "      <td>Allegheny Center</td>\n",
       "    </tr>\n",
       "    <tr>\n",
       "      <th>3</th>\n",
       "      <td>Tennis</td>\n",
       "      <td>Allegheny Center</td>\n",
       "    </tr>\n",
       "    <tr>\n",
       "      <th>4</th>\n",
       "      <td>Basketball (Half)</td>\n",
       "      <td>Beechview</td>\n",
       "    </tr>\n",
       "    <tr>\n",
       "      <th>5</th>\n",
       "      <td>Basketball (Full)</td>\n",
       "      <td>Beechview</td>\n",
       "    </tr>\n",
       "    <tr>\n",
       "      <th>6</th>\n",
       "      <td>Basketball (Full)</td>\n",
       "      <td>Bedford Dwellings</td>\n",
       "    </tr>\n",
       "    <tr>\n",
       "      <th>7</th>\n",
       "      <td>Basketball (Full)</td>\n",
       "      <td>Bedford Dwellings</td>\n",
       "    </tr>\n",
       "    <tr>\n",
       "      <th>8</th>\n",
       "      <td>Basketball (Full)</td>\n",
       "      <td>South Side Slopes</td>\n",
       "    </tr>\n",
       "    <tr>\n",
       "      <th>9</th>\n",
       "      <td>Basketball (Full)</td>\n",
       "      <td>South Side Flats</td>\n",
       "    </tr>\n",
       "    <tr>\n",
       "      <th>10</th>\n",
       "      <td>General Sports</td>\n",
       "      <td>South Side Flats</td>\n",
       "    </tr>\n",
       "    <tr>\n",
       "      <th>11</th>\n",
       "      <td>Basketball (Full)</td>\n",
       "      <td>Lower Lawrenceville</td>\n",
       "    </tr>\n",
       "    <tr>\n",
       "      <th>12</th>\n",
       "      <td>Street Hockey</td>\n",
       "      <td>Lower Lawrenceville</td>\n",
       "    </tr>\n",
       "    <tr>\n",
       "      <th>13</th>\n",
       "      <td>Tennis</td>\n",
       "      <td>Lower Lawrenceville</td>\n",
       "    </tr>\n",
       "    <tr>\n",
       "      <th>14</th>\n",
       "      <td>Tennis</td>\n",
       "      <td>Lower Lawrenceville</td>\n",
       "    </tr>\n",
       "    <tr>\n",
       "      <th>15</th>\n",
       "      <td>Tennis</td>\n",
       "      <td>Lower Lawrenceville</td>\n",
       "    </tr>\n",
       "    <tr>\n",
       "      <th>16</th>\n",
       "      <td>Tennis</td>\n",
       "      <td>Lower Lawrenceville</td>\n",
       "    </tr>\n",
       "    <tr>\n",
       "      <th>17</th>\n",
       "      <td>Basketball (Half)</td>\n",
       "      <td>Crawford-Roberts</td>\n",
       "    </tr>\n",
       "    <tr>\n",
       "      <th>18</th>\n",
       "      <td>Basketball (Full)</td>\n",
       "      <td>Banksville</td>\n",
       "    </tr>\n",
       "    <tr>\n",
       "      <th>19</th>\n",
       "      <td>Dek Hockey</td>\n",
       "      <td>Banksville</td>\n",
       "    </tr>\n",
       "  </tbody>\n",
       "</table>\n",
       "</div>"
      ],
      "text/plain": [
       "                 type         neighborhood\n",
       "0   Basketball (Full)     Allegheny Center\n",
       "1              Tennis     Allegheny Center\n",
       "2              Tennis     Allegheny Center\n",
       "3              Tennis     Allegheny Center\n",
       "4   Basketball (Half)            Beechview\n",
       "5   Basketball (Full)            Beechview\n",
       "6   Basketball (Full)    Bedford Dwellings\n",
       "7   Basketball (Full)    Bedford Dwellings\n",
       "8   Basketball (Full)    South Side Slopes\n",
       "9   Basketball (Full)     South Side Flats\n",
       "10     General Sports     South Side Flats\n",
       "11  Basketball (Full)  Lower Lawrenceville\n",
       "12      Street Hockey  Lower Lawrenceville\n",
       "13             Tennis  Lower Lawrenceville\n",
       "14             Tennis  Lower Lawrenceville\n",
       "15             Tennis  Lower Lawrenceville\n",
       "16             Tennis  Lower Lawrenceville\n",
       "17  Basketball (Half)     Crawford-Roberts\n",
       "18  Basketball (Full)           Banksville\n",
       "19         Dek Hockey           Banksville"
      ]
     },
     "execution_count": 32,
     "metadata": {},
     "output_type": "execute_result"
    }
   ],
   "source": [
    "#Neighborhoods With Each Type of Court/Rink\n",
    "courts_data2 = pd.read_csv(\"cityofpghcourtsandrinks.csv\",usecols=['neighborhood','type'])\n",
    "df_courts = courts_data2.head(60)\n",
    "df_courts.head(20)"
   ]
  },
  {
   "cell_type": "markdown",
   "metadata": {},
   "source": [
    "**After looking at all the neighborhoods, I then found which top neighborhoods from the earlier ranking were in each of the top court or rink types.**"
   ]
  },
  {
   "cell_type": "markdown",
   "metadata": {},
   "source": [
    "**Here I am using `.groupby()` and `.value_counts()` on the data frame with both type and court/rink counts to figure out which top neighborhoods are in top types.**"
   ]
  },
  {
   "cell_type": "code",
   "execution_count": 30,
   "metadata": {},
   "outputs": [
    {
     "data": {
      "text/plain": [
       "type               neighborhood            \n",
       "Basketball (Full)  Allegheny Center            1\n",
       "                   Allentown                   1\n",
       "                   Banksville                  1\n",
       "                   Bedford Dwellings           2\n",
       "                   Beechview                   1\n",
       "                   Brighton Heights            1\n",
       "                   Brookline                   1\n",
       "                   Crafton Heights             1\n",
       "                   East Carnegie               1\n",
       "                   East Hills                  2\n",
       "                   East Liberty                1\n",
       "                   Hazelwood                   2\n",
       "                   Homewood West               1\n",
       "                   Lincoln-Lemington-Belmar    1\n",
       "                   Lower Lawrenceville         1\n",
       "                   Mount Washington            2\n",
       "                   South Side Flats            1\n",
       "                   South Side Slopes           2\n",
       "                   Squirrel Hill South         2\n",
       "                   Troy Hill                   2\n",
       "Basketball (Half)  Beechview                   1\n",
       "                   Crawford-Roberts            1\n",
       "                   Duquesne Heights            1\n",
       "                   Perry South                 1\n",
       "                   South Side Slopes           1\n",
       "                   Strip District              1\n",
       "Dek Hockey         Banksville                  1\n",
       "                   Brookline                   1\n",
       "General Sports     East Carnegie               1\n",
       "                   South Side Flats            1\n",
       "                   Squirrel Hill South         1\n",
       "Hockey             Bon Air                     1\n",
       "                   Central Oakland             1\n",
       "                   Duquesne Heights            1\n",
       "                   Hazelwood                   2\n",
       "                   Mount Washington            1\n",
       "                   Squirrel Hill South         1\n",
       "                   Stanton Heights             1\n",
       "Street Hockey      Hazelwood                   1\n",
       "                   Lower Lawrenceville         1\n",
       "                   Upper Lawrenceville         1\n",
       "Tennis             Allegheny Center            3\n",
       "                   Banksville                  1\n",
       "                   Hazelwood                   1\n",
       "                   Lower Lawrenceville         4\n",
       "                   Squirrel Hill South         1\n",
       "                   Stanton Heights             1\n",
       "dtype: int64"
      ]
     },
     "execution_count": 30,
     "metadata": {},
     "output_type": "execute_result"
    }
   ],
   "source": [
    "#Top Neighborhoods in Top Court/Rink Types\n",
    "df_courts.groupby(['type','neighborhood']).value_counts()"
   ]
  },
  {
   "cell_type": "markdown",
   "metadata": {},
   "source": [
    "**Note that here is only a section of the data, I examined more data than this to formulate a ranking.**"
   ]
  },
  {
   "cell_type": "markdown",
   "metadata": {},
   "source": [
    "**Notice that most top neighborhoods have Basketball (Full) and Tennis courts (court/rink types 1 and 2). The second most common court/rink type is Basketball (Half) courts/rinks with the second most top neighborhoods having that type. Here is a new ranking of neighborhoods based on top court/rink types and most top neighborhoods within them, using amount of courts/rinks in each neighborhood and how many repeats of the neighborhood in top types there are to break ties.**"
   ]
  },
  {
   "cell_type": "markdown",
   "metadata": {},
   "source": [
    "**New Ranking Based on Court/Rink Types:**\n",
    "1. **Squirrel Hill South**\n",
    "2. **Highland Park**\n",
    "3. **Hazelwood**\n",
    "4. **Allegheny Center and Brookline**\n",
    "5. **Beltzhoover**\n",
    "6. **Troy Hill**\n",
    "7. **Beechview**"
   ]
  },
  {
   "cell_type": "markdown",
   "metadata": {},
   "source": [
    "**Notice that the ranking did not change very much based on the criteria, with only Beltzhoover moving down a level. Therefore, we could infer that most neighborhoods have common types of courts and rinks, so either ranking of neighborhoods will result in a list of high quality neighborhoods with access to courts and rinks that are also high quality.**"
   ]
  },
  {
   "cell_type": "markdown",
   "metadata": {},
   "source": [
    "### **Summary of City of Pittsburgh Courts and Rinks**\n",
    "\n",
    "**Overall winner for this data set is Squirrel Hill South, ranked first place for having the most courts/rinks with 26 court/rinks. Squirrel Hill South has various court types including Basketball (Full), Tennis, Hockey, and Pickle Ball. The most common type of court is a Basketball (Full) court with the City of Pittsburgh having 88 full basketball courts. The average number of courts or rinks per neighborhood is about 4 courts/rinks.**"
   ]
  },
  {
   "cell_type": "markdown",
   "metadata": {},
   "source": [
    "### My Comparison of the Data Sets"
   ]
  },
  {
   "cell_type": "markdown",
   "metadata": {},
   "source": [
    "**After analyzing both of these data sets, some neighborhoods appeared in the top rankings of both data sets after performing my analysis. These neighborhoods are Beechview, Hazelwood, Squirrel Hill South, and Troy Hill. These neighborhoods could be considered other good neighborhoods to live in for children because they rank well in access to park and access to courts and rinks. Playing various sports on different courts and rinks and spending time outside in a park is beneficial to children's health and well being.**"
   ]
  },
  {
   "cell_type": "markdown",
   "metadata": {},
   "source": [
    "**To demonstrate the overlap of the two data sets, I looked at the 'park' column in the courts and rinks data set to see which parks were located in which neighborhoods.**"
   ]
  },
  {
   "cell_type": "code",
   "execution_count": 24,
   "metadata": {},
   "outputs": [
    {
     "data": {
      "text/html": [
       "<div>\n",
       "<style scoped>\n",
       "    .dataframe tbody tr th:only-of-type {\n",
       "        vertical-align: middle;\n",
       "    }\n",
       "\n",
       "    .dataframe tbody tr th {\n",
       "        vertical-align: top;\n",
       "    }\n",
       "\n",
       "    .dataframe thead th {\n",
       "        text-align: right;\n",
       "    }\n",
       "</style>\n",
       "<table border=\"1\" class=\"dataframe\">\n",
       "  <thead>\n",
       "    <tr style=\"text-align: right;\">\n",
       "      <th></th>\n",
       "      <th>park</th>\n",
       "      <th>neighborhood</th>\n",
       "    </tr>\n",
       "  </thead>\n",
       "  <tbody>\n",
       "    <tr>\n",
       "      <th>70</th>\n",
       "      <td>Frazier Park</td>\n",
       "      <td>South Oakland</td>\n",
       "    </tr>\n",
       "    <tr>\n",
       "      <th>139</th>\n",
       "      <td>McBride Park</td>\n",
       "      <td>Lincoln Place</td>\n",
       "    </tr>\n",
       "    <tr>\n",
       "      <th>226</th>\n",
       "      <td>Schenley Park</td>\n",
       "      <td>Squirrel Hill South</td>\n",
       "    </tr>\n",
       "    <tr>\n",
       "      <th>233</th>\n",
       "      <td>Washington's Landing Park</td>\n",
       "      <td>Troy Hill</td>\n",
       "    </tr>\n",
       "    <tr>\n",
       "      <th>63</th>\n",
       "      <td>Fifty-Seventh Street Park</td>\n",
       "      <td>Upper Lawrenceville</td>\n",
       "    </tr>\n",
       "    <tr>\n",
       "      <th>137</th>\n",
       "      <td>McBride Park</td>\n",
       "      <td>Lincoln Place</td>\n",
       "    </tr>\n",
       "    <tr>\n",
       "      <th>73</th>\n",
       "      <td>Frick Park</td>\n",
       "      <td>Point Breeze</td>\n",
       "    </tr>\n",
       "    <tr>\n",
       "      <th>28</th>\n",
       "      <td>Burgwin Park</td>\n",
       "      <td>Hazelwood</td>\n",
       "    </tr>\n",
       "    <tr>\n",
       "      <th>1</th>\n",
       "      <td>Allegheny Commons</td>\n",
       "      <td>Allegheny Center</td>\n",
       "    </tr>\n",
       "    <tr>\n",
       "      <th>0</th>\n",
       "      <td>Allegheny Commons</td>\n",
       "      <td>Allegheny Center</td>\n",
       "    </tr>\n",
       "  </tbody>\n",
       "</table>\n",
       "</div>"
      ],
      "text/plain": [
       "                          park         neighborhood\n",
       "70                Frazier Park        South Oakland\n",
       "139               McBride Park        Lincoln Place\n",
       "226              Schenley Park  Squirrel Hill South\n",
       "233  Washington's Landing Park            Troy Hill\n",
       "63   Fifty-Seventh Street Park  Upper Lawrenceville\n",
       "137               McBride Park        Lincoln Place\n",
       "73                  Frick Park         Point Breeze\n",
       "28                Burgwin Park            Hazelwood\n",
       "1            Allegheny Commons     Allegheny Center\n",
       "0            Allegheny Commons     Allegheny Center"
      ]
     },
     "execution_count": 24,
     "metadata": {},
     "output_type": "execute_result"
    }
   ],
   "source": [
    "courts_new_data = pd.read_csv(\"cityofpghcourtsandrinks.csv\",usecols = ['neighborhood','park'])\n",
    "\n",
    "courts_new_data.sample(10)"
   ]
  },
  {
   "cell_type": "markdown",
   "metadata": {},
   "source": [
    "**Here are the parks most present in the courts and rinks data set and a graph representing this. Highland Park shows up 18 times in the data set, meaning that many of the courts and rinks are located in that park.** "
   ]
  },
  {
   "cell_type": "code",
   "execution_count": 15,
   "metadata": {},
   "outputs": [
    {
     "data": {
      "text/html": [
       "<div>\n",
       "<style scoped>\n",
       "    .dataframe tbody tr th:only-of-type {\n",
       "        vertical-align: middle;\n",
       "    }\n",
       "\n",
       "    .dataframe tbody tr th {\n",
       "        vertical-align: top;\n",
       "    }\n",
       "\n",
       "    .dataframe thead th {\n",
       "        text-align: right;\n",
       "    }\n",
       "</style>\n",
       "<table border=\"1\" class=\"dataframe\">\n",
       "  <thead>\n",
       "    <tr style=\"text-align: right;\">\n",
       "      <th></th>\n",
       "      <th>park</th>\n",
       "    </tr>\n",
       "  </thead>\n",
       "  <tbody>\n",
       "    <tr>\n",
       "      <th>Highland Park</th>\n",
       "      <td>18</td>\n",
       "    </tr>\n",
       "    <tr>\n",
       "      <th>Schenley Park</th>\n",
       "      <td>16</td>\n",
       "    </tr>\n",
       "    <tr>\n",
       "      <th>Frick Park</th>\n",
       "      <td>13</td>\n",
       "    </tr>\n",
       "    <tr>\n",
       "      <th>Allegheny Commons</th>\n",
       "      <td>9</td>\n",
       "    </tr>\n",
       "    <tr>\n",
       "      <th>McKinley Park</th>\n",
       "      <td>8</td>\n",
       "    </tr>\n",
       "    <tr>\n",
       "      <th>Moore Park</th>\n",
       "      <td>7</td>\n",
       "    </tr>\n",
       "  </tbody>\n",
       "</table>\n",
       "</div>"
      ],
      "text/plain": [
       "                   park\n",
       "Highland Park        18\n",
       "Schenley Park        16\n",
       "Frick Park           13\n",
       "Allegheny Commons     9\n",
       "McKinley Park         8\n",
       "Moore Park            7"
      ]
     },
     "execution_count": 15,
     "metadata": {},
     "output_type": "execute_result"
    }
   ],
   "source": [
    "courts_new_data_values = courts_new_data['park'].value_counts()\n",
    "new_courts = pd.DataFrame(courts_new_data_values)\n",
    "new_courts.head(6)"
   ]
  },
  {
   "cell_type": "code",
   "execution_count": 16,
   "metadata": {},
   "outputs": [
    {
     "data": {
      "text/plain": [
       "<matplotlib.axes._subplots.AxesSubplot at 0x7fbd4dd852e0>"
      ]
     },
     "execution_count": 16,
     "metadata": {},
     "output_type": "execute_result"
    },
    {
     "data": {
      "image/png": "[encoded data removed]",
      "text/plain": [
       "<Figure size 1440x576 with 1 Axes>"
      ]
     },
     "metadata": {
      "needs_background": "light"
     },
     "output_type": "display_data"
    }
   ],
   "source": [
    "new_courts.head(10).plot.bar(rot=0,figsize=[20,8])"
   ]
  },
  {
   "cell_type": "markdown",
   "metadata": {},
   "source": [
    "**Highland Park is present the most in the courts and rinks data set, located in the Highland Park neighborhood. Schenley Park is the second most present, overlapping the neighborhoods of Oakland, Squirrel Hill, and Greenfield.**"
   ]
  },
  {
   "cell_type": "markdown",
   "metadata": {},
   "source": [
    "**Here are the parks that are in the Squirrel Hill South neighborhood using the park column in the courts and rinks data set.**"
   ]
  },
  {
   "cell_type": "code",
   "execution_count": 27,
   "metadata": {},
   "outputs": [
    {
     "name": "stdout",
     "output_type": "stream",
     "text": [
      "Parks In Squirrel Hill South:\n",
      "\n",
      "Davis Park\n",
      "Frick Park\n",
      "Schenley Park\n"
     ]
    }
   ],
   "source": [
    "#Parks in Squirrel Hill South\n",
    "\n",
    "all_parks = courts_rinks_data.iloc[0:,3]\n",
    "parknames = []\n",
    "            \n",
    "i = 0\n",
    "for n in all_neighborhoods:\n",
    "    if n.startswith('Squirrel Hill South') and all_parks[i] not in parknames:\n",
    "        parknames.append(all_parks[i])\n",
    "    i += 1\n",
    "    \n",
    "print('Parks In Squirrel Hill South:')\n",
    "print()\n",
    "\n",
    "for park in parknames:\n",
    "    print(park)\n"
   ]
  },
  {
   "cell_type": "markdown",
   "metadata": {},
   "source": [
    "### Reflection"
   ]
  },
  {
   "cell_type": "markdown",
   "metadata": {},
   "source": [
    "**Squirrel Hill South, in the top rankings for every single category, is ranked first overall in both data sets. Squirrel Hill South has 6 parks, ranked fifth by number of parks and by region the parks are in. Squirrel Hill South was also ranked first for both categories I analyzed in the courts and rinks data set with 26 courts/rinks and having 4 different top court/rink types including Basketball (Full), Tennis, Hockey, and Pickleball. I have concluded that based on my two data sets and the analysis I performed, Squirrel Hill South is the best neighborhood to live in. This neighborhood would be great for children with access to many parks, courts, and rinks while also being located in regions and having a multitude of different types of courts and rinks. Squirrel Hill South also contains part of Schenly Park, which showed up quite frequently in the courts and rinks data set. Squirrel Hill South also has Davis Park and Frick Park. This park had 16 different courts or rinks which could be used by children, making Squirrel Hill South a great neighborhood overall.**"
   ]
  }
 ],
 "metadata": {
  "kernelspec": {
   "display_name": "Python 3",
   "language": "python",
   "name": "python3"
  },
  "language_info": {
   "codemirror_mode": {
    "name": "ipython",
    "version": 3
   },
   "file_extension": ".py",
   "mimetype": "text/x-python",
   "name": "python",
   "nbconvert_exporter": "python",
   "pygments_lexer": "ipython3",
   "version": "3.8.3"
  }
 },
 "nbformat": 4,
 "nbformat_minor": 4
}

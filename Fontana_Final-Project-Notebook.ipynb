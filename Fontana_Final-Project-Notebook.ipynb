{
 "cells": [
  {
   "cell_type": "markdown",
   "metadata": {},
   "source": [
    "# Best Neighborhood in Pittsburgh Final Project\n",
    "## Madeline Fontana's Project Notebook"
   ]
  },
  {
   "cell_type": "code",
   "execution_count": null,
   "metadata": {},
   "outputs": [],
   "source": [
    "import pandas as pd\n",
    "%matplotlib inline"
   ]
  },
  {
   "cell_type": "markdown",
   "metadata": {},
   "source": [
    "**This notebook looks at two data sets analyzing City of Pittsburgh parks, courts, and rinks to determine the best neighborhood in Pittsburgh. Our group's criteria for best neighborhood is the best neighborhood for children. This will be determined on multiple factors including amount of local parks, courts, and rinks, and the types of of each of these items. My partner will also be analyzing information about playgrounds and playground equipment best suited for children. Neighborhoods will be ranked based on certain criteria. The best neighborhood will be a neighborhood with plenty of access to parks, courts, rinks, and playgrounds, and the best quality locations for each. The best neighborhood will be great for promoting exercise, healthy habits, and emotional well being for children. Notice that some parks overlap neighborhoods. For this particular analysis, we have chosen to ignore this piece of information.**"
   ]
  },
  {
   "cell_type": "markdown",
   "metadata": {},
   "source": [
    "## **City of Pittsburgh Parks**\n",
    "\n",
    "**First, I read in the City of Pittsburgh Parks data set and took a sample of 10 values from the data set.**"
   ]
  },
  {
   "cell_type": "code",
   "execution_count": null,
   "metadata": {},
   "outputs": [],
   "source": [
    "#Read in Data\n",
    "parks_data = pd.read_csv(\"cityofpghparks.csv\")\n",
    "parks_data.sample(10)"
   ]
  },
  {
   "cell_type": "markdown",
   "metadata": {},
   "source": [
    "**Next, I performed some data analysis on the data set. Here I created a data frame that contained all of the neighborhoods with no repeats and their cooresponding number of parks in each neighborhood. Here is a sample of 20 neighborhoods from this data frame. I used `.value_counts()` to find these values.**"
   ]
  },
  {
   "cell_type": "code",
   "execution_count": null,
   "metadata": {},
   "outputs": [],
   "source": [
    "#Parks Per Neighborhood\n",
    "\n",
    "parks_values = parks_data['neighborhood'].value_counts()\n",
    "parks = pd.DataFrame(parks_values)\n",
    "parks.sample(20)"
   ]
  },
  {
   "cell_type": "markdown",
   "metadata": {},
   "source": [
    "**Here are the top neighborhoods and the amount of parks in each neighborhood.**"
   ]
  },
  {
   "cell_type": "code",
   "execution_count": null,
   "metadata": {},
   "outputs": [],
   "source": [
    "parks.head(12)"
   ]
  },
  {
   "cell_type": "markdown",
   "metadata": {},
   "source": [
    "**Next, I performed a statistical analysis of the data frame I created. The average number of parks per neighborhood was 2.86 so about 3 parks per neighborhood. The maximum number of parks per neighborhood was 12 parks.**"
   ]
  },
  {
   "cell_type": "code",
   "execution_count": null,
   "metadata": {},
   "outputs": [],
   "source": [
    "#Statistical Analysis of Data\n",
    "parks.describe()"
   ]
  },
  {
   "cell_type": "markdown",
   "metadata": {},
   "source": [
    "**Here I generated a sample graph containing 6 random neighborhoods and each neighborhood's number of parks. Run this multiple times to get an idea for how neighborhoods compare.**"
   ]
  },
  {
   "cell_type": "code",
   "execution_count": null,
   "metadata": {},
   "outputs": [],
   "source": [
    "#Sample Graph\n",
    "#parks = pd.Series(quantities, index=neighborhoods)\n",
    "\n",
    "parks.sample(6).plot.bar(rot=0, figsize=[12,8])"
   ]
  },
  {
   "cell_type": "markdown",
   "metadata": {},
   "source": [
    "**Here I generated a graph of the top neighborhoods and the amount of parks in each.**"
   ]
  },
  {
   "cell_type": "code",
   "execution_count": null,
   "metadata": {},
   "outputs": [],
   "source": [
    "#Top Neighborhoods Graph\n",
    "top_q = [12,10,10,8,7,7,6,6,6,6,6,5,5]\n",
    "top_n = ['East Liberty','Central Business District', 'Point Breeze', 'Beechview', 'South Side Slopes', 'Point Breeze', 'South Side Flats', 'Hazelwood', 'Squirrel Hill South', 'Mount Washington', 'Sheraden', 'South Oakland', 'Troy Hill']\n",
    "top_neighborhoods = pd.Series(top_q, index=top_n)\n",
    "\n",
    "top_neighborhoods.plot.bar(rot=0, figsize=[26,8])"
   ]
  },
  {
   "cell_type": "markdown",
   "metadata": {},
   "source": [
    "**Neighborhoods with Most Parks Ranking**\n",
    "1. **East Liberty**\n",
    "2. **Central Business District and Point Breeze North**\n",
    "3. **Beechview**\n",
    "4. **South Side Slopes and Point Breeze**\n",
    "5. **South Side Flats, Hazelwood, Squirrel Hill South, Mount Washington, and Sheraden**\n",
    "6. **South Oakland and Troy Hill**"
   ]
  },
  {
   "cell_type": "markdown",
   "metadata": {},
   "source": [
    "**Here is a line graph showing the entire data set. Notice how the values 12 and 10 and outliers being that most neighborhoods do not have that many parks. Also notice how many neighborhoods have a value centering around 5 and 3, showing that many neighborhoods on average have a range from about 2 to 5 parks.**"
   ]
  },
  {
   "cell_type": "code",
   "execution_count": null,
   "metadata": {},
   "outputs": [],
   "source": [
    "#Entire Data Set Graph\n",
    "parks.plot.bar(figsize=[15,8])"
   ]
  },
  {
   "cell_type": "markdown",
   "metadata": {},
   "source": [
    "**Here is a tool I created using user input to allow a user to look up the amount of parks in a certain neighborhood. This could be valuable as a resource when researching whether or not someone should live in a certain neighborhood in the City of Pittsburgh.**"
   ]
  },
  {
   "cell_type": "code",
   "execution_count": null,
   "metadata": {},
   "outputs": [],
   "source": [
    "#Lookup a Specific Neighborhood\n",
    "\n",
    "\n",
    "all_neighborhoods = parks_data.iloc[0:,5]\n",
    "neighborhoods = []\n",
    "\n",
    "\n",
    "for neighborhood in all_neighborhoods:\n",
    "       if neighborhood not in neighborhoods:\n",
    "            neighborhoods.append(neighborhood)\n",
    "\n",
    "\n",
    "\n",
    "\n",
    "print(\"Enter a neighborhood to find its number of parks\")\n",
    "print(\"Enter the word 'stop' to stop searching\")\n",
    "print()\n",
    "while True:\n",
    "    search = input(prompt=\"Enter a neighborhood: \")\n",
    "    search = str(search)\n",
    "    if (search.startswith('stop')):\n",
    "        break\n",
    "    elif search not in neighborhoods:\n",
    "        print(\"The neighborhood you entered is not in this data set.\")\n",
    "        break\n",
    "    else:\n",
    "        print(parks_values[search], \"parks\")\n",
    "    print()\n",
    "            \n"
   ]
  },
  {
   "cell_type": "markdown",
   "metadata": {},
   "source": [
    "**However, after analyzing this data set, I noticed that some of the parks listed were not traditional parks, so I analyzed this as well.**"
   ]
  },
  {
   "cell_type": "code",
   "execution_count": null,
   "metadata": {},
   "outputs": [],
   "source": [
    "#Number of Each Type of Park \n",
    "\n",
    "type_values = parks_data['type'].value_counts()\n",
    "types = pd.DataFrame(type_values)\n",
    "types.head(10)"
   ]
  },
  {
   "cell_type": "markdown",
   "metadata": {},
   "source": [
    "**Here is a graph showing how many of each type of park there is in the data set.**"
   ]
  },
  {
   "cell_type": "code",
   "execution_count": null,
   "metadata": {},
   "outputs": [],
   "source": [
    "types.plot.bar(rot=0, figsize=[10,8])"
   ]
  },
  {
   "cell_type": "markdown",
   "metadata": {},
   "source": [
    "**Now let's analyze on a broader scale what may be the best region to live in, and what neighborhoods are in that region.**"
   ]
  },
  {
   "cell_type": "code",
   "execution_count": null,
   "metadata": {},
   "outputs": [],
   "source": [
    "#Regions\n",
    "\n",
    "region_values = parks_data['maintenance_responsibility'].value_counts()\n",
    "regions = pd.DataFrame(region_values)\n",
    "top_regions = regions.head(5)\n",
    "top_regions"
   ]
  },
  {
   "cell_type": "markdown",
   "metadata": {},
   "source": [
    "**The Parks-Northern region has the most parks in it with 39 parks being in that region. Next, I found which neighborhoods are in the top five regions listed.**"
   ]
  },
  {
   "cell_type": "code",
   "execution_count": null,
   "metadata": {},
   "outputs": [],
   "source": [
    "lists_in_list = []\n",
    "\n",
    "n_in_top_r = []\n",
    "all_regions = parks_data.iloc[0:,3]\n",
    "top_regions = ['Parks - Northern','Parks - Western','Parks - Southern','Parks - Northeast','Parks - Schenley']\n",
    "index = 0\n",
    "for region in top_regions:\n",
    "    print(\"Region:\", region)\n",
    "    print()\n",
    "    for n in all_neighborhoods:\n",
    "        if all_regions[index].startswith(region) and n not in n_in_top_r:\n",
    "            print(n)\n",
    "            n_in_top_r.append(n)\n",
    "        index = index + 1\n",
    "    lists_in_list.append(n_in_top_r)\n",
    "    n_in_top_r = []\n",
    "    index = 0\n",
    "    print()\n",
    "    "
   ]
  },
  {
   "cell_type": "markdown",
   "metadata": {},
   "source": [
    "**Here I have shown which top neighborhoods are in top regions. Top neighborhoods are neighborhoods ranked for having a lot of parks and top regions are regions with a lot of parks.**"
   ]
  },
  {
   "cell_type": "code",
   "execution_count": null,
   "metadata": {},
   "outputs": [],
   "source": [
    "#Top Neighborhoods in Top Regions\n",
    "top_n_in_top_r_counts = []\n",
    "\n",
    "r_num = 1\n",
    "count = 0\n",
    "for l in lists_in_list:\n",
    "    print(\"Top Neighborhoods in Region\",r_num)\n",
    "    print()\n",
    "    for t in top_n:\n",
    "        if t in l:\n",
    "            count = count + 1\n",
    "            print(t)\n",
    "          \n",
    "    top_n_in_top_r_counts.append(count)\n",
    "    lists_in_list\n",
    "    count = 0\n",
    "    r_num += 1\n",
    "    print()\n",
    "\n",
    "\n",
    "\n"
   ]
  },
  {
   "cell_type": "markdown",
   "metadata": {},
   "source": [
    "**Notice that regions 'Parks - Southern' and 'Parks - Schenely' (regions 3 and 5) have the most top neighborhoods in them, making them the best regions to live in. After analyzing the data based on region, I established a new ranking based on most top neighborhoods in top regions using parks per neighborhood counts to break ties.**"
   ]
  },
  {
   "cell_type": "markdown",
   "metadata": {},
   "source": [
    "**New Ranking**\n",
    "1. **Beechview**\n",
    "2. **South Side Slopes**\n",
    "3. **South Side Flats**\n",
    "4. **Hazelwood**\n",
    "5. **Squirrel Hill South**\n",
    "6. **South Oakland**\n",
    "7. **Central Business District**\n",
    "8. **Mount Washington**\n",
    "9. **Sheraden**\n",
    "10. **Troy Hill**\n",
    "11. **East Liberty**"
   ]
  },
  {
   "cell_type": "markdown",
   "metadata": {},
   "source": [
    "**Notice how much of a drastic change there was in the ranking when we base the ranking on best regions. East Liberty, who was ranked first when only looking at most parks, is now in last because it is not in a top region (meaning a region with a lot of parks). Beechview still is ranked high, and both the South Side Flats and Slopes moved up in the ranking slightly.**"
   ]
  },
  {
   "cell_type": "markdown",
   "metadata": {},
   "source": [
    "### **Summary of City of Pittsburgh Parks Data Set**\n",
    "\n",
    "**The overall winner for this data set is Beechview ranked first and third after performing analysis of two different aspects of the data set and forming a general conclusion. Beechview has 8 parks, ranked third in the ranking based of amount of parks and ranked first in the ranking based on region. Beechview could be considered a good neighborhood to live in and a good neighborhood for chidlren based on access to many parks of different types and for being in a region with many parks.**"
   ]
  },
  {
   "cell_type": "markdown",
   "metadata": {},
   "source": [
    "## **City of Pittsburgh Courts and Rinks**\n",
    "**First, I read in the City of Pittsburgh Courts and Rinks data set. Here is a sample of 10 entires in this data set.**"
   ]
  },
  {
   "cell_type": "code",
   "execution_count": null,
   "metadata": {},
   "outputs": [],
   "source": [
    "#Read in Data\n",
    "courts_rinks_data = pd.read_csv(\"cityofpghcourtsandrinks.csv\")\n",
    "courts_rinks_data.sample(10)"
   ]
  },
  {
   "cell_type": "markdown",
   "metadata": {},
   "source": [
    "**Next, I found how many courts/rinks were in each neighborhood using `.value_counts()`. Here is a sample of 20 neighborhoods and the amount of courts/rinks in each.**"
   ]
  },
  {
   "cell_type": "code",
   "execution_count": null,
   "metadata": {},
   "outputs": [],
   "source": [
    "#Courts and Rinks Per Neighborhood\n",
    "\n",
    "courts_values = courts_rinks_data['neighborhood'].value_counts()\n",
    "courts_and_rinks = pd.DataFrame(courts_values)\n",
    "\n",
    "courts_and_rinks.sample(20)"
   ]
  },
  {
   "cell_type": "markdown",
   "metadata": {},
   "source": [
    "**Here is a graph of all the neighborhoods and the amount of courts and rinks in each.**"
   ]
  },
  {
   "cell_type": "code",
   "execution_count": null,
   "metadata": {},
   "outputs": [],
   "source": [
    "courts_values.plot.bar(figsize=[15,8])"
   ]
  },
  {
   "cell_type": "markdown",
   "metadata": {},
   "source": [
    "**Here is the top 8 neighborhoods with the most courts/rinks with some neighborhoods forming a tie for the amount of courts/rinks. From this I found the top 6 rankings for most courts/rinks per neighborhood.**"
   ]
  },
  {
   "cell_type": "code",
   "execution_count": null,
   "metadata": {},
   "outputs": [],
   "source": [
    "courts_and_rinks.head(8)"
   ]
  },
  {
   "cell_type": "markdown",
   "metadata": {},
   "source": [
    "**Next, I performed a statistical analysis of the data frame using `.describe()`. Notice that the average number of courts/rinks is 3.9, so about 4 courts/rinks per neighborhood. The maximum number of courts/rinks per neighborhood is 26 courts/rinks.**"
   ]
  },
  {
   "cell_type": "code",
   "execution_count": null,
   "metadata": {},
   "outputs": [],
   "source": [
    "courts_and_rinks.describe()"
   ]
  },
  {
   "cell_type": "markdown",
   "metadata": {},
   "source": [
    "**Next, I put the top neighborhoods and top quantities into lists and then a Series and then plotted this Series using a bar chart, showing the amount of parks in each of these top neighborhoods. Squirrel Hill South has the most courts/rinks with 26 courts/rinks.**"
   ]
  },
  {
   "cell_type": "code",
   "execution_count": null,
   "metadata": {},
   "outputs": [],
   "source": [
    "#Top Neighborhoods Graph\n",
    "top_q2 = [26,20,10,9,9,9,8,7]\n",
    "top_n2 = ['Squirrel Hill South','Highland Park','Hazelwood','Brookline','Allegheny Center','Beltzhoover','Troy Hill','Beechview']\n",
    "top_neighborhoods = pd.Series(top_q2, index=top_n2)\n",
    "\n",
    "top_neighborhoods.plot.bar(rot=0, figsize=[15,8])"
   ]
  },
  {
   "cell_type": "markdown",
   "metadata": {},
   "source": [
    "**Neighborhoods with the Most Courts/Rinks Ranking**\n",
    "1. **Squirrel Hill South**\n",
    "2. **Highland Park**\n",
    "3. **Hazelwood**\n",
    "4. **Brookline, Allegheny Center, and Beltzhoover**\n",
    "5. **Troy Hill**\n",
    "6. **Beechview**"
   ]
  },
  {
   "cell_type": "markdown",
   "metadata": {},
   "source": [
    "**Afer forming this ranking, I wanted to analyze a different aspect of this data set. I found the amount of each type of court or rink there is in the City of Pittsburgh. The most common type is a Basketball (Full) court, with the City of Pittsburgh having 88 Basketball (Full) courts.**"
   ]
  },
  {
   "cell_type": "code",
   "execution_count": null,
   "metadata": {},
   "outputs": [],
   "source": [
    "#Number of Each Type of Court/Rink \n",
    "\n",
    "court_types = courts_rinks_data['type'].value_counts()\n",
    "types = pd.DataFrame(court_types)\n",
    "\n",
    "types"
   ]
  },
  {
   "cell_type": "markdown",
   "metadata": {},
   "source": [
    "**Here are the top five types of court/rink in the data set.**"
   ]
  },
  {
   "cell_type": "code",
   "execution_count": null,
   "metadata": {},
   "outputs": [],
   "source": [
    "types.head(5)"
   ]
  },
  {
   "cell_type": "markdown",
   "metadata": {},
   "source": [
    "**Here is a graph containing all of the different types of court/rink nad how many of each are in the data set.**"
   ]
  },
  {
   "cell_type": "code",
   "execution_count": null,
   "metadata": {},
   "outputs": [],
   "source": [
    "#Types of Court/Rink Graph\n",
    "\n",
    "types.plot.bar(rot=0, figsize=[16,8])"
   ]
  },
  {
   "cell_type": "markdown",
   "metadata": {},
   "source": [
    "**Here is a graph of the top five types of court or rink in the City of Pittsburgh.**"
   ]
  },
  {
   "cell_type": "code",
   "execution_count": null,
   "metadata": {},
   "outputs": [],
   "source": [
    "types.head(5).plot.bar(rot=0, figsize=[10,6])"
   ]
  },
  {
   "cell_type": "markdown",
   "metadata": {},
   "source": [
    "**Using the information I collected about the most commo types of court or rink, I put the neighborhoods into categories based on which type of court or rink a neighborhood has.**"
   ]
  },
  {
   "cell_type": "code",
   "execution_count": null,
   "metadata": {},
   "outputs": [],
   "source": [
    "#Neighborhoods With Each Type of Court/Rink\n",
    "\n",
    "all_neighborhoods = courts_rinks_data.iloc[0:,8]\n",
    "neighborhoods = []\n",
    "\n",
    "\n",
    "for neighborhood in all_neighborhoods:\n",
    "       if neighborhood not in neighborhoods:\n",
    "            neighborhoods.append(neighborhood)\n",
    "\n",
    "\n",
    "\n",
    "lists_in_list = []\n",
    "\n",
    "n_in_top_t = []\n",
    "all_types = courts_rinks_data.iloc[0:,2]\n",
    "top_types = ['Basketball (Full)','Tennis','Basketball (Half)','Hockey','Pickleball']\n",
    "index = 0\n",
    "for name in top_types:\n",
    "    print(\"Court/Rink Type:\", name)\n",
    "    print()\n",
    "    for n in all_neighborhoods:\n",
    "        if all_types[index].startswith(name) and n not in n_in_top_t:\n",
    "            print(n)\n",
    "            n_in_top_t.append(n)\n",
    "        index = index + 1\n",
    "    lists_in_list.append(n_in_top_t)\n",
    "    n_in_top_t = []\n",
    "    index = 0\n",
    "    print()\n"
   ]
  },
  {
   "cell_type": "markdown",
   "metadata": {},
   "source": [
    "**After looking at all the neighborhoods, I then found which top neighborhoods from the earlier ranking were in each of the top court or rink types.**"
   ]
  },
  {
   "cell_type": "code",
   "execution_count": null,
   "metadata": {},
   "outputs": [],
   "source": [
    "#Top Neighborhoods in Top Court/Rink Types\n",
    "\n",
    "top_n_in_top_t_counts = []\n",
    "\n",
    "t_num = 1\n",
    "count = 0\n",
    "for l in lists_in_list:\n",
    "    print(\"Top Neighborhoods in Top Court/Rink Type\",t_num)\n",
    "    print()\n",
    "    for t in top_n2:\n",
    "        if t in l:\n",
    "            count = count + 1\n",
    "            print(t)\n",
    "          \n",
    "    top_n_in_top_t_counts.append(count)\n",
    "    lists_in_list\n",
    "    count = 0\n",
    "    t_num += 1\n",
    "    print()\n",
    "\n"
   ]
  },
  {
   "cell_type": "markdown",
   "metadata": {},
   "source": [
    "**Notice that most top neighborhoods have Basketball (Full) and Tennis courts (court/rink types 1 and 2). The second most common court/rink type is Basketball (Half) courts/rinks with the second most top neighborhoods having that type. Here is a new ranking of neighborhoods based on top court/rink types and most top neighborhoods within them, using amount of courts/rinks in each neighborhood and how many repeats of the neighborhood in top types there are to break ties.**"
   ]
  },
  {
   "cell_type": "markdown",
   "metadata": {},
   "source": [
    "**New Ranking Based on Court/Rink Types:**\n",
    "1. **Squirrel Hill South**\n",
    "2. **Highland Park**\n",
    "3. **Hazelwood**\n",
    "4. **Allegheny Center and Brookline**\n",
    "5. **Beltzhoover**\n",
    "6. **Troy Hill**\n",
    "7. **Beechview**"
   ]
  },
  {
   "cell_type": "markdown",
   "metadata": {},
   "source": [
    "**Notice that the ranking did not change very much based on the criteria, with only Beltzhoover moving down a level. Therefore, we could infer that most neighborhoods have common types of courts and rinks, so either ranking of neighborhoods will result in a list of high quality neighborhoods with access to courts and rinks that are also high quality.**"
   ]
  },
  {
   "cell_type": "markdown",
   "metadata": {},
   "source": [
    "### **Summary of City of Pittsburgh Courts and Rinks**\n",
    "\n",
    "**Overall winner for this data set is Squirrel Hill South, ranked first place for having the most courts/rinks with 26 court/rinks. Squirrel Hill South has various court types including Basketball (Full), Tennis, Hockey, and Pickle Ball. The most common type of court is a Basketball (Full) court with the City of Pittsburgh having 88 full basketball courts. The average number of courts or rinks per neighborhood is about 4 courts/rinks.**"
   ]
  },
  {
   "cell_type": "markdown",
   "metadata": {},
   "source": [
    "### My Comparison of the Data Sets"
   ]
  },
  {
   "cell_type": "markdown",
   "metadata": {},
   "source": [
    "**After analyzing both of these data sets, some neighborhoods appeared in the top rankings of both data sets after performing my analysis. These neighborhoods are Beechview, Hazelwood, Squirrel Hill South, and Troy Hill. These neighborhoods could be considered other good neighborhoods to live in for children because they rank well in access to park and access to courts and rinks. Playing various sports on different courts and rinks and spending time outside in a park is beneficial to children's health and well being.**"
   ]
  },
  {
   "cell_type": "markdown",
   "metadata": {},
   "source": [
    "**To demonstrate the overlap of the two data sets, I looked at the 'park' column in the courts and rinks data set to see which parks were located in which neighborhoods.**"
   ]
  },
  {
   "cell_type": "code",
   "execution_count": null,
   "metadata": {},
   "outputs": [],
   "source": [
    "courts_new_data = pd.read_csv(\"cityofpghcourtsandrinks.csv\",usecols = ['neighborhood','park'])\n",
    "\n",
    "courts_new_data.sample(10)"
   ]
  },
  {
   "cell_type": "markdown",
   "metadata": {},
   "source": [
    "**Here are the parks most present in the courts and rinks data set and a graph representing this. Highland Park shows up 18 times in the data set, meaning that many of the courts and rinks are located in that park.** "
   ]
  },
  {
   "cell_type": "code",
   "execution_count": null,
   "metadata": {},
   "outputs": [],
   "source": [
    "courts_new_data_values = courts_new_data['park'].value_counts()\n",
    "new_courts = pd.DataFrame(courts_new_data_values)\n",
    "new_courts.head(6)"
   ]
  },
  {
   "cell_type": "code",
   "execution_count": null,
   "metadata": {},
   "outputs": [],
   "source": [
    "new_courts.head(10).plot.bar(rot=0,figsize=[20,8])"
   ]
  },
  {
   "cell_type": "markdown",
   "metadata": {},
   "source": [
    "**Highland Park is present the most in the courts and rinks data set, located in the Highland Park neighborhood. Schenley Park is the second most present, overlapping the neighborhoods of Oakland, Squirrel Hill, and Greenfield.**"
   ]
  },
  {
   "cell_type": "markdown",
   "metadata": {},
   "source": [
    "**Here are the parks that are in the Squirrel Hill South neighborhood using the park column in the courts and rinks data set.**"
   ]
  },
  {
   "cell_type": "code",
   "execution_count": null,
   "metadata": {},
   "outputs": [],
   "source": [
    "#Parks in Squirrel Hill South\n",
    "\n",
    "all_parks = courts_rinks_data.iloc[0:,3]\n",
    "parknames = []\n",
    "            \n",
    "i = 0\n",
    "for n in all_neighborhoods:\n",
    "    if n.startswith('Squirrel Hill South') and all_parks[i] not in parknames:\n",
    "        parknames.append(all_parks[i])\n",
    "    i += 1\n",
    "    \n",
    "print('Parks In Squirrel Hill South:')\n",
    "print()\n",
    "\n",
    "for park in parknames:\n",
    "    print(park)\n"
   ]
  },
  {
   "cell_type": "markdown",
   "metadata": {},
   "source": [
    "### Reflection"
   ]
  },
  {
   "cell_type": "markdown",
   "metadata": {},
   "source": [
    "**Squirrel Hill South, in the top rankings for every single category, is ranked first overall in both data sets. Squirrel Hill South has 6 parks, ranked fifth by number of parks and by region the parks are in. Squirrel Hill South was also ranked first for both categories I analyzed in the courts and rinks data set with 26 courts/rinks and having 4 different top court/rink types including Basketball (Full), Tennis, Hockey, and Pickleball. I have concluded that based on my two data sets and the analysis I performed, Squirrel Hill South is the best neighborhood to live in. This neighborhood would be great for children with access to many parks, courts, and rinks while also being located in regions and having a multitude of different types of courts and rinks. Squirrel Hill South also contains part of Schenly Park, which showed up quite frequently in the courts and rinks data set. Squirrel Hill South also has Davis Park and Frick Park. This park had 16 different courts or rinks which could be used by children, making Squirrel Hill South a great neighborhood overall.**"
   ]
  }
 ],
 "metadata": {
  "kernelspec": {
   "display_name": "Python 3",
   "language": "python",
   "name": "python3"
  },
  "language_info": {
   "codemirror_mode": {
    "name": "ipython",
    "version": 3
   },
   "file_extension": ".py",
   "mimetype": "text/x-python",
   "name": "python",
   "nbconvert_exporter": "python",
   "pygments_lexer": "ipython3",
   "version": "3.8.3"
  }
 },
 "nbformat": 4,
 "nbformat_minor": 4
}

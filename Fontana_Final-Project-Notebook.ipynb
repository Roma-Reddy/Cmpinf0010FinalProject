{
 "cells": [
  {
   "cell_type": "markdown",
   "metadata": {},
   "source": [
    "# Best Neighborhood in Pittsburgh Final Project\n",
    "## Madeline Fontana's Project Notebook"
   ]
  },
  {
   "cell_type": "code",
   "execution_count": 1,
   "metadata": {},
   "outputs": [],
   "source": [
    "import pandas as pd\n",
    "%matplotlib inline"
   ]
  },
  {
   "cell_type": "markdown",
   "metadata": {},
   "source": [
    "**This notebook looks at two data sets analyzing City of Pittsburgh parks, courts, and rinks to determine the best neighborhood in Pittsburgh. Our group's criteria for best neighborhood is the best neighborhood for children. This will be determined on multiple factors including amount of local parks, courts, and rinks, and the types of of each of these items. My partner will also be analyzing information about playgrounds and playground equipment best suited for children. Neighborhoods will be ranked based on certain criteria. The best neighborhood will be a neighborhood with plenty of access to parks, courts, rinks, and playgrounds, and the best quality locations for each. The best neighborhood will be great for promoting exercise, healthy habits, and emotional well being for children. Notice that some parks overlap neighborhoods. For this particular analysis, we have chosen to ignore this piece of information.**"
   ]
  },
  {
   "cell_type": "markdown",
   "metadata": {},
   "source": [
    "## **City of Pittsburgh Parks**\n",
    "\n",
    "**First, I read in the City of Pittsburgh Parks data set and took a sample of 10 values from the data set.**"
   ]
  },
  {
   "cell_type": "code",
   "execution_count": 2,
   "metadata": {},
   "outputs": [
    {
     "data": {
      "text/html": [
       "<div>\n",
       "<style scoped>\n",
       "    .dataframe tbody tr th:only-of-type {\n",
       "        vertical-align: middle;\n",
       "    }\n",
       "\n",
       "    .dataframe tbody tr th {\n",
       "        vertical-align: top;\n",
       "    }\n",
       "\n",
       "    .dataframe thead th {\n",
       "        text-align: right;\n",
       "    }\n",
       "</style>\n",
       "<table border=\"1\" class=\"dataframe\">\n",
       "  <thead>\n",
       "    <tr style=\"text-align: right;\">\n",
       "      <th></th>\n",
       "      <th>id</th>\n",
       "      <th>name</th>\n",
       "      <th>type</th>\n",
       "      <th>maintenance_responsibility</th>\n",
       "      <th>image</th>\n",
       "      <th>neighborhood</th>\n",
       "      <th>council_district</th>\n",
       "      <th>ward</th>\n",
       "      <th>tract</th>\n",
       "      <th>public_works_division</th>\n",
       "      <th>pli_division</th>\n",
       "      <th>police_zone</th>\n",
       "      <th>fire_zone</th>\n",
       "      <th>latitude</th>\n",
       "      <th>longitude</th>\n",
       "    </tr>\n",
       "  </thead>\n",
       "  <tbody>\n",
       "    <tr>\n",
       "      <th>112</th>\n",
       "      <td>1595333980</td>\n",
       "      <td>Lookout Street Park</td>\n",
       "      <td>Park</td>\n",
       "      <td>Parks - Northern</td>\n",
       "      <td>https://tools.wprdc.org/images/pittsburgh/park...</td>\n",
       "      <td>Troy Hill</td>\n",
       "      <td>1</td>\n",
       "      <td>24</td>\n",
       "      <td>42003240600</td>\n",
       "      <td>1</td>\n",
       "      <td>24</td>\n",
       "      <td>1</td>\n",
       "      <td>1-2</td>\n",
       "      <td>40.469293</td>\n",
       "      <td>-79.976931</td>\n",
       "    </tr>\n",
       "    <tr>\n",
       "      <th>105</th>\n",
       "      <td>2029703175</td>\n",
       "      <td>Leister Street Park</td>\n",
       "      <td>Park</td>\n",
       "      <td>Parks - Northern</td>\n",
       "      <td>NaN</td>\n",
       "      <td>Spring Hill-City View</td>\n",
       "      <td>1</td>\n",
       "      <td>24</td>\n",
       "      <td>42003262000</td>\n",
       "      <td>1</td>\n",
       "      <td>24</td>\n",
       "      <td>1</td>\n",
       "      <td>1-24</td>\n",
       "      <td>40.462122</td>\n",
       "      <td>-79.995693</td>\n",
       "    </tr>\n",
       "    <tr>\n",
       "      <th>30</th>\n",
       "      <td>276671370</td>\n",
       "      <td>Bud Hammer Park</td>\n",
       "      <td>Park</td>\n",
       "      <td>Parks - Schenley</td>\n",
       "      <td>NaN</td>\n",
       "      <td>Hazelwood</td>\n",
       "      <td>5</td>\n",
       "      <td>15</td>\n",
       "      <td>42003562900</td>\n",
       "      <td>3</td>\n",
       "      <td>15</td>\n",
       "      <td>4</td>\n",
       "      <td>2-12</td>\n",
       "      <td>40.420954</td>\n",
       "      <td>-79.946695</td>\n",
       "    </tr>\n",
       "    <tr>\n",
       "      <th>6</th>\n",
       "      <td>1596467340</td>\n",
       "      <td>Alpine Gardens Park</td>\n",
       "      <td>Park</td>\n",
       "      <td>Parks - Northern</td>\n",
       "      <td>https://tools.wprdc.org/images/pittsburgh/park...</td>\n",
       "      <td>Central Northside</td>\n",
       "      <td>6</td>\n",
       "      <td>25</td>\n",
       "      <td>42003250300</td>\n",
       "      <td>1</td>\n",
       "      <td>25</td>\n",
       "      <td>1</td>\n",
       "      <td>1-21</td>\n",
       "      <td>40.457673</td>\n",
       "      <td>-80.012852</td>\n",
       "    </tr>\n",
       "    <tr>\n",
       "      <th>65</th>\n",
       "      <td>1702828724</td>\n",
       "      <td>Esplen Park</td>\n",
       "      <td>Park</td>\n",
       "      <td>Parks - Western</td>\n",
       "      <td>https://tools.wprdc.org/images/pittsburgh/park...</td>\n",
       "      <td>Esplen</td>\n",
       "      <td>2</td>\n",
       "      <td>20</td>\n",
       "      <td>42003562500</td>\n",
       "      <td>5</td>\n",
       "      <td>20</td>\n",
       "      <td>6</td>\n",
       "      <td>1-27</td>\n",
       "      <td>40.460718</td>\n",
       "      <td>-80.050795</td>\n",
       "    </tr>\n",
       "    <tr>\n",
       "      <th>87</th>\n",
       "      <td>1264215460</td>\n",
       "      <td>Harris Triangle</td>\n",
       "      <td>Traffic Island/Median</td>\n",
       "      <td>3rd Division</td>\n",
       "      <td>NaN</td>\n",
       "      <td>North Oakland</td>\n",
       "      <td>6</td>\n",
       "      <td>5</td>\n",
       "      <td>42003562000</td>\n",
       "      <td>3</td>\n",
       "      <td>5</td>\n",
       "      <td>4</td>\n",
       "      <td>2-23</td>\n",
       "      <td>40.456040</td>\n",
       "      <td>-79.954771</td>\n",
       "    </tr>\n",
       "    <tr>\n",
       "      <th>151</th>\n",
       "      <td>1705952425</td>\n",
       "      <td>Paulson Park</td>\n",
       "      <td>Park</td>\n",
       "      <td>Parks - Northeast</td>\n",
       "      <td>NaN</td>\n",
       "      <td>Lincoln-Lemington-Belmar</td>\n",
       "      <td>9</td>\n",
       "      <td>12</td>\n",
       "      <td>42003120300</td>\n",
       "      <td>2</td>\n",
       "      <td>12</td>\n",
       "      <td>5</td>\n",
       "      <td>3-15</td>\n",
       "      <td>40.468524</td>\n",
       "      <td>-79.900109</td>\n",
       "    </tr>\n",
       "    <tr>\n",
       "      <th>172</th>\n",
       "      <td>1768633106</td>\n",
       "      <td>Spring Garden Park</td>\n",
       "      <td>Park</td>\n",
       "      <td>Parks - Northern</td>\n",
       "      <td>NaN</td>\n",
       "      <td>Spring Garden</td>\n",
       "      <td>1</td>\n",
       "      <td>24</td>\n",
       "      <td>42003241200</td>\n",
       "      <td>1</td>\n",
       "      <td>24</td>\n",
       "      <td>1</td>\n",
       "      <td>1-24</td>\n",
       "      <td>40.465675</td>\n",
       "      <td>-79.985769</td>\n",
       "    </tr>\n",
       "    <tr>\n",
       "      <th>64</th>\n",
       "      <td>1066215150</td>\n",
       "      <td>Enright Park</td>\n",
       "      <td>Park</td>\n",
       "      <td>Parks - Northeast</td>\n",
       "      <td>NaN</td>\n",
       "      <td>East Liberty</td>\n",
       "      <td>9</td>\n",
       "      <td>8</td>\n",
       "      <td>42003111500</td>\n",
       "      <td>2</td>\n",
       "      <td>8</td>\n",
       "      <td>5</td>\n",
       "      <td>3-23</td>\n",
       "      <td>40.461885</td>\n",
       "      <td>-79.929833</td>\n",
       "    </tr>\n",
       "    <tr>\n",
       "      <th>110</th>\n",
       "      <td>1098059984</td>\n",
       "      <td>Lincoln Place Park</td>\n",
       "      <td>Park</td>\n",
       "      <td>Parks - Eastern</td>\n",
       "      <td>NaN</td>\n",
       "      <td>Lincoln Place</td>\n",
       "      <td>5</td>\n",
       "      <td>31</td>\n",
       "      <td>42003310200</td>\n",
       "      <td>3</td>\n",
       "      <td>31</td>\n",
       "      <td>4</td>\n",
       "      <td>4-20</td>\n",
       "      <td>40.369975</td>\n",
       "      <td>-79.917427</td>\n",
       "    </tr>\n",
       "  </tbody>\n",
       "</table>\n",
       "</div>"
      ],
      "text/plain": [
       "             id                 name                   type  \\\n",
       "112  1595333980  Lookout Street Park                   Park   \n",
       "105  2029703175  Leister Street Park                   Park   \n",
       "30    276671370      Bud Hammer Park                   Park   \n",
       "6    1596467340  Alpine Gardens Park                   Park   \n",
       "65   1702828724          Esplen Park                   Park   \n",
       "87   1264215460      Harris Triangle  Traffic Island/Median   \n",
       "151  1705952425         Paulson Park                   Park   \n",
       "172  1768633106   Spring Garden Park                   Park   \n",
       "64   1066215150         Enright Park                   Park   \n",
       "110  1098059984   Lincoln Place Park                   Park   \n",
       "\n",
       "    maintenance_responsibility  \\\n",
       "112           Parks - Northern   \n",
       "105           Parks - Northern   \n",
       "30            Parks - Schenley   \n",
       "6             Parks - Northern   \n",
       "65             Parks - Western   \n",
       "87                3rd Division   \n",
       "151          Parks - Northeast   \n",
       "172           Parks - Northern   \n",
       "64           Parks - Northeast   \n",
       "110            Parks - Eastern   \n",
       "\n",
       "                                                 image  \\\n",
       "112  https://tools.wprdc.org/images/pittsburgh/park...   \n",
       "105                                                NaN   \n",
       "30                                                 NaN   \n",
       "6    https://tools.wprdc.org/images/pittsburgh/park...   \n",
       "65   https://tools.wprdc.org/images/pittsburgh/park...   \n",
       "87                                                 NaN   \n",
       "151                                                NaN   \n",
       "172                                                NaN   \n",
       "64                                                 NaN   \n",
       "110                                                NaN   \n",
       "\n",
       "                 neighborhood  council_district  ward        tract  \\\n",
       "112                 Troy Hill                 1    24  42003240600   \n",
       "105     Spring Hill-City View                 1    24  42003262000   \n",
       "30                  Hazelwood                 5    15  42003562900   \n",
       "6           Central Northside                 6    25  42003250300   \n",
       "65                     Esplen                 2    20  42003562500   \n",
       "87              North Oakland                 6     5  42003562000   \n",
       "151  Lincoln-Lemington-Belmar                 9    12  42003120300   \n",
       "172             Spring Garden                 1    24  42003241200   \n",
       "64               East Liberty                 9     8  42003111500   \n",
       "110             Lincoln Place                 5    31  42003310200   \n",
       "\n",
       "     public_works_division  pli_division  police_zone fire_zone   latitude  \\\n",
       "112                      1            24            1       1-2  40.469293   \n",
       "105                      1            24            1      1-24  40.462122   \n",
       "30                       3            15            4      2-12  40.420954   \n",
       "6                        1            25            1      1-21  40.457673   \n",
       "65                       5            20            6      1-27  40.460718   \n",
       "87                       3             5            4      2-23  40.456040   \n",
       "151                      2            12            5      3-15  40.468524   \n",
       "172                      1            24            1      1-24  40.465675   \n",
       "64                       2             8            5      3-23  40.461885   \n",
       "110                      3            31            4      4-20  40.369975   \n",
       "\n",
       "     longitude  \n",
       "112 -79.976931  \n",
       "105 -79.995693  \n",
       "30  -79.946695  \n",
       "6   -80.012852  \n",
       "65  -80.050795  \n",
       "87  -79.954771  \n",
       "151 -79.900109  \n",
       "172 -79.985769  \n",
       "64  -79.929833  \n",
       "110 -79.917427  "
      ]
     },
     "execution_count": 2,
     "metadata": {},
     "output_type": "execute_result"
    }
   ],
   "source": [
    "#Read in Data\n",
    "parks_data = pd.read_csv(\"cityofpghparks.csv\")\n",
    "parks_data.sample(10)"
   ]
  },
  {
   "cell_type": "markdown",
   "metadata": {},
   "source": [
    "**Next, I performed some data analysis on the data set. Here I created a data frame that contained all of the neighborhoods with no repeats and their cooresponding number of parks in each neighborhood. Here is a sample of 20 neighborhoods from this data frame. I used `.value_counts()` to find these values.**"
   ]
  },
  {
   "cell_type": "code",
   "execution_count": 3,
   "metadata": {},
   "outputs": [
    {
     "data": {
      "text/html": [
       "<div>\n",
       "<style scoped>\n",
       "    .dataframe tbody tr th:only-of-type {\n",
       "        vertical-align: middle;\n",
       "    }\n",
       "\n",
       "    .dataframe tbody tr th {\n",
       "        vertical-align: top;\n",
       "    }\n",
       "\n",
       "    .dataframe thead th {\n",
       "        text-align: right;\n",
       "    }\n",
       "</style>\n",
       "<table border=\"1\" class=\"dataframe\">\n",
       "  <thead>\n",
       "    <tr style=\"text-align: right;\">\n",
       "      <th></th>\n",
       "      <th>neighborhood</th>\n",
       "    </tr>\n",
       "  </thead>\n",
       "  <tbody>\n",
       "    <tr>\n",
       "      <th>Upper Lawrenceville</th>\n",
       "      <td>3</td>\n",
       "    </tr>\n",
       "    <tr>\n",
       "      <th>Squirrel Hill North</th>\n",
       "      <td>1</td>\n",
       "    </tr>\n",
       "    <tr>\n",
       "      <th>Westwood</th>\n",
       "      <td>3</td>\n",
       "    </tr>\n",
       "    <tr>\n",
       "      <th>Elliott</th>\n",
       "      <td>4</td>\n",
       "    </tr>\n",
       "    <tr>\n",
       "      <th>North Oakland</th>\n",
       "      <td>1</td>\n",
       "    </tr>\n",
       "    <tr>\n",
       "      <th>Bluff</th>\n",
       "      <td>1</td>\n",
       "    </tr>\n",
       "    <tr>\n",
       "      <th>Beltzhoover</th>\n",
       "      <td>3</td>\n",
       "    </tr>\n",
       "    <tr>\n",
       "      <th>Greenfield</th>\n",
       "      <td>3</td>\n",
       "    </tr>\n",
       "    <tr>\n",
       "      <th>Crafton Heights</th>\n",
       "      <td>2</td>\n",
       "    </tr>\n",
       "    <tr>\n",
       "      <th>Point Breeze North</th>\n",
       "      <td>3</td>\n",
       "    </tr>\n",
       "    <tr>\n",
       "      <th>Central Northside</th>\n",
       "      <td>3</td>\n",
       "    </tr>\n",
       "    <tr>\n",
       "      <th>Homewood North</th>\n",
       "      <td>2</td>\n",
       "    </tr>\n",
       "    <tr>\n",
       "      <th>Strip District</th>\n",
       "      <td>2</td>\n",
       "    </tr>\n",
       "    <tr>\n",
       "      <th>Lincoln-Lemington-Belmar</th>\n",
       "      <td>3</td>\n",
       "    </tr>\n",
       "    <tr>\n",
       "      <th>Duquesne Heights</th>\n",
       "      <td>2</td>\n",
       "    </tr>\n",
       "    <tr>\n",
       "      <th>Mount Washington</th>\n",
       "      <td>6</td>\n",
       "    </tr>\n",
       "    <tr>\n",
       "      <th>Squirrel Hill South</th>\n",
       "      <td>6</td>\n",
       "    </tr>\n",
       "    <tr>\n",
       "      <th>Fineview</th>\n",
       "      <td>2</td>\n",
       "    </tr>\n",
       "    <tr>\n",
       "      <th>Swisshelm Park</th>\n",
       "      <td>3</td>\n",
       "    </tr>\n",
       "    <tr>\n",
       "      <th>Spring Garden</th>\n",
       "      <td>2</td>\n",
       "    </tr>\n",
       "  </tbody>\n",
       "</table>\n",
       "</div>"
      ],
      "text/plain": [
       "                          neighborhood\n",
       "Upper Lawrenceville                  3\n",
       "Squirrel Hill North                  1\n",
       "Westwood                             3\n",
       "Elliott                              4\n",
       "North Oakland                        1\n",
       "Bluff                                1\n",
       "Beltzhoover                          3\n",
       "Greenfield                           3\n",
       "Crafton Heights                      2\n",
       "Point Breeze North                   3\n",
       "Central Northside                    3\n",
       "Homewood North                       2\n",
       "Strip District                       2\n",
       "Lincoln-Lemington-Belmar             3\n",
       "Duquesne Heights                     2\n",
       "Mount Washington                     6\n",
       "Squirrel Hill South                  6\n",
       "Fineview                             2\n",
       "Swisshelm Park                       3\n",
       "Spring Garden                        2"
      ]
     },
     "execution_count": 3,
     "metadata": {},
     "output_type": "execute_result"
    }
   ],
   "source": [
    "#Parks Per Neighborhood\n",
    "\n",
    "parks_values = parks_data['neighborhood'].value_counts()\n",
    "parks = pd.DataFrame(parks_values)\n",
    "parks.sample(20)"
   ]
  },
  {
   "cell_type": "markdown",
   "metadata": {},
   "source": [
    "**Here are the top neighborhoods and the amount of parks in each neighborhood.**"
   ]
  },
  {
   "cell_type": "code",
   "execution_count": 4,
   "metadata": {},
   "outputs": [
    {
     "data": {
      "text/html": [
       "<div>\n",
       "<style scoped>\n",
       "    .dataframe tbody tr th:only-of-type {\n",
       "        vertical-align: middle;\n",
       "    }\n",
       "\n",
       "    .dataframe tbody tr th {\n",
       "        vertical-align: top;\n",
       "    }\n",
       "\n",
       "    .dataframe thead th {\n",
       "        text-align: right;\n",
       "    }\n",
       "</style>\n",
       "<table border=\"1\" class=\"dataframe\">\n",
       "  <thead>\n",
       "    <tr style=\"text-align: right;\">\n",
       "      <th></th>\n",
       "      <th>neighborhood</th>\n",
       "    </tr>\n",
       "  </thead>\n",
       "  <tbody>\n",
       "    <tr>\n",
       "      <th>East Liberty</th>\n",
       "      <td>12</td>\n",
       "    </tr>\n",
       "    <tr>\n",
       "      <th>Central Business District</th>\n",
       "      <td>10</td>\n",
       "    </tr>\n",
       "    <tr>\n",
       "      <th>Beechview</th>\n",
       "      <td>8</td>\n",
       "    </tr>\n",
       "    <tr>\n",
       "      <th>South Side Slopes</th>\n",
       "      <td>7</td>\n",
       "    </tr>\n",
       "    <tr>\n",
       "      <th>Point Breeze</th>\n",
       "      <td>7</td>\n",
       "    </tr>\n",
       "    <tr>\n",
       "      <th>Squirrel Hill South</th>\n",
       "      <td>6</td>\n",
       "    </tr>\n",
       "    <tr>\n",
       "      <th>Mount Washington</th>\n",
       "      <td>6</td>\n",
       "    </tr>\n",
       "    <tr>\n",
       "      <th>Sheraden</th>\n",
       "      <td>6</td>\n",
       "    </tr>\n",
       "    <tr>\n",
       "      <th>Hazelwood</th>\n",
       "      <td>6</td>\n",
       "    </tr>\n",
       "    <tr>\n",
       "      <th>South Side Flats</th>\n",
       "      <td>6</td>\n",
       "    </tr>\n",
       "    <tr>\n",
       "      <th>South Oakland</th>\n",
       "      <td>5</td>\n",
       "    </tr>\n",
       "    <tr>\n",
       "      <th>Troy Hill</th>\n",
       "      <td>5</td>\n",
       "    </tr>\n",
       "  </tbody>\n",
       "</table>\n",
       "</div>"
      ],
      "text/plain": [
       "                           neighborhood\n",
       "East Liberty                         12\n",
       "Central Business District            10\n",
       "Beechview                             8\n",
       "South Side Slopes                     7\n",
       "Point Breeze                          7\n",
       "Squirrel Hill South                   6\n",
       "Mount Washington                      6\n",
       "Sheraden                              6\n",
       "Hazelwood                             6\n",
       "South Side Flats                      6\n",
       "South Oakland                         5\n",
       "Troy Hill                             5"
      ]
     },
     "execution_count": 4,
     "metadata": {},
     "output_type": "execute_result"
    }
   ],
   "source": [
    "parks.head(12)"
   ]
  },
  {
   "cell_type": "markdown",
   "metadata": {},
   "source": [
    "**Next, I performed a statistical analysis of the data frame I created. The average number of parks per neighborhood was 2.86 so about 3 parks per neighborhood. The maximum number of parks per neighborhood was 12 parks.**"
   ]
  },
  {
   "cell_type": "code",
   "execution_count": 5,
   "metadata": {},
   "outputs": [
    {
     "data": {
      "text/html": [
       "<div>\n",
       "<style scoped>\n",
       "    .dataframe tbody tr th:only-of-type {\n",
       "        vertical-align: middle;\n",
       "    }\n",
       "\n",
       "    .dataframe tbody tr th {\n",
       "        vertical-align: top;\n",
       "    }\n",
       "\n",
       "    .dataframe thead th {\n",
       "        text-align: right;\n",
       "    }\n",
       "</style>\n",
       "<table border=\"1\" class=\"dataframe\">\n",
       "  <thead>\n",
       "    <tr style=\"text-align: right;\">\n",
       "      <th></th>\n",
       "      <th>neighborhood</th>\n",
       "    </tr>\n",
       "  </thead>\n",
       "  <tbody>\n",
       "    <tr>\n",
       "      <th>count</th>\n",
       "      <td>73.000000</td>\n",
       "    </tr>\n",
       "    <tr>\n",
       "      <th>mean</th>\n",
       "      <td>2.863014</td>\n",
       "    </tr>\n",
       "    <tr>\n",
       "      <th>std</th>\n",
       "      <td>2.206777</td>\n",
       "    </tr>\n",
       "    <tr>\n",
       "      <th>min</th>\n",
       "      <td>1.000000</td>\n",
       "    </tr>\n",
       "    <tr>\n",
       "      <th>25%</th>\n",
       "      <td>1.000000</td>\n",
       "    </tr>\n",
       "    <tr>\n",
       "      <th>50%</th>\n",
       "      <td>2.000000</td>\n",
       "    </tr>\n",
       "    <tr>\n",
       "      <th>75%</th>\n",
       "      <td>3.000000</td>\n",
       "    </tr>\n",
       "    <tr>\n",
       "      <th>max</th>\n",
       "      <td>12.000000</td>\n",
       "    </tr>\n",
       "  </tbody>\n",
       "</table>\n",
       "</div>"
      ],
      "text/plain": [
       "       neighborhood\n",
       "count     73.000000\n",
       "mean       2.863014\n",
       "std        2.206777\n",
       "min        1.000000\n",
       "25%        1.000000\n",
       "50%        2.000000\n",
       "75%        3.000000\n",
       "max       12.000000"
      ]
     },
     "execution_count": 5,
     "metadata": {},
     "output_type": "execute_result"
    }
   ],
   "source": [
    "#Statistical Analysis of Data\n",
    "parks.describe()"
   ]
  },
  {
   "cell_type": "markdown",
   "metadata": {},
   "source": [
    "**Here I generated a sample graph containing 6 random neighborhoods and each neighborhood's number of parks. Run this multiple times to get an idea for how neighborhoods compare.**"
   ]
  },
  {
   "cell_type": "code",
   "execution_count": 6,
   "metadata": {},
   "outputs": [
    {
     "data": {
      "text/plain": [
       "<matplotlib.axes._subplots.AxesSubplot at 0x7f5e3e957670>"
      ]
     },
     "execution_count": 6,
     "metadata": {},
     "output_type": "execute_result"
    },
    {
     "data": {
      "image/png": "[encoded data removed]",
      "text/plain": [
       "<Figure size 864x576 with 1 Axes>"
      ]
     },
     "metadata": {
      "needs_background": "light"
     },
     "output_type": "display_data"
    }
   ],
   "source": [
    "#Sample Graph\n",
    "#parks = pd.Series(quantities, index=neighborhoods)\n",
    "\n",
    "parks.sample(6).plot.bar(rot=0, figsize=[12,8])"
   ]
  },
  {
   "cell_type": "markdown",
   "metadata": {},
   "source": [
    "**Here I generated a graph of the top neighborhoods and the amount of parks in each.**"
   ]
  },
  {
   "cell_type": "code",
   "execution_count": 7,
   "metadata": {},
   "outputs": [
    {
     "data": {
      "text/plain": [
       "<matplotlib.axes._subplots.AxesSubplot at 0x7f5e3dac1a90>"
      ]
     },
     "execution_count": 7,
     "metadata": {},
     "output_type": "execute_result"
    },
    {
     "data": {
      "image/png": "[encoded data removed]",
      "text/plain": [
       "<Figure size 1872x576 with 1 Axes>"
      ]
     },
     "metadata": {
      "needs_background": "light"
     },
     "output_type": "display_data"
    }
   ],
   "source": [
    "#Top Neighborhoods Graph\n",
    "top_q = [12,10,10,8,7,7,6,6,6,6,6,5,5]\n",
    "top_n = ['East Liberty','Central Business District', 'Point Breeze', 'Beechview', 'South Side Slopes', 'Point Breeze', 'South Side Flats', 'Hazelwood', 'Squirrel Hill South', 'Mount Washington', 'Sheraden', 'South Oakland', 'Troy Hill']\n",
    "top_neighborhoods = pd.Series(top_q, index=top_n)\n",
    "\n",
    "top_neighborhoods.plot.bar(rot=0, figsize=[26,8])"
   ]
  },
  {
   "cell_type": "markdown",
   "metadata": {},
   "source": [
    "**Neighborhoods with Most Parks Ranking**\n",
    "1. **East Liberty**\n",
    "2. **Central Business District and Point Breeze North**\n",
    "3. **Beechview**\n",
    "4. **South Side Slopes and Point Breeze**\n",
    "5. **South Side Flats, Hazelwood, Squirrel Hill South, Mount Washington, and Sheraden**\n",
    "6. **South Oakland and Troy Hill**"
   ]
  },
  {
   "cell_type": "markdown",
   "metadata": {},
   "source": [
    "**Here is a line graph showing the entire data set. Notice how the values 12 and 10 and outliers being that most neighborhoods do not have that many parks. Also notice how many neighborhoods have a value centering around 5 and 3, showing that many neighborhoods on average have a range from about 2 to 5 parks.**"
   ]
  },
  {
   "cell_type": "code",
   "execution_count": 9,
   "metadata": {},
   "outputs": [
    {
     "data": {
      "text/plain": [
       "<matplotlib.axes._subplots.AxesSubplot at 0x7f5e3d914550>"
      ]
     },
     "execution_count": 9,
     "metadata": {},
     "output_type": "execute_result"
    },
    {
     "data": {
      "image/png": "[encoded data removed]",
      "text/plain": [
       "<Figure size 1080x576 with 1 Axes>"
      ]
     },
     "metadata": {
      "needs_background": "light"
     },
     "output_type": "display_data"
    }
   ],
   "source": [
    "#Entire Data Set Graph\n",
    "parks.plot.bar(figsize=[15,8])"
   ]
  },
  {
   "cell_type": "markdown",
   "metadata": {},
   "source": [
    "**Here is a tool I created using user input to allow a user to look up the amount of parks in a certain neighborhood. This could be valuable as a resource when researching whether or not someone should live in a certain neighborhood in the City of Pittsburgh.**"
   ]
  },
  {
   "cell_type": "code",
   "execution_count": 11,
   "metadata": {},
   "outputs": [
    {
     "name": "stdout",
     "output_type": "stream",
     "text": [
      "Enter a neighborhood to find its number of parks\n",
      "Enter the word 'stop' to stop searching\n",
      "\n"
     ]
    },
    {
     "name": "stdin",
     "output_type": "stream",
     "text": [
      "Enter a neighborhood:  stop\n"
     ]
    }
   ],
   "source": [
    "#Lookup a Specific Neighborhood\n",
    "\n",
    "\n",
    "all_neighborhoods = parks_data.iloc[0:,5]\n",
    "neighborhoods = []\n",
    "\n",
    "\n",
    "for neighborhood in all_neighborhoods:\n",
    "       if neighborhood not in neighborhoods:\n",
    "            neighborhoods.append(neighborhood)\n",
    "\n",
    "\n",
    "\n",
    "\n",
    "print(\"Enter a neighborhood to find its number of parks\")\n",
    "print(\"Enter the word 'stop' to stop searching\")\n",
    "print()\n",
    "while True:\n",
    "    search = input(prompt=\"Enter a neighborhood: \")\n",
    "    search = str(search)\n",
    "    if (search.startswith('stop')):\n",
    "        break\n",
    "    elif search not in neighborhoods:\n",
    "        print(\"The neighborhood you entered is not in this data set.\")\n",
    "        break\n",
    "    else:\n",
    "        print(parks_values[search], \"parks\")\n",
    "    print()\n",
    "            \n"
   ]
  },
  {
   "cell_type": "markdown",
   "metadata": {},
   "source": [
    "**However, after analyzing this data set, I noticed that some of the parks listed were not traditional parks, so I analyzed this as well.**"
   ]
  },
  {
   "cell_type": "code",
   "execution_count": 21,
   "metadata": {},
   "outputs": [
    {
     "data": {
      "text/html": [
       "<div>\n",
       "<style scoped>\n",
       "    .dataframe tbody tr th:only-of-type {\n",
       "        vertical-align: middle;\n",
       "    }\n",
       "\n",
       "    .dataframe tbody tr th {\n",
       "        vertical-align: top;\n",
       "    }\n",
       "\n",
       "    .dataframe thead th {\n",
       "        text-align: right;\n",
       "    }\n",
       "</style>\n",
       "<table border=\"1\" class=\"dataframe\">\n",
       "  <thead>\n",
       "    <tr style=\"text-align: right;\">\n",
       "      <th></th>\n",
       "      <th>type</th>\n",
       "    </tr>\n",
       "  </thead>\n",
       "  <tbody>\n",
       "    <tr>\n",
       "      <th>Park</th>\n",
       "      <td>153</td>\n",
       "    </tr>\n",
       "    <tr>\n",
       "      <th>Traffic Island/Median</th>\n",
       "      <td>33</td>\n",
       "    </tr>\n",
       "    <tr>\n",
       "      <th>Building Grounds</th>\n",
       "      <td>10</td>\n",
       "    </tr>\n",
       "    <tr>\n",
       "      <th>Monument/Memorial</th>\n",
       "      <td>7</td>\n",
       "    </tr>\n",
       "    <tr>\n",
       "      <th>Open Space</th>\n",
       "      <td>6</td>\n",
       "    </tr>\n",
       "  </tbody>\n",
       "</table>\n",
       "</div>"
      ],
      "text/plain": [
       "                       type\n",
       "Park                    153\n",
       "Traffic Island/Median    33\n",
       "Building Grounds         10\n",
       "Monument/Memorial         7\n",
       "Open Space                6"
      ]
     },
     "execution_count": 21,
     "metadata": {},
     "output_type": "execute_result"
    }
   ],
   "source": [
    "#Number of Each Type of Park \n",
    "\n",
    "type_values = parks_data['type'].value_counts()\n",
    "types = pd.DataFrame(type_values)\n",
    "types.head(10)"
   ]
  },
  {
   "cell_type": "markdown",
   "metadata": {},
   "source": [
    "**Here is a graph showing how many of each type of park there is in the data set.**"
   ]
  },
  {
   "cell_type": "code",
   "execution_count": 22,
   "metadata": {},
   "outputs": [
    {
     "data": {
      "text/plain": [
       "<matplotlib.axes._subplots.AxesSubplot at 0x7f0cd1520b20>"
      ]
     },
     "execution_count": 22,
     "metadata": {},
     "output_type": "execute_result"
    },
    {
     "data": {
      "image/png": "[encoded data removed]",
      "text/plain": [
       "<Figure size 720x576 with 1 Axes>"
      ]
     },
     "metadata": {
      "needs_background": "light"
     },
     "output_type": "display_data"
    }
   ],
   "source": [
    "types.plot.bar(rot=0, figsize=[10,8])"
   ]
  },
  {
   "cell_type": "markdown",
   "metadata": {},
   "source": [
    "**Now let's analyze on a broader scale what may be the best region to live in, and what neighborhoods are in that region.**"
   ]
  },
  {
   "cell_type": "code",
   "execution_count": 23,
   "metadata": {},
   "outputs": [
    {
     "data": {
      "text/html": [
       "<div>\n",
       "<style scoped>\n",
       "    .dataframe tbody tr th:only-of-type {\n",
       "        vertical-align: middle;\n",
       "    }\n",
       "\n",
       "    .dataframe tbody tr th {\n",
       "        vertical-align: top;\n",
       "    }\n",
       "\n",
       "    .dataframe thead th {\n",
       "        text-align: right;\n",
       "    }\n",
       "</style>\n",
       "<table border=\"1\" class=\"dataframe\">\n",
       "  <thead>\n",
       "    <tr style=\"text-align: right;\">\n",
       "      <th></th>\n",
       "      <th>maintenance_responsibility</th>\n",
       "    </tr>\n",
       "  </thead>\n",
       "  <tbody>\n",
       "    <tr>\n",
       "      <th>Parks - Northern</th>\n",
       "      <td>39</td>\n",
       "    </tr>\n",
       "    <tr>\n",
       "      <th>Parks - Western</th>\n",
       "      <td>32</td>\n",
       "    </tr>\n",
       "    <tr>\n",
       "      <th>Parks - Southern</th>\n",
       "      <td>29</td>\n",
       "    </tr>\n",
       "    <tr>\n",
       "      <th>Parks - Northeast</th>\n",
       "      <td>25</td>\n",
       "    </tr>\n",
       "    <tr>\n",
       "      <th>Parks - Schenley</th>\n",
       "      <td>23</td>\n",
       "    </tr>\n",
       "  </tbody>\n",
       "</table>\n",
       "</div>"
      ],
      "text/plain": [
       "                   maintenance_responsibility\n",
       "Parks - Northern                           39\n",
       "Parks - Western                            32\n",
       "Parks - Southern                           29\n",
       "Parks - Northeast                          25\n",
       "Parks - Schenley                           23"
      ]
     },
     "execution_count": 23,
     "metadata": {},
     "output_type": "execute_result"
    }
   ],
   "source": [
    "#Regions\n",
    "\n",
    "region_values = parks_data['maintenance_responsibility'].value_counts()\n",
    "regions = pd.DataFrame(region_values)\n",
    "top_regions = regions.head(5)\n",
    "top_regions"
   ]
  },
  {
   "cell_type": "markdown",
   "metadata": {},
   "source": [
    "**The Parks-Northern region has the most parks in it with 39 parks being in that region. Next, I found which neighborhoods are in the top five regions listed.**"
   ]
  },
  {
   "cell_type": "code",
   "execution_count": 24,
   "metadata": {},
   "outputs": [
    {
     "name": "stdout",
     "output_type": "stream",
     "text": [
      "Region: Parks - Northern\n",
      "\n",
      "North Shore\n",
      "Allegheny Center\n",
      "Central Business District\n",
      "Central Northside\n",
      "Brighton Heights\n",
      "Spring Garden\n",
      "Troy Hill\n",
      "Perry South\n",
      "Fineview\n",
      "Perry North\n",
      "Spring Hill-City View\n",
      "Manchester\n",
      "Marshall-Shadeland\n",
      "\n",
      "Region: Parks - Western\n",
      "\n",
      "Banksville\n",
      "Windgap\n",
      "Westwood\n",
      "Crafton Heights\n",
      "East Carnegie\n",
      "Allentown\n",
      "Duquesne Heights\n",
      "Mount Washington\n",
      "Esplen\n",
      "Fairywood\n",
      "Elliott\n",
      "Sheraden\n",
      "Oakwood\n",
      "West End\n",
      "\n",
      "Region: Parks - Southern\n",
      "\n",
      "Beechview\n",
      "South Side Slopes\n",
      "South Side Flats\n",
      "Bon Air\n",
      "Brookline\n",
      "Arlington\n",
      "Carrick\n",
      "Beltzhoover\n",
      "\n",
      "Region: Parks - Northeast\n",
      "\n",
      "Lower Lawrenceville\n",
      "Lincoln-Lemington-Belmar\n",
      "Stanton Heights\n",
      "Upper Lawrenceville\n",
      "East Liberty\n",
      "Garfield\n",
      "Bloomfield\n",
      "Highland Park\n",
      "Morningside\n",
      "Larimer\n",
      "Central Lawrenceville\n",
      "\n",
      "Region: Parks - Schenley\n",
      "\n",
      "Crawford-Roberts\n",
      "Bedford Dwellings\n",
      "Hazelwood\n",
      "Central Oakland\n",
      "Strip District\n",
      "Greenfield\n",
      "South Oakland\n",
      "Terrace Village\n",
      "Upper Hill\n",
      "Squirrel Hill South\n",
      "West Oakland\n",
      "Bluff\n",
      "Middle Hill\n",
      "Polish Hill\n",
      "\n"
     ]
    }
   ],
   "source": [
    "lists_in_list = []\n",
    "\n",
    "n_in_top_r = []\n",
    "all_regions = parks_data.iloc[0:,3]\n",
    "top_regions = ['Parks - Northern','Parks - Western','Parks - Southern','Parks - Northeast','Parks - Schenley']\n",
    "index = 0\n",
    "for region in top_regions:\n",
    "    print(\"Region:\", region)\n",
    "    print()\n",
    "    for n in all_neighborhoods:\n",
    "        if all_regions[index].startswith(region) and n not in n_in_top_r:\n",
    "            print(n)\n",
    "            n_in_top_r.append(n)\n",
    "        index = index + 1\n",
    "    lists_in_list.append(n_in_top_r)\n",
    "    n_in_top_r = []\n",
    "    index = 0\n",
    "    print()\n",
    "    "
   ]
  },
  {
   "cell_type": "markdown",
   "metadata": {},
   "source": [
    "**Here I have shown which top neighborhoods are in top regions. Top neighborhoods are neighborhoods ranked for having a lot of parks and top regions are regions with a lot of parks.**"
   ]
  },
  {
   "cell_type": "code",
   "execution_count": 25,
   "metadata": {},
   "outputs": [
    {
     "name": "stdout",
     "output_type": "stream",
     "text": [
      "Top Neighborhoods in Region 1\n",
      "\n",
      "Central Business District\n",
      "Troy Hill\n",
      "\n",
      "Top Neighborhoods in Region 2\n",
      "\n",
      "Mount Washington\n",
      "Sheraden\n",
      "\n",
      "Top Neighborhoods in Region 3\n",
      "\n",
      "Beechview\n",
      "South Side Slopes\n",
      "South Side Flats\n",
      "\n",
      "Top Neighborhoods in Region 4\n",
      "\n",
      "East Liberty\n",
      "\n",
      "Top Neighborhoods in Region 5\n",
      "\n",
      "Hazelwood\n",
      "Squirrel Hill South\n",
      "South Oakland\n",
      "\n"
     ]
    }
   ],
   "source": [
    "#Top Neighborhoods in Top Regions\n",
    "top_n_in_top_r_counts = []\n",
    "\n",
    "r_num = 1\n",
    "count = 0\n",
    "for l in lists_in_list:\n",
    "    print(\"Top Neighborhoods in Region\",r_num)\n",
    "    print()\n",
    "    for t in top_n:\n",
    "        if t in l:\n",
    "            count = count + 1\n",
    "            print(t)\n",
    "          \n",
    "    top_n_in_top_r_counts.append(count)\n",
    "    lists_in_list\n",
    "    count = 0\n",
    "    r_num += 1\n",
    "    print()\n",
    "\n",
    "\n",
    "\n"
   ]
  },
  {
   "cell_type": "markdown",
   "metadata": {},
   "source": [
    "**Notice that regions 'Parks - Southern' and 'Parks - Schenely' (regions 3 and 5) have the most top neighborhoods in them, making them the best regions to live in. After analyzing the data based on region, I established a new ranking based on most top neighborhoods in top regions using parks per neighborhood counts to break ties.**"
   ]
  },
  {
   "cell_type": "markdown",
   "metadata": {},
   "source": [
    "**New Ranking**\n",
    "1. **Beechview**\n",
    "2. **South Side Slopes**\n",
    "3. **South Side Flats**\n",
    "4. **Hazelwood**\n",
    "5. **Squirrel Hill South**\n",
    "6. **South Oakland**\n",
    "7. **Central Business District**\n",
    "8. **Mount Washington**\n",
    "9. **Sheraden**\n",
    "10. **Troy Hill**\n",
    "11. **East Liberty**"
   ]
  },
  {
   "cell_type": "markdown",
   "metadata": {},
   "source": [
    "**Notice how much of a drastic change there was in the ranking when we base the ranking on best regions. East Liberty, who was ranked first when only looking at most parks, is now in last because it is not in a top region (meaning a region with a lot of parks). Beechview still is ranked high, and both the South Side Flats and Slopes moved up in the ranking slightly.**"
   ]
  },
  {
   "cell_type": "markdown",
   "metadata": {},
   "source": [
    "### **Summary of City of Pittsburgh Parks Data Set**\n",
    "\n",
    "**The overall winner for this data set is Beechview ranked first and third after performing analysis of two different aspects of the data set and forming a general conclusion. Beechview has 8 parks, ranked third in the ranking based of amount of parks and ranked first in the ranking based on region. Beechview could be considered a good neighborhood to live in and a good neighborhood for chidlren based on access to many parks of different types and for being in a region with many parks.**"
   ]
  },
  {
   "cell_type": "markdown",
   "metadata": {},
   "source": [
    "## **City of Pittsburgh Courts and Rinks**\n",
    "**First, I read in the City of Pittsburgh Courts and Rinks data set. Here is a sample of 10 entires in this data set.**"
   ]
  },
  {
   "cell_type": "code",
   "execution_count": 10,
   "metadata": {},
   "outputs": [
    {
     "data": {
      "text/html": [
       "<div>\n",
       "<style scoped>\n",
       "    .dataframe tbody tr th:only-of-type {\n",
       "        vertical-align: middle;\n",
       "    }\n",
       "\n",
       "    .dataframe tbody tr th {\n",
       "        vertical-align: top;\n",
       "    }\n",
       "\n",
       "    .dataframe thead th {\n",
       "        text-align: right;\n",
       "    }\n",
       "</style>\n",
       "<table border=\"1\" class=\"dataframe\">\n",
       "  <thead>\n",
       "    <tr style=\"text-align: right;\">\n",
       "      <th></th>\n",
       "      <th>id</th>\n",
       "      <th>name</th>\n",
       "      <th>type</th>\n",
       "      <th>park</th>\n",
       "      <th>location</th>\n",
       "      <th>surface_material</th>\n",
       "      <th>grandstand</th>\n",
       "      <th>inactive</th>\n",
       "      <th>neighborhood</th>\n",
       "      <th>council_district</th>\n",
       "      <th>ward</th>\n",
       "      <th>tract</th>\n",
       "      <th>public_works_division</th>\n",
       "      <th>pli_division</th>\n",
       "      <th>police_zone</th>\n",
       "      <th>fire_zone</th>\n",
       "      <th>latitude</th>\n",
       "      <th>longitude</th>\n",
       "    </tr>\n",
       "  </thead>\n",
       "  <tbody>\n",
       "    <tr>\n",
       "      <th>95</th>\n",
       "      <td>1271269929</td>\n",
       "      <td>Highland Park Flynn Parklet Basketball Court 1</td>\n",
       "      <td>Basketball (Half)</td>\n",
       "      <td>Highland Park</td>\n",
       "      <td>NaN</td>\n",
       "      <td>Asphalt</td>\n",
       "      <td>0</td>\n",
       "      <td>f</td>\n",
       "      <td>Highland Park</td>\n",
       "      <td>7</td>\n",
       "      <td>11</td>\n",
       "      <td>42003110200</td>\n",
       "      <td>2</td>\n",
       "      <td>11</td>\n",
       "      <td>5</td>\n",
       "      <td>3-9</td>\n",
       "      <td>40.478829</td>\n",
       "      <td>-79.918815</td>\n",
       "    </tr>\n",
       "    <tr>\n",
       "      <th>48</th>\n",
       "      <td>2034859154</td>\n",
       "      <td>East Carnegie Park Basketball Court 1</td>\n",
       "      <td>Basketball (Full)</td>\n",
       "      <td>East Carnegie Park</td>\n",
       "      <td>NaN</td>\n",
       "      <td>Asphalt</td>\n",
       "      <td>0</td>\n",
       "      <td>f</td>\n",
       "      <td>East Carnegie</td>\n",
       "      <td>2</td>\n",
       "      <td>28</td>\n",
       "      <td>42003562800</td>\n",
       "      <td>5</td>\n",
       "      <td>28</td>\n",
       "      <td>6</td>\n",
       "      <td>1-19</td>\n",
       "      <td>40.414503</td>\n",
       "      <td>-80.074882</td>\n",
       "    </tr>\n",
       "    <tr>\n",
       "      <th>76</th>\n",
       "      <td>1562820930</td>\n",
       "      <td>Frick Park Tennis Court 2</td>\n",
       "      <td>Tennis</td>\n",
       "      <td>Frick Park</td>\n",
       "      <td>NaN</td>\n",
       "      <td>Clay</td>\n",
       "      <td>0</td>\n",
       "      <td>f</td>\n",
       "      <td>Regent Square</td>\n",
       "      <td>5</td>\n",
       "      <td>14</td>\n",
       "      <td>42003141000</td>\n",
       "      <td>3</td>\n",
       "      <td>14</td>\n",
       "      <td>4</td>\n",
       "      <td>2-16</td>\n",
       "      <td>40.437285</td>\n",
       "      <td>-79.897736</td>\n",
       "    </tr>\n",
       "    <tr>\n",
       "      <th>67</th>\n",
       "      <td>1631462223</td>\n",
       "      <td>Fort Pitt Park Tennis Court 1</td>\n",
       "      <td>Tennis</td>\n",
       "      <td>Fort Pitt Park</td>\n",
       "      <td>NaN</td>\n",
       "      <td>Asphalt</td>\n",
       "      <td>0</td>\n",
       "      <td>f</td>\n",
       "      <td>Garfield</td>\n",
       "      <td>9</td>\n",
       "      <td>10</td>\n",
       "      <td>42003101600</td>\n",
       "      <td>2</td>\n",
       "      <td>10</td>\n",
       "      <td>5</td>\n",
       "      <td>3-4</td>\n",
       "      <td>40.470266</td>\n",
       "      <td>-79.941825</td>\n",
       "    </tr>\n",
       "    <tr>\n",
       "      <th>149</th>\n",
       "      <td>1130918360</td>\n",
       "      <td>McKinley Park Tennis Court 3</td>\n",
       "      <td>Tennis</td>\n",
       "      <td>McKinley Park</td>\n",
       "      <td>NaN</td>\n",
       "      <td>Astroturf</td>\n",
       "      <td>0</td>\n",
       "      <td>f</td>\n",
       "      <td>Beltzhoover</td>\n",
       "      <td>4</td>\n",
       "      <td>18</td>\n",
       "      <td>42003562400</td>\n",
       "      <td>5</td>\n",
       "      <td>18</td>\n",
       "      <td>3</td>\n",
       "      <td>4-7</td>\n",
       "      <td>40.412275</td>\n",
       "      <td>-80.001191</td>\n",
       "    </tr>\n",
       "    <tr>\n",
       "      <th>68</th>\n",
       "      <td>2130325983</td>\n",
       "      <td>Four Mile Run Basketball Court 1</td>\n",
       "      <td>Basketball (Full)</td>\n",
       "      <td>Four Mile Run Park</td>\n",
       "      <td>Under Pkwy Bridge. Invisible from the air.</td>\n",
       "      <td>Asphalt</td>\n",
       "      <td>0</td>\n",
       "      <td>f</td>\n",
       "      <td>Greenfield</td>\n",
       "      <td>3</td>\n",
       "      <td>4</td>\n",
       "      <td>42003151600</td>\n",
       "      <td>3</td>\n",
       "      <td>4</td>\n",
       "      <td>4</td>\n",
       "      <td>2-12</td>\n",
       "      <td>40.427859</td>\n",
       "      <td>-79.949268</td>\n",
       "    </tr>\n",
       "    <tr>\n",
       "      <th>200</th>\n",
       "      <td>1546273895</td>\n",
       "      <td>Stratmore Park Basketball Court 1</td>\n",
       "      <td>Basketball (Full)</td>\n",
       "      <td>Andrew Joseph Kukuruda Park</td>\n",
       "      <td>NaN</td>\n",
       "      <td>Asphalt</td>\n",
       "      <td>0</td>\n",
       "      <td>f</td>\n",
       "      <td>Crafton Heights</td>\n",
       "      <td>2</td>\n",
       "      <td>28</td>\n",
       "      <td>42003281500</td>\n",
       "      <td>5</td>\n",
       "      <td>28</td>\n",
       "      <td>6</td>\n",
       "      <td>1-18</td>\n",
       "      <td>40.439646</td>\n",
       "      <td>-80.056183</td>\n",
       "    </tr>\n",
       "    <tr>\n",
       "      <th>139</th>\n",
       "      <td>1060181153</td>\n",
       "      <td>McBride Park Basketball Court</td>\n",
       "      <td>Basketball (Full)</td>\n",
       "      <td>McBride Park</td>\n",
       "      <td>NaN</td>\n",
       "      <td>Concrete</td>\n",
       "      <td>0</td>\n",
       "      <td>f</td>\n",
       "      <td>Lincoln Place</td>\n",
       "      <td>5</td>\n",
       "      <td>31</td>\n",
       "      <td>42003310200</td>\n",
       "      <td>3</td>\n",
       "      <td>31</td>\n",
       "      <td>4</td>\n",
       "      <td>4-20</td>\n",
       "      <td>40.369828</td>\n",
       "      <td>-79.907752</td>\n",
       "    </tr>\n",
       "    <tr>\n",
       "      <th>143</th>\n",
       "      <td>363349951</td>\n",
       "      <td>McKinley Park Basketball Court 1</td>\n",
       "      <td>Basketball (Full)</td>\n",
       "      <td>McKinley Park</td>\n",
       "      <td>NaN</td>\n",
       "      <td>Asphalt</td>\n",
       "      <td>0</td>\n",
       "      <td>f</td>\n",
       "      <td>Beltzhoover</td>\n",
       "      <td>4</td>\n",
       "      <td>18</td>\n",
       "      <td>42003562400</td>\n",
       "      <td>5</td>\n",
       "      <td>18</td>\n",
       "      <td>3</td>\n",
       "      <td>4-16</td>\n",
       "      <td>40.413955</td>\n",
       "      <td>-80.003521</td>\n",
       "    </tr>\n",
       "    <tr>\n",
       "      <th>232</th>\n",
       "      <td>708245427</td>\n",
       "      <td>Swisshelm Park Tennis Court</td>\n",
       "      <td>Tennis</td>\n",
       "      <td>Swisshelm Park</td>\n",
       "      <td>NaN</td>\n",
       "      <td>NaN</td>\n",
       "      <td>0</td>\n",
       "      <td>NaN</td>\n",
       "      <td>Swisshelm Park</td>\n",
       "      <td>5</td>\n",
       "      <td>14</td>\n",
       "      <td>42003141100</td>\n",
       "      <td>3</td>\n",
       "      <td>14</td>\n",
       "      <td>4</td>\n",
       "      <td>2-19</td>\n",
       "      <td>40.421238</td>\n",
       "      <td>-79.901929</td>\n",
       "    </tr>\n",
       "  </tbody>\n",
       "</table>\n",
       "</div>"
      ],
      "text/plain": [
       "             id                                            name  \\\n",
       "95   1271269929  Highland Park Flynn Parklet Basketball Court 1   \n",
       "48   2034859154           East Carnegie Park Basketball Court 1   \n",
       "76   1562820930                       Frick Park Tennis Court 2   \n",
       "67   1631462223                   Fort Pitt Park Tennis Court 1   \n",
       "149  1130918360                    McKinley Park Tennis Court 3   \n",
       "68   2130325983                Four Mile Run Basketball Court 1   \n",
       "200  1546273895               Stratmore Park Basketball Court 1   \n",
       "139  1060181153                   McBride Park Basketball Court   \n",
       "143   363349951                McKinley Park Basketball Court 1   \n",
       "232   708245427                     Swisshelm Park Tennis Court   \n",
       "\n",
       "                  type                         park  \\\n",
       "95   Basketball (Half)                Highland Park   \n",
       "48   Basketball (Full)           East Carnegie Park   \n",
       "76              Tennis                   Frick Park   \n",
       "67              Tennis               Fort Pitt Park   \n",
       "149             Tennis                McKinley Park   \n",
       "68   Basketball (Full)           Four Mile Run Park   \n",
       "200  Basketball (Full)  Andrew Joseph Kukuruda Park   \n",
       "139  Basketball (Full)                 McBride Park   \n",
       "143  Basketball (Full)                McKinley Park   \n",
       "232             Tennis               Swisshelm Park   \n",
       "\n",
       "                                       location surface_material  grandstand  \\\n",
       "95                                          NaN          Asphalt           0   \n",
       "48                                          NaN          Asphalt           0   \n",
       "76                                          NaN             Clay           0   \n",
       "67                                          NaN          Asphalt           0   \n",
       "149                                         NaN        Astroturf           0   \n",
       "68   Under Pkwy Bridge. Invisible from the air.          Asphalt           0   \n",
       "200                                         NaN          Asphalt           0   \n",
       "139                                         NaN         Concrete           0   \n",
       "143                                         NaN          Asphalt           0   \n",
       "232                                         NaN              NaN           0   \n",
       "\n",
       "    inactive     neighborhood  council_district  ward        tract  \\\n",
       "95         f    Highland Park                 7    11  42003110200   \n",
       "48         f    East Carnegie                 2    28  42003562800   \n",
       "76         f    Regent Square                 5    14  42003141000   \n",
       "67         f         Garfield                 9    10  42003101600   \n",
       "149        f      Beltzhoover                 4    18  42003562400   \n",
       "68         f       Greenfield                 3     4  42003151600   \n",
       "200        f  Crafton Heights                 2    28  42003281500   \n",
       "139        f    Lincoln Place                 5    31  42003310200   \n",
       "143        f      Beltzhoover                 4    18  42003562400   \n",
       "232      NaN   Swisshelm Park                 5    14  42003141100   \n",
       "\n",
       "     public_works_division  pli_division  police_zone fire_zone   latitude  \\\n",
       "95                       2            11            5       3-9  40.478829   \n",
       "48                       5            28            6      1-19  40.414503   \n",
       "76                       3            14            4      2-16  40.437285   \n",
       "67                       2            10            5       3-4  40.470266   \n",
       "149                      5            18            3       4-7  40.412275   \n",
       "68                       3             4            4      2-12  40.427859   \n",
       "200                      5            28            6      1-18  40.439646   \n",
       "139                      3            31            4      4-20  40.369828   \n",
       "143                      5            18            3      4-16  40.413955   \n",
       "232                      3            14            4      2-19  40.421238   \n",
       "\n",
       "     longitude  \n",
       "95  -79.918815  \n",
       "48  -80.074882  \n",
       "76  -79.897736  \n",
       "67  -79.941825  \n",
       "149 -80.001191  \n",
       "68  -79.949268  \n",
       "200 -80.056183  \n",
       "139 -79.907752  \n",
       "143 -80.003521  \n",
       "232 -79.901929  "
      ]
     },
     "execution_count": 10,
     "metadata": {},
     "output_type": "execute_result"
    }
   ],
   "source": [
    "#Read in Data\n",
    "courts_rinks_data = pd.read_csv(\"cityofpghcourtsandrinks.csv\")\n",
    "courts_rinks_data.sample(10)"
   ]
  },
  {
   "cell_type": "markdown",
   "metadata": {},
   "source": [
    "**Next, I found how many courts/rinks were in each neighborhood using `.value_counts()`. Here is a sample of 20 neighborhoods and the amount of courts/rinks in each.**"
   ]
  },
  {
   "cell_type": "code",
   "execution_count": 12,
   "metadata": {},
   "outputs": [
    {
     "data": {
      "text/html": [
       "<div>\n",
       "<style scoped>\n",
       "    .dataframe tbody tr th:only-of-type {\n",
       "        vertical-align: middle;\n",
       "    }\n",
       "\n",
       "    .dataframe tbody tr th {\n",
       "        vertical-align: top;\n",
       "    }\n",
       "\n",
       "    .dataframe thead th {\n",
       "        text-align: right;\n",
       "    }\n",
       "</style>\n",
       "<table border=\"1\" class=\"dataframe\">\n",
       "  <thead>\n",
       "    <tr style=\"text-align: right;\">\n",
       "      <th></th>\n",
       "      <th>neighborhood</th>\n",
       "    </tr>\n",
       "  </thead>\n",
       "  <tbody>\n",
       "    <tr>\n",
       "      <th>Strip District</th>\n",
       "      <td>1</td>\n",
       "    </tr>\n",
       "    <tr>\n",
       "      <th>East Hills</th>\n",
       "      <td>2</td>\n",
       "    </tr>\n",
       "    <tr>\n",
       "      <th>Morningside</th>\n",
       "      <td>4</td>\n",
       "    </tr>\n",
       "    <tr>\n",
       "      <th>East Carnegie</th>\n",
       "      <td>2</td>\n",
       "    </tr>\n",
       "    <tr>\n",
       "      <th>Middle Hill</th>\n",
       "      <td>1</td>\n",
       "    </tr>\n",
       "    <tr>\n",
       "      <th>New Homestead</th>\n",
       "      <td>2</td>\n",
       "    </tr>\n",
       "    <tr>\n",
       "      <th>Bloomfield</th>\n",
       "      <td>5</td>\n",
       "    </tr>\n",
       "    <tr>\n",
       "      <th>Hazelwood</th>\n",
       "      <td>10</td>\n",
       "    </tr>\n",
       "    <tr>\n",
       "      <th>South Oakland</th>\n",
       "      <td>2</td>\n",
       "    </tr>\n",
       "    <tr>\n",
       "      <th>Lincoln-Lemington-Belmar</th>\n",
       "      <td>2</td>\n",
       "    </tr>\n",
       "    <tr>\n",
       "      <th>Garfield</th>\n",
       "      <td>3</td>\n",
       "    </tr>\n",
       "    <tr>\n",
       "      <th>Troy Hill</th>\n",
       "      <td>8</td>\n",
       "    </tr>\n",
       "    <tr>\n",
       "      <th>Hays</th>\n",
       "      <td>1</td>\n",
       "    </tr>\n",
       "    <tr>\n",
       "      <th>Marshall-Shadeland</th>\n",
       "      <td>1</td>\n",
       "    </tr>\n",
       "    <tr>\n",
       "      <th>Perry South</th>\n",
       "      <td>1</td>\n",
       "    </tr>\n",
       "    <tr>\n",
       "      <th>Brookline</th>\n",
       "      <td>9</td>\n",
       "    </tr>\n",
       "    <tr>\n",
       "      <th>Lower Lawrenceville</th>\n",
       "      <td>6</td>\n",
       "    </tr>\n",
       "    <tr>\n",
       "      <th>Allegheny Center</th>\n",
       "      <td>9</td>\n",
       "    </tr>\n",
       "    <tr>\n",
       "      <th>Stanton Heights</th>\n",
       "      <td>2</td>\n",
       "    </tr>\n",
       "    <tr>\n",
       "      <th>Central Lawrenceville</th>\n",
       "      <td>1</td>\n",
       "    </tr>\n",
       "  </tbody>\n",
       "</table>\n",
       "</div>"
      ],
      "text/plain": [
       "                          neighborhood\n",
       "Strip District                       1\n",
       "East Hills                           2\n",
       "Morningside                          4\n",
       "East Carnegie                        2\n",
       "Middle Hill                          1\n",
       "New Homestead                        2\n",
       "Bloomfield                           5\n",
       "Hazelwood                           10\n",
       "South Oakland                        2\n",
       "Lincoln-Lemington-Belmar             2\n",
       "Garfield                             3\n",
       "Troy Hill                            8\n",
       "Hays                                 1\n",
       "Marshall-Shadeland                   1\n",
       "Perry South                          1\n",
       "Brookline                            9\n",
       "Lower Lawrenceville                  6\n",
       "Allegheny Center                     9\n",
       "Stanton Heights                      2\n",
       "Central Lawrenceville                1"
      ]
     },
     "execution_count": 12,
     "metadata": {},
     "output_type": "execute_result"
    }
   ],
   "source": [
    "#Courts and Rinks Per Neighborhood\n",
    "\n",
    "courts_values = courts_rinks_data['neighborhood'].value_counts()\n",
    "courts_and_rinks = pd.DataFrame(courts_values)\n",
    "\n",
    "courts_and_rinks.sample(20)"
   ]
  },
  {
   "cell_type": "markdown",
   "metadata": {},
   "source": [
    "**Here is a graph of all the neighborhoods and the amount of courts and rinks in each.**"
   ]
  },
  {
   "cell_type": "code",
   "execution_count": 14,
   "metadata": {},
   "outputs": [
    {
     "data": {
      "text/plain": [
       "<matplotlib.axes._subplots.AxesSubplot at 0x7f5e3d5d5280>"
      ]
     },
     "execution_count": 14,
     "metadata": {},
     "output_type": "execute_result"
    },
    {
     "data": {
      "image/png": "[encoded data removed]",
      "text/plain": [
       "<Figure size 1080x576 with 1 Axes>"
      ]
     },
     "metadata": {
      "needs_background": "light"
     },
     "output_type": "display_data"
    }
   ],
   "source": [
    "courts_values.plot.bar(figsize=[15,8])"
   ]
  },
  {
   "cell_type": "markdown",
   "metadata": {},
   "source": [
    "**Here is the top 8 neighborhoods with the most courts/rinks with some neighborhoods forming a tie for the amount of courts/rinks. From this I found the top 6 rankings for most courts/rinks per neighborhood.**"
   ]
  },
  {
   "cell_type": "code",
   "execution_count": 5,
   "metadata": {},
   "outputs": [
    {
     "data": {
      "text/html": [
       "<div>\n",
       "<style scoped>\n",
       "    .dataframe tbody tr th:only-of-type {\n",
       "        vertical-align: middle;\n",
       "    }\n",
       "\n",
       "    .dataframe tbody tr th {\n",
       "        vertical-align: top;\n",
       "    }\n",
       "\n",
       "    .dataframe thead th {\n",
       "        text-align: right;\n",
       "    }\n",
       "</style>\n",
       "<table border=\"1\" class=\"dataframe\">\n",
       "  <thead>\n",
       "    <tr style=\"text-align: right;\">\n",
       "      <th></th>\n",
       "      <th>neighborhood</th>\n",
       "    </tr>\n",
       "  </thead>\n",
       "  <tbody>\n",
       "    <tr>\n",
       "      <th>Squirrel Hill South</th>\n",
       "      <td>26</td>\n",
       "    </tr>\n",
       "    <tr>\n",
       "      <th>Highland Park</th>\n",
       "      <td>20</td>\n",
       "    </tr>\n",
       "    <tr>\n",
       "      <th>Hazelwood</th>\n",
       "      <td>10</td>\n",
       "    </tr>\n",
       "    <tr>\n",
       "      <th>Beltzhoover</th>\n",
       "      <td>9</td>\n",
       "    </tr>\n",
       "    <tr>\n",
       "      <th>Allegheny Center</th>\n",
       "      <td>9</td>\n",
       "    </tr>\n",
       "    <tr>\n",
       "      <th>Brookline</th>\n",
       "      <td>9</td>\n",
       "    </tr>\n",
       "    <tr>\n",
       "      <th>Troy Hill</th>\n",
       "      <td>8</td>\n",
       "    </tr>\n",
       "    <tr>\n",
       "      <th>Beechview</th>\n",
       "      <td>7</td>\n",
       "    </tr>\n",
       "  </tbody>\n",
       "</table>\n",
       "</div>"
      ],
      "text/plain": [
       "                     neighborhood\n",
       "Squirrel Hill South            26\n",
       "Highland Park                  20\n",
       "Hazelwood                      10\n",
       "Beltzhoover                     9\n",
       "Allegheny Center                9\n",
       "Brookline                       9\n",
       "Troy Hill                       8\n",
       "Beechview                       7"
      ]
     },
     "execution_count": 5,
     "metadata": {},
     "output_type": "execute_result"
    }
   ],
   "source": [
    "courts_and_rinks.head(8)"
   ]
  },
  {
   "cell_type": "markdown",
   "metadata": {},
   "source": [
    "**Next, I performed a statistical analysis of the data frame using `.describe()`. Notice that the average number of courts/rinks is 3.9, so about 4 courts/rinks per neighborhood. The maximum number of courts/rinks per neighborhood is 26 courts/rinks.**"
   ]
  },
  {
   "cell_type": "code",
   "execution_count": 6,
   "metadata": {},
   "outputs": [
    {
     "data": {
      "text/html": [
       "<div>\n",
       "<style scoped>\n",
       "    .dataframe tbody tr th:only-of-type {\n",
       "        vertical-align: middle;\n",
       "    }\n",
       "\n",
       "    .dataframe tbody tr th {\n",
       "        vertical-align: top;\n",
       "    }\n",
       "\n",
       "    .dataframe thead th {\n",
       "        text-align: right;\n",
       "    }\n",
       "</style>\n",
       "<table border=\"1\" class=\"dataframe\">\n",
       "  <thead>\n",
       "    <tr style=\"text-align: right;\">\n",
       "      <th></th>\n",
       "      <th>neighborhood</th>\n",
       "    </tr>\n",
       "  </thead>\n",
       "  <tbody>\n",
       "    <tr>\n",
       "      <th>count</th>\n",
       "      <td>63.000000</td>\n",
       "    </tr>\n",
       "    <tr>\n",
       "      <th>mean</th>\n",
       "      <td>3.904762</td>\n",
       "    </tr>\n",
       "    <tr>\n",
       "      <th>std</th>\n",
       "      <td>4.260525</td>\n",
       "    </tr>\n",
       "    <tr>\n",
       "      <th>min</th>\n",
       "      <td>1.000000</td>\n",
       "    </tr>\n",
       "    <tr>\n",
       "      <th>25%</th>\n",
       "      <td>2.000000</td>\n",
       "    </tr>\n",
       "    <tr>\n",
       "      <th>50%</th>\n",
       "      <td>2.000000</td>\n",
       "    </tr>\n",
       "    <tr>\n",
       "      <th>75%</th>\n",
       "      <td>5.000000</td>\n",
       "    </tr>\n",
       "    <tr>\n",
       "      <th>max</th>\n",
       "      <td>26.000000</td>\n",
       "    </tr>\n",
       "  </tbody>\n",
       "</table>\n",
       "</div>"
      ],
      "text/plain": [
       "       neighborhood\n",
       "count     63.000000\n",
       "mean       3.904762\n",
       "std        4.260525\n",
       "min        1.000000\n",
       "25%        2.000000\n",
       "50%        2.000000\n",
       "75%        5.000000\n",
       "max       26.000000"
      ]
     },
     "execution_count": 6,
     "metadata": {},
     "output_type": "execute_result"
    }
   ],
   "source": [
    "courts_and_rinks.describe()"
   ]
  },
  {
   "cell_type": "markdown",
   "metadata": {},
   "source": [
    "**Next, I put the top neighborhoods and top quantities into lists and then a Series and then plotted this Series using a bar chart, showing the amount of parks in each of these top neighborhoods. Squirrel Hill South has the most courts/rinks with 26 courts/rinks.**"
   ]
  },
  {
   "cell_type": "code",
   "execution_count": 7,
   "metadata": {},
   "outputs": [
    {
     "data": {
      "text/plain": [
       "<matplotlib.axes._subplots.AxesSubplot at 0x7fbd50754040>"
      ]
     },
     "execution_count": 7,
     "metadata": {},
     "output_type": "execute_result"
    },
    {
     "data": {
      "image/png": "[encoded data removed]",
      "text/plain": [
       "<Figure size 1080x576 with 1 Axes>"
      ]
     },
     "metadata": {
      "needs_background": "light"
     },
     "output_type": "display_data"
    }
   ],
   "source": [
    "#Top Neighborhoods Graph\n",
    "top_q2 = [26,20,10,9,9,9,8,7]\n",
    "top_n2 = ['Squirrel Hill South','Highland Park','Hazelwood','Brookline','Allegheny Center','Beltzhoover','Troy Hill','Beechview']\n",
    "top_neighborhoods = pd.Series(top_q2, index=top_n2)\n",
    "\n",
    "top_neighborhoods.plot.bar(rot=0, figsize=[15,8])"
   ]
  },
  {
   "cell_type": "markdown",
   "metadata": {},
   "source": [
    "**Neighborhoods with the Most Courts/Rinks Ranking**\n",
    "1. **Squirrel Hill South**\n",
    "2. **Highland Park**\n",
    "3. **Hazelwood**\n",
    "4. **Brookline, Allegheny Center, and Beltzhoover**\n",
    "5. **Troy Hill**\n",
    "6. **Beechview**"
   ]
  },
  {
   "cell_type": "markdown",
   "metadata": {},
   "source": [
    "**Afer forming this ranking, I wanted to analyze a different aspect of this data set. I found the amount of each type of court or rink there is in the City of Pittsburgh. The most common type is a Basketball (Full) court, with the City of Pittsburgh having 88 Basketball (Full) courts.**"
   ]
  },
  {
   "cell_type": "code",
   "execution_count": 8,
   "metadata": {},
   "outputs": [
    {
     "data": {
      "text/html": [
       "<div>\n",
       "<style scoped>\n",
       "    .dataframe tbody tr th:only-of-type {\n",
       "        vertical-align: middle;\n",
       "    }\n",
       "\n",
       "    .dataframe tbody tr th {\n",
       "        vertical-align: top;\n",
       "    }\n",
       "\n",
       "    .dataframe thead th {\n",
       "        text-align: right;\n",
       "    }\n",
       "</style>\n",
       "<table border=\"1\" class=\"dataframe\">\n",
       "  <thead>\n",
       "    <tr style=\"text-align: right;\">\n",
       "      <th></th>\n",
       "      <th>type</th>\n",
       "    </tr>\n",
       "  </thead>\n",
       "  <tbody>\n",
       "    <tr>\n",
       "      <th>Basketball (Full)</th>\n",
       "      <td>88</td>\n",
       "    </tr>\n",
       "    <tr>\n",
       "      <th>Tennis</th>\n",
       "      <td>73</td>\n",
       "    </tr>\n",
       "    <tr>\n",
       "      <th>Basketball (Half)</th>\n",
       "      <td>23</td>\n",
       "    </tr>\n",
       "    <tr>\n",
       "      <th>Hockey</th>\n",
       "      <td>14</td>\n",
       "    </tr>\n",
       "    <tr>\n",
       "      <th>Pickleball</th>\n",
       "      <td>12</td>\n",
       "    </tr>\n",
       "    <tr>\n",
       "      <th>Bocce</th>\n",
       "      <td>8</td>\n",
       "    </tr>\n",
       "    <tr>\n",
       "      <th>Street Hockey</th>\n",
       "      <td>8</td>\n",
       "    </tr>\n",
       "    <tr>\n",
       "      <th>General Sports</th>\n",
       "      <td>6</td>\n",
       "    </tr>\n",
       "    <tr>\n",
       "      <th>Volleyball</th>\n",
       "      <td>5</td>\n",
       "    </tr>\n",
       "    <tr>\n",
       "      <th>Dek Hockey</th>\n",
       "      <td>5</td>\n",
       "    </tr>\n",
       "    <tr>\n",
       "      <th>Lawn Bowling</th>\n",
       "      <td>2</td>\n",
       "    </tr>\n",
       "    <tr>\n",
       "      <th>Horseshoe Pit</th>\n",
       "      <td>2</td>\n",
       "    </tr>\n",
       "  </tbody>\n",
       "</table>\n",
       "</div>"
      ],
      "text/plain": [
       "                   type\n",
       "Basketball (Full)    88\n",
       "Tennis               73\n",
       "Basketball (Half)    23\n",
       "Hockey               14\n",
       "Pickleball           12\n",
       "Bocce                 8\n",
       "Street Hockey         8\n",
       "General Sports        6\n",
       "Volleyball            5\n",
       "Dek Hockey            5\n",
       "Lawn Bowling          2\n",
       "Horseshoe Pit         2"
      ]
     },
     "execution_count": 8,
     "metadata": {},
     "output_type": "execute_result"
    }
   ],
   "source": [
    "#Number of Each Type of Court/Rink \n",
    "\n",
    "court_types = courts_rinks_data['type'].value_counts()\n",
    "types = pd.DataFrame(court_types)\n",
    "\n",
    "types"
   ]
  },
  {
   "cell_type": "markdown",
   "metadata": {},
   "source": [
    "**Here are the top five types of court/rink in the data set.**"
   ]
  },
  {
   "cell_type": "code",
   "execution_count": 9,
   "metadata": {},
   "outputs": [
    {
     "data": {
      "text/html": [
       "<div>\n",
       "<style scoped>\n",
       "    .dataframe tbody tr th:only-of-type {\n",
       "        vertical-align: middle;\n",
       "    }\n",
       "\n",
       "    .dataframe tbody tr th {\n",
       "        vertical-align: top;\n",
       "    }\n",
       "\n",
       "    .dataframe thead th {\n",
       "        text-align: right;\n",
       "    }\n",
       "</style>\n",
       "<table border=\"1\" class=\"dataframe\">\n",
       "  <thead>\n",
       "    <tr style=\"text-align: right;\">\n",
       "      <th></th>\n",
       "      <th>type</th>\n",
       "    </tr>\n",
       "  </thead>\n",
       "  <tbody>\n",
       "    <tr>\n",
       "      <th>Basketball (Full)</th>\n",
       "      <td>88</td>\n",
       "    </tr>\n",
       "    <tr>\n",
       "      <th>Tennis</th>\n",
       "      <td>73</td>\n",
       "    </tr>\n",
       "    <tr>\n",
       "      <th>Basketball (Half)</th>\n",
       "      <td>23</td>\n",
       "    </tr>\n",
       "    <tr>\n",
       "      <th>Hockey</th>\n",
       "      <td>14</td>\n",
       "    </tr>\n",
       "    <tr>\n",
       "      <th>Pickleball</th>\n",
       "      <td>12</td>\n",
       "    </tr>\n",
       "  </tbody>\n",
       "</table>\n",
       "</div>"
      ],
      "text/plain": [
       "                   type\n",
       "Basketball (Full)    88\n",
       "Tennis               73\n",
       "Basketball (Half)    23\n",
       "Hockey               14\n",
       "Pickleball           12"
      ]
     },
     "execution_count": 9,
     "metadata": {},
     "output_type": "execute_result"
    }
   ],
   "source": [
    "types.head(5)"
   ]
  },
  {
   "cell_type": "markdown",
   "metadata": {},
   "source": [
    "**Here is a graph containing all of the different types of court/rink nad how many of each are in the data set.**"
   ]
  },
  {
   "cell_type": "code",
   "execution_count": 10,
   "metadata": {},
   "outputs": [
    {
     "data": {
      "text/plain": [
       "<matplotlib.axes._subplots.AxesSubplot at 0x7fbd4e6a30a0>"
      ]
     },
     "execution_count": 10,
     "metadata": {},
     "output_type": "execute_result"
    },
    {
     "data": {
      "image/png": "[encoded data removed]",
      "text/plain": [
       "<Figure size 1152x576 with 1 Axes>"
      ]
     },
     "metadata": {
      "needs_background": "light"
     },
     "output_type": "display_data"
    }
   ],
   "source": [
    "#Types of Court/Rink Graph\n",
    "\n",
    "types.plot.bar(rot=0, figsize=[16,8])"
   ]
  },
  {
   "cell_type": "markdown",
   "metadata": {},
   "source": [
    "**Here is a graph of the top five types of court or rink in the City of Pittsburgh.**"
   ]
  },
  {
   "cell_type": "code",
   "execution_count": 11,
   "metadata": {},
   "outputs": [
    {
     "data": {
      "text/plain": [
       "<matplotlib.axes._subplots.AxesSubplot at 0x7fbd4e675610>"
      ]
     },
     "execution_count": 11,
     "metadata": {},
     "output_type": "execute_result"
    },
    {
     "data": {
      "image/png": "[encoded data removed]",
      "text/plain": [
       "<Figure size 720x432 with 1 Axes>"
      ]
     },
     "metadata": {
      "needs_background": "light"
     },
     "output_type": "display_data"
    }
   ],
   "source": [
    "types.head(5).plot.bar(rot=0, figsize=[10,6])"
   ]
  },
  {
   "cell_type": "markdown",
   "metadata": {},
   "source": [
    "**Using the information I collected about the most commo types of court or rink, I put the neighborhoods into categories based on which type of court or rink a neighborhood has.**"
   ]
  },
  {
   "cell_type": "code",
   "execution_count": 12,
   "metadata": {},
   "outputs": [
    {
     "name": "stdout",
     "output_type": "stream",
     "text": [
      "Court/Rink Type: Basketball (Full)\n",
      "\n",
      "Allegheny Center\n",
      "Beechview\n",
      "Bedford Dwellings\n",
      "South Side Slopes\n",
      "South Side Flats\n",
      "Lower Lawrenceville\n",
      "Banksville\n",
      "Brighton Heights\n",
      "Brookline\n",
      "Hazelwood\n",
      "Lincoln-Lemington-Belmar\n",
      "Troy Hill\n",
      "Homewood West\n",
      "Squirrel Hill South\n",
      "Crafton Heights\n",
      "East Carnegie\n",
      "East Hills\n",
      "Allentown\n",
      "Mount Washington\n",
      "East Liberty\n",
      "Fairywood\n",
      "Upper Lawrenceville\n",
      "Garfield\n",
      "Greenfield\n",
      "South Oakland\n",
      "Crawford-Roberts\n",
      "Elliott\n",
      "Central Northside\n",
      "Terrace Village\n",
      "Larimer\n",
      "Spring Hill-City View\n",
      "Carrick\n",
      "Central Lawrenceville\n",
      "Manchester\n",
      "Marshall-Shadeland\n",
      "Lincoln Place\n",
      "Sheraden\n",
      "Beltzhoover\n",
      "Shadyside\n",
      "Oakwood\n",
      "Bloomfield\n",
      "Upper Hill\n",
      "New Homestead\n",
      "Middle Hill\n",
      "West End\n",
      "Morningside\n",
      "\n",
      "Court/Rink Type: Tennis\n",
      "\n",
      "Allegheny Center\n",
      "Lower Lawrenceville\n",
      "Banksville\n",
      "Hazelwood\n",
      "Squirrel Hill South\n",
      "Stanton Heights\n",
      "Garfield\n",
      "Regent Square\n",
      "East Liberty\n",
      "Highland Park\n",
      "Terrace Village\n",
      "Manchester\n",
      "Lincoln Place\n",
      "Beltzhoover\n",
      "Brookline\n",
      "Oakwood\n",
      "Carrick\n",
      "Sheraden\n",
      "Spring Garden\n",
      "Crafton Heights\n",
      "Swisshelm Park\n",
      "Troy Hill\n",
      "Perry North\n",
      "\n",
      "Court/Rink Type: Basketball (Half)\n",
      "\n",
      "Beechview\n",
      "Crawford-Roberts\n",
      "Perry South\n",
      "Strip District\n",
      "South Side Slopes\n",
      "Duquesne Heights\n",
      "Fineview\n",
      "Hays\n",
      "Highland Park\n",
      "Troy Hill\n",
      "Sheraden\n",
      "Brookline\n",
      "South Oakland\n",
      "Spring Hill-City View\n",
      "Elliott\n",
      "Polish Hill\n",
      "Squirrel Hill North\n",
      "Point Breeze North\n",
      "Allegheny Center\n",
      "\n",
      "Court/Rink Type: Hockey\n",
      "\n",
      "Bon Air\n",
      "Central Oakland\n",
      "Hazelwood\n",
      "Squirrel Hill South\n",
      "Stanton Heights\n",
      "Duquesne Heights\n",
      "Mount Washington\n",
      "Elliott\n",
      "Highland Park\n",
      "South Side Flats\n",
      "South Side Slopes\n",
      "Swisshelm Park\n",
      "\n",
      "Court/Rink Type: Pickleball\n",
      "\n",
      "Fineview\n",
      "Squirrel Hill South\n",
      "Allegheny Center\n",
      "Brookline\n",
      "\n"
     ]
    }
   ],
   "source": [
    "#Neighborhoods With Each Type of Court/Rink\n",
    "\n",
    "all_neighborhoods = courts_rinks_data.iloc[0:,8]\n",
    "neighborhoods = []\n",
    "\n",
    "\n",
    "for neighborhood in all_neighborhoods:\n",
    "       if neighborhood not in neighborhoods:\n",
    "            neighborhoods.append(neighborhood)\n",
    "\n",
    "\n",
    "\n",
    "lists_in_list = []\n",
    "\n",
    "n_in_top_t = []\n",
    "all_types = courts_rinks_data.iloc[0:,2]\n",
    "top_types = ['Basketball (Full)','Tennis','Basketball (Half)','Hockey','Pickleball']\n",
    "index = 0\n",
    "for name in top_types:\n",
    "    print(\"Court/Rink Type:\", name)\n",
    "    print()\n",
    "    for n in all_neighborhoods:\n",
    "        if all_types[index].startswith(name) and n not in n_in_top_t:\n",
    "            print(n)\n",
    "            n_in_top_t.append(n)\n",
    "        index = index + 1\n",
    "    lists_in_list.append(n_in_top_t)\n",
    "    n_in_top_t = []\n",
    "    index = 0\n",
    "    print()\n"
   ]
  },
  {
   "cell_type": "markdown",
   "metadata": {},
   "source": [
    "**After looking at all the neighborhoods, I then found which top neighborhoods from the earlier ranking were in each of the top court or rink types.**"
   ]
  },
  {
   "cell_type": "code",
   "execution_count": 13,
   "metadata": {},
   "outputs": [
    {
     "name": "stdout",
     "output_type": "stream",
     "text": [
      "Top Neighborhoods in Top Court/Rink Type 1\n",
      "\n",
      "Squirrel Hill South\n",
      "Hazelwood\n",
      "Brookline\n",
      "Allegheny Center\n",
      "Beltzhoover\n",
      "Troy Hill\n",
      "Beechview\n",
      "\n",
      "Top Neighborhoods in Top Court/Rink Type 2\n",
      "\n",
      "Squirrel Hill South\n",
      "Highland Park\n",
      "Hazelwood\n",
      "Brookline\n",
      "Allegheny Center\n",
      "Beltzhoover\n",
      "Troy Hill\n",
      "\n",
      "Top Neighborhoods in Top Court/Rink Type 3\n",
      "\n",
      "Highland Park\n",
      "Brookline\n",
      "Allegheny Center\n",
      "Troy Hill\n",
      "Beechview\n",
      "\n",
      "Top Neighborhoods in Top Court/Rink Type 4\n",
      "\n",
      "Squirrel Hill South\n",
      "Highland Park\n",
      "Hazelwood\n",
      "\n",
      "Top Neighborhoods in Top Court/Rink Type 5\n",
      "\n",
      "Squirrel Hill South\n",
      "Brookline\n",
      "Allegheny Center\n",
      "\n"
     ]
    }
   ],
   "source": [
    "#Top Neighborhoods in Top Court/Rink Types\n",
    "\n",
    "top_n_in_top_t_counts = []\n",
    "\n",
    "t_num = 1\n",
    "count = 0\n",
    "for l in lists_in_list:\n",
    "    print(\"Top Neighborhoods in Top Court/Rink Type\",t_num)\n",
    "    print()\n",
    "    for t in top_n2:\n",
    "        if t in l:\n",
    "            count = count + 1\n",
    "            print(t)\n",
    "          \n",
    "    top_n_in_top_t_counts.append(count)\n",
    "    lists_in_list\n",
    "    count = 0\n",
    "    t_num += 1\n",
    "    print()\n",
    "\n"
   ]
  },
  {
   "cell_type": "markdown",
   "metadata": {},
   "source": [
    "**Notice that most top neighborhoods have Basketball (Full) and Tennis courts (court/rink types 1 and 2). The second most common court/rink type is Basketball (Half) courts/rinks with the second most top neighborhoods having that type. Here is a new ranking of neighborhoods based on top court/rink types and most top neighborhoods within them, using amount of courts/rinks in each neighborhood and how many repeats of the neighborhood in top types there are to break ties.**"
   ]
  },
  {
   "cell_type": "markdown",
   "metadata": {},
   "source": [
    "**New Ranking Based on Court/Rink Types:**\n",
    "1. **Squirrel Hill South**\n",
    "2. **Highland Park**\n",
    "3. **Hazelwood**\n",
    "4. **Allegheny Center and Brookline**\n",
    "5. **Beltzhoover**\n",
    "6. **Troy Hill**\n",
    "7. **Beechview**"
   ]
  },
  {
   "cell_type": "markdown",
   "metadata": {},
   "source": [
    "**Notice that the ranking did not change very much based on the criteria, with only Beltzhoover moving down a level. Therefore, we could infer that most neighborhoods have common types of courts and rinks, so either ranking of neighborhoods will result in a list of high quality neighborhoods with access to courts and rinks that are also high quality.**"
   ]
  },
  {
   "cell_type": "markdown",
   "metadata": {},
   "source": [
    "### **Summary of City of Pittsburgh Courts and Rinks**\n",
    "\n",
    "**Overall winner for this data set is Squirrel Hill South, ranked first place for having the most courts/rinks with 26 court/rinks. Squirrel Hill South has various court types including Basketball (Full), Tennis, Hockey, and Pickle Ball. The most common type of court is a Basketball (Full) court with the City of Pittsburgh having 88 full basketball courts. The average number of courts or rinks per neighborhood is about 4 courts/rinks.**"
   ]
  },
  {
   "cell_type": "markdown",
   "metadata": {},
   "source": [
    "### My Comparison of the Data Sets"
   ]
  },
  {
   "cell_type": "markdown",
   "metadata": {},
   "source": [
    "**After analyzing both of these data sets, some neighborhoods appeared in the top rankings of both data sets after performing my analysis. These neighborhoods are Beechview, Hazelwood, Squirrel Hill South, and Troy Hill. These neighborhoods could be considered other good neighborhoods to live in for children because they rank well in access to park and access to courts and rinks. Playing various sports on different courts and rinks and spending time outside in a park is beneficial to children's health and well being.**"
   ]
  },
  {
   "cell_type": "markdown",
   "metadata": {},
   "source": [
    "**To demonstrate the overlap of the two data sets, I looked at the 'park' column in the courts and rinks data set to see which parks were located in which neighborhoods.**"
   ]
  },
  {
   "cell_type": "code",
   "execution_count": 24,
   "metadata": {},
   "outputs": [
    {
     "data": {
      "text/html": [
       "<div>\n",
       "<style scoped>\n",
       "    .dataframe tbody tr th:only-of-type {\n",
       "        vertical-align: middle;\n",
       "    }\n",
       "\n",
       "    .dataframe tbody tr th {\n",
       "        vertical-align: top;\n",
       "    }\n",
       "\n",
       "    .dataframe thead th {\n",
       "        text-align: right;\n",
       "    }\n",
       "</style>\n",
       "<table border=\"1\" class=\"dataframe\">\n",
       "  <thead>\n",
       "    <tr style=\"text-align: right;\">\n",
       "      <th></th>\n",
       "      <th>park</th>\n",
       "      <th>neighborhood</th>\n",
       "    </tr>\n",
       "  </thead>\n",
       "  <tbody>\n",
       "    <tr>\n",
       "      <th>70</th>\n",
       "      <td>Frazier Park</td>\n",
       "      <td>South Oakland</td>\n",
       "    </tr>\n",
       "    <tr>\n",
       "      <th>139</th>\n",
       "      <td>McBride Park</td>\n",
       "      <td>Lincoln Place</td>\n",
       "    </tr>\n",
       "    <tr>\n",
       "      <th>226</th>\n",
       "      <td>Schenley Park</td>\n",
       "      <td>Squirrel Hill South</td>\n",
       "    </tr>\n",
       "    <tr>\n",
       "      <th>233</th>\n",
       "      <td>Washington's Landing Park</td>\n",
       "      <td>Troy Hill</td>\n",
       "    </tr>\n",
       "    <tr>\n",
       "      <th>63</th>\n",
       "      <td>Fifty-Seventh Street Park</td>\n",
       "      <td>Upper Lawrenceville</td>\n",
       "    </tr>\n",
       "    <tr>\n",
       "      <th>137</th>\n",
       "      <td>McBride Park</td>\n",
       "      <td>Lincoln Place</td>\n",
       "    </tr>\n",
       "    <tr>\n",
       "      <th>73</th>\n",
       "      <td>Frick Park</td>\n",
       "      <td>Point Breeze</td>\n",
       "    </tr>\n",
       "    <tr>\n",
       "      <th>28</th>\n",
       "      <td>Burgwin Park</td>\n",
       "      <td>Hazelwood</td>\n",
       "    </tr>\n",
       "    <tr>\n",
       "      <th>1</th>\n",
       "      <td>Allegheny Commons</td>\n",
       "      <td>Allegheny Center</td>\n",
       "    </tr>\n",
       "    <tr>\n",
       "      <th>0</th>\n",
       "      <td>Allegheny Commons</td>\n",
       "      <td>Allegheny Center</td>\n",
       "    </tr>\n",
       "  </tbody>\n",
       "</table>\n",
       "</div>"
      ],
      "text/plain": [
       "                          park         neighborhood\n",
       "70                Frazier Park        South Oakland\n",
       "139               McBride Park        Lincoln Place\n",
       "226              Schenley Park  Squirrel Hill South\n",
       "233  Washington's Landing Park            Troy Hill\n",
       "63   Fifty-Seventh Street Park  Upper Lawrenceville\n",
       "137               McBride Park        Lincoln Place\n",
       "73                  Frick Park         Point Breeze\n",
       "28                Burgwin Park            Hazelwood\n",
       "1            Allegheny Commons     Allegheny Center\n",
       "0            Allegheny Commons     Allegheny Center"
      ]
     },
     "execution_count": 24,
     "metadata": {},
     "output_type": "execute_result"
    }
   ],
   "source": [
    "courts_new_data = pd.read_csv(\"cityofpghcourtsandrinks.csv\",usecols = ['neighborhood','park'])\n",
    "\n",
    "courts_new_data.sample(10)"
   ]
  },
  {
   "cell_type": "markdown",
   "metadata": {},
   "source": [
    "**Here are the parks most present in the courts and rinks data set and a graph representing this. Highland Park shows up 18 times in the data set, meaning that many of the courts and rinks are located in that park.** "
   ]
  },
  {
   "cell_type": "code",
   "execution_count": 15,
   "metadata": {},
   "outputs": [
    {
     "data": {
      "text/html": [
       "<div>\n",
       "<style scoped>\n",
       "    .dataframe tbody tr th:only-of-type {\n",
       "        vertical-align: middle;\n",
       "    }\n",
       "\n",
       "    .dataframe tbody tr th {\n",
       "        vertical-align: top;\n",
       "    }\n",
       "\n",
       "    .dataframe thead th {\n",
       "        text-align: right;\n",
       "    }\n",
       "</style>\n",
       "<table border=\"1\" class=\"dataframe\">\n",
       "  <thead>\n",
       "    <tr style=\"text-align: right;\">\n",
       "      <th></th>\n",
       "      <th>park</th>\n",
       "    </tr>\n",
       "  </thead>\n",
       "  <tbody>\n",
       "    <tr>\n",
       "      <th>Highland Park</th>\n",
       "      <td>18</td>\n",
       "    </tr>\n",
       "    <tr>\n",
       "      <th>Schenley Park</th>\n",
       "      <td>16</td>\n",
       "    </tr>\n",
       "    <tr>\n",
       "      <th>Frick Park</th>\n",
       "      <td>13</td>\n",
       "    </tr>\n",
       "    <tr>\n",
       "      <th>Allegheny Commons</th>\n",
       "      <td>9</td>\n",
       "    </tr>\n",
       "    <tr>\n",
       "      <th>McKinley Park</th>\n",
       "      <td>8</td>\n",
       "    </tr>\n",
       "    <tr>\n",
       "      <th>Moore Park</th>\n",
       "      <td>7</td>\n",
       "    </tr>\n",
       "  </tbody>\n",
       "</table>\n",
       "</div>"
      ],
      "text/plain": [
       "                   park\n",
       "Highland Park        18\n",
       "Schenley Park        16\n",
       "Frick Park           13\n",
       "Allegheny Commons     9\n",
       "McKinley Park         8\n",
       "Moore Park            7"
      ]
     },
     "execution_count": 15,
     "metadata": {},
     "output_type": "execute_result"
    }
   ],
   "source": [
    "courts_new_data_values = courts_new_data['park'].value_counts()\n",
    "new_courts = pd.DataFrame(courts_new_data_values)\n",
    "new_courts.head(6)"
   ]
  },
  {
   "cell_type": "code",
   "execution_count": 16,
   "metadata": {},
   "outputs": [
    {
     "data": {
      "text/plain": [
       "<matplotlib.axes._subplots.AxesSubplot at 0x7fbd4dd852e0>"
      ]
     },
     "execution_count": 16,
     "metadata": {},
     "output_type": "execute_result"
    },
    {
     "data": {
      "image/png": "[encoded data removed]",
      "text/plain": [
       "<Figure size 1440x576 with 1 Axes>"
      ]
     },
     "metadata": {
      "needs_background": "light"
     },
     "output_type": "display_data"
    }
   ],
   "source": [
    "new_courts.head(10).plot.bar(rot=0,figsize=[20,8])"
   ]
  },
  {
   "cell_type": "markdown",
   "metadata": {},
   "source": [
    "**Highland Park is present the most in the courts and rinks data set, located in the Highland Park neighborhood. Schenley Park is the second most present, overlapping the neighborhoods of Oakland, Squirrel Hill, and Greenfield.**"
   ]
  },
  {
   "cell_type": "markdown",
   "metadata": {},
   "source": [
    "**Here are the parks that are in the Squirrel Hill South neighborhood using the park column in the courts and rinks data set.**"
   ]
  },
  {
   "cell_type": "code",
   "execution_count": 27,
   "metadata": {},
   "outputs": [
    {
     "name": "stdout",
     "output_type": "stream",
     "text": [
      "Parks In Squirrel Hill South:\n",
      "\n",
      "Davis Park\n",
      "Frick Park\n",
      "Schenley Park\n"
     ]
    }
   ],
   "source": [
    "#Parks in Squirrel Hill South\n",
    "\n",
    "all_parks = courts_rinks_data.iloc[0:,3]\n",
    "parknames = []\n",
    "            \n",
    "i = 0\n",
    "for n in all_neighborhoods:\n",
    "    if n.startswith('Squirrel Hill South') and all_parks[i] not in parknames:\n",
    "        parknames.append(all_parks[i])\n",
    "    i += 1\n",
    "    \n",
    "print('Parks In Squirrel Hill South:')\n",
    "print()\n",
    "\n",
    "for park in parknames:\n",
    "    print(park)\n"
   ]
  },
  {
   "cell_type": "markdown",
   "metadata": {},
   "source": [
    "### Reflection"
   ]
  },
  {
   "cell_type": "markdown",
   "metadata": {},
   "source": [
    "**Squirrel Hill South, in the top rankings for every single category, is ranked first overall in both data sets. Squirrel Hill South has 6 parks, ranked fifth by number of parks and by region the parks are in. Squirrel Hill South was also ranked first for both categories I analyzed in the courts and rinks data set with 26 courts/rinks and having 4 different top court/rink types including Basketball (Full), Tennis, Hockey, and Pickleball. I have concluded that based on my two data sets and the analysis I performed, Squirrel Hill South is the best neighborhood to live in. This neighborhood would be great for children with access to many parks, courts, and rinks while also being located in regions and having a multitude of different types of courts and rinks. Squirrel Hill South also contains part of Schenly Park, which showed up quite frequently in the courts and rinks data set. Squirrel Hill South also has Davis Park and Frick Park. This park had 16 different courts or rinks which could be used by children, making Squirrel Hill South a great neighborhood overall.**"
   ]
  }
 ],
 "metadata": {
  "kernelspec": {
   "display_name": "Python 3",
   "language": "python",
   "name": "python3"
  },
  "language_info": {
   "codemirror_mode": {
    "name": "ipython",
    "version": 3
   },
   "file_extension": ".py",
   "mimetype": "text/x-python",
   "name": "python",
   "nbconvert_exporter": "python",
   "pygments_lexer": "ipython3",
   "version": "3.8.3"
  }
 },
 "nbformat": 4,
 "nbformat_minor": 4
}

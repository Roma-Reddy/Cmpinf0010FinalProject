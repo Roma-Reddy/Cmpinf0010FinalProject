{
 "cells": [
  {
   "cell_type": "markdown",
   "metadata": {},
   "source": [
    "# Best Neighborhood In Pittsburgh "
   ]
  },
  {
   "cell_type": "markdown",
   "metadata": {},
   "source": [
    "## Children's Friendly Neighborhood In Pittsburgh"
   ]
  },
  {
   "cell_type": "code",
   "execution_count": 2,
   "metadata": {},
   "outputs": [],
   "source": [
    "import pandas as pd\n",
    "%matplotlib inline"
   ]
  },
  {
   "cell_type": "markdown",
   "metadata": {},
   "source": [
    " **Here, Our Task is to find the Best Neighborhood in Pittsburgh, Pa. We are using the criterias to find the best neighborhood for children named our final project as` Children's Friendly Neighborhood In Pittsburgh`. In this project , we will determine the best neighborhood for children based on the various factors like the number of local parks, courts, rinks, and playgrounds, and playground equipment.Neighborhoods will be ranked based on certain criteria. The best neighborhood will be a neighborhood with plenty of access to parks, courts, rinks, and playgrounds, and the best quality locations for each. The best neighborhood will be great for promoting exercise, healthy habits, and emotional well being for children. Notice that some parks overlap neighborhoods. For this particular analysis, we have chosen to ignore this piece of information.**"
   ]
  },
  {
   "cell_type": "markdown",
   "metadata": {},
   "source": [
    "## Metrics"
   ]
  },
  {
   "cell_type": "markdown",
   "metadata": {},
   "source": [
    "### **City of Pittsburgh Parks**"
   ]
  },
  {
   "cell_type": "markdown",
   "metadata": {},
   "source": [
    "**First, I read in the City of Pittsburgh Parks data set and took a sample of 10 values from the data set.**"
   ]
  },
  {
   "cell_type": "code",
   "execution_count": null,
   "metadata": {},
   "outputs": [],
   "source": [
    "#Read in Data\n",
    "parks_data = pd.read_csv(\"cityofpghparks.csv\")\n",
    "parks_data.sample(10)"
   ]
  },
  {
   "cell_type": "markdown",
   "metadata": {},
   "source": [
    "**Next, I performed some data analysis on the data set. Here I created a data frame that contained all of the neighborhoods with no repeats and their cooresponding number of parks in each neighborhood. Here is a sample of 20 neighborhoods from this data frame. I used `.value_counts()` to find these values.**"
   ]
  },
  {
   "cell_type": "code",
   "execution_count": null,
   "metadata": {},
   "outputs": [],
   "source": [
    "#Parks Per Neighborhood\n",
    "\n",
    "parks_values = parks_data['neighborhood'].value_counts()\n",
    "parks = pd.DataFrame(parks_values)\n",
    "parks.sample(20)"
   ]
  },
  {
   "cell_type": "markdown",
   "metadata": {},
   "source": [
    "**Here are the top neighborhoods and the amount of parks in each neighborhood.**"
   ]
  },
  {
   "cell_type": "code",
   "execution_count": null,
   "metadata": {},
   "outputs": [],
   "source": [
    "parks.head(12)"
   ]
  },
  {
   "cell_type": "markdown",
   "metadata": {},
   "source": [
    "**Next, I performed a statistical analysis of the data frame I created. The average number of parks per neighborhood was 2.86 so about 3 parks per neighborhood. The maximum number of parks per neighborhood was 12 parks.**"
   ]
  },
  {
   "cell_type": "code",
   "execution_count": null,
   "metadata": {},
   "outputs": [],
   "source": [
    "#Statistical Analysis of Data\n",
    "parks.describe()"
   ]
  },
  {
   "cell_type": "markdown",
   "metadata": {},
   "source": [
    "**Here I generated a graph of the top neighborhoods and the amount of parks in each.**"
   ]
  },
  {
   "cell_type": "code",
   "execution_count": null,
   "metadata": {},
   "outputs": [],
   "source": [
    "#Top Neighborhoods Graph\n",
    "top_q = [12,10,10,8,7,7,6,6,6,6,6,5,5]\n",
    "top_n = ['East Liberty','Central Business District', 'Point Breeze', 'Beechview', 'South Side Slopes', 'Point Breeze', 'South Side Flats', 'Hazelwood', 'Squirrel Hill South', 'Mount Washington', 'Sheraden', 'South Oakland', 'Troy Hill']\n",
    "top_neighborhoods = pd.Series(top_q, index=top_n)\n",
    "\n",
    "top_neighborhoods.plot.bar(rot=0, figsize=[26,8])"
   ]
  },
  {
   "cell_type": "markdown",
   "metadata": {},
   "source": [
    "**Neighborhoods with Most Parks Ranking**\n",
    "1. **East Liberty**\n",
    "2. **Central Business District and Point Breeze North**\n",
    "3. **Beechview**\n",
    "4. **South Side Slopes and Point Breeze**\n",
    "5. **South Side Flats, Hazelwood, Squirrel Hill South, Mount Washington, and Sheraden**\n",
    "6. **South Oakland and Troy Hill**"
   ]
  },
  {
   "cell_type": "code",
   "execution_count": null,
   "metadata": {},
   "outputs": [],
   "source": [
    "#Lookup a Specific Neighborhood\n",
    "\n",
    "\n",
    "all_neighborhoods = parks_data.iloc[0:,5]\n",
    "neighborhoods = []\n",
    "\n",
    "\n",
    "for neighborhood in all_neighborhoods:\n",
    "       if neighborhood not in neighborhoods:\n",
    "            neighborhoods.append(neighborhood)"
   ]
  },
  {
   "cell_type": "markdown",
   "metadata": {},
   "source": [
    "**Now let's analyze on a broader scale what may be the best region to live in, and what neighborhoods are in that region.**"
   ]
  },
  {
   "cell_type": "code",
   "execution_count": null,
   "metadata": {},
   "outputs": [],
   "source": [
    "#Regions\n",
    "\n",
    "region_values = parks_data['maintenance_responsibility'].value_counts()\n",
    "regions = pd.DataFrame(region_values)\n",
    "top_regions = regions.head(5)\n",
    "top_regions"
   ]
  },
  {
   "cell_type": "markdown",
   "metadata": {},
   "source": [
    "**The Parks-Northern region has the most parks in it with 39 parks being in that region. Next, I found which neighborhoods are in the top five regions listed.**"
   ]
  },
  {
   "cell_type": "code",
   "execution_count": null,
   "metadata": {},
   "outputs": [],
   "source": [
    "lists_in_list = []\n",
    "\n",
    "n_in_top_r = []\n",
    "all_regions = parks_data.iloc[0:,3]\n",
    "top_regions = ['Parks - Northern','Parks - Western','Parks - Southern','Parks - Northeast','Parks - Schenley']\n",
    "index = 0\n",
    "for region in top_regions:\n",
    "    print(\"Region:\", region)\n",
    "    print()\n",
    "    for n in all_neighborhoods:\n",
    "        if all_regions[index].startswith(region) and n not in n_in_top_r:\n",
    "            print(n)\n",
    "            n_in_top_r.append(n)\n",
    "        index = index + 1\n",
    "    lists_in_list.append(n_in_top_r)\n",
    "    n_in_top_r = []\n",
    "    index = 0\n",
    "    print()\n",
    "    "
   ]
  },
  {
   "cell_type": "markdown",
   "metadata": {},
   "source": [
    "**Here I have shown which top neighborhoods are in top regions. Top neighborhoods are neighborhoods ranked for having a lot of parks and top regions are regions with a lot of parks.**"
   ]
  },
  {
   "cell_type": "code",
   "execution_count": null,
   "metadata": {},
   "outputs": [],
   "source": [
    "#Top Neighborhoods in Top Regions\n",
    "top_n_in_top_r_counts = []\n",
    "\n",
    "r_num = 1\n",
    "count = 0\n",
    "for l in lists_in_list:\n",
    "    print(\"Top Neighborhoods in Region\",r_num)\n",
    "    print()\n",
    "    for t in top_n:\n",
    "        if t in l:\n",
    "            count = count + 1\n",
    "            print(t)\n",
    "          \n",
    "    top_n_in_top_r_counts.append(count)\n",
    "    lists_in_list\n",
    "    count = 0\n",
    "    r_num += 1\n",
    "    print()\n",
    "\n"
   ]
  },
  {
   "cell_type": "markdown",
   "metadata": {},
   "source": [
    "**Notice that regions 'Parks - Southern' and 'Parks - Schenely' (regions 3 and 5) have the most top neighborhoods in them, making them the best regions to live in. After analyzing the data based on region, I established a new ranking based on most top neighborhoods in top regions using parks per neighborhood counts to break ties.**"
   ]
  },
  {
   "cell_type": "markdown",
   "metadata": {},
   "source": [
    "**New Ranking**\n",
    "1. **Beechview**\n",
    "2. **South Side Slopes**\n",
    "3. **South Side Flats**\n",
    "4. **Hazelwood**\n",
    "5. **Squirrel Hill South**\n",
    "6. **South Oakland**\n",
    "7. **Central Business District**\n",
    "8. **Mount Washington**\n",
    "9. **Sheraden**\n",
    "10. **Troy Hill**\n",
    "11. **East Liberty**"
   ]
  },
  {
   "cell_type": "markdown",
   "metadata": {},
   "source": [
    "**Notice how much of a drastic change there was in the ranking when we base the ranking on best regions. East Liberty, who was ranked first when only looking at most parks, is now in last because it is not in a top region (meaning a region with a lot of parks). Beechview still is ranked high, and both the South Side Flats and Slopes moved up in the ranking slightly.**"
   ]
  },
  {
   "cell_type": "markdown",
   "metadata": {},
   "source": [
    "### **Summary of City of Pittsburgh Parks Data Set**\n",
    "\n",
    "**The overall winner for this data set is Beechview ranked first and third after performing analysis of two different aspects of the data set and forming a general conclusion. Beechview has 8 parks, ranked third in the ranking based of amount of parks and ranked first in the ranking based on region. Beechview could be considered a good neighborhood to live in and a good neighborhood for chidlren based on access to many parks of different types and for being in a region with many parks.**"
   ]
  },
  {
   "cell_type": "markdown",
   "metadata": {},
   "source": [
    "## **City of Pittsburgh Courts and Rinks**\n",
    "**First, I read in the City of Pittsburgh Courts and Rinks data set. Here is a sample of 10 entires in this data set.**"
   ]
  },
  {
   "cell_type": "code",
   "execution_count": null,
   "metadata": {},
   "outputs": [],
   "source": [
    "#Read in Data\n",
    "courts_rinks_data = pd.read_csv(\"cityofpghcourtsandrinks.csv\")\n",
    "courts_rinks_data.sample(10)"
   ]
  },
  {
   "cell_type": "markdown",
   "metadata": {},
   "source": [
    "**Next, I found how many courts/rinks were in each neighborhood using `.value_counts()`. Here is a sample of 20 neighborhoods and the amount of courts/rinks in each.**"
   ]
  },
  {
   "cell_type": "code",
   "execution_count": null,
   "metadata": {},
   "outputs": [],
   "source": [
    "#Courts and Rinks Per Neighborhood\n",
    "\n",
    "courts_values = courts_rinks_data['neighborhood'].value_counts()\n",
    "courts_and_rinks = pd.DataFrame(courts_values)\n",
    "\n",
    "courts_and_rinks.sample(20)"
   ]
  },
  {
   "cell_type": "markdown",
   "metadata": {},
   "source": [
    "**Here is a graph of all the neighborhoods and the amount of courts and rinks in each.**"
   ]
  },
  {
   "cell_type": "code",
   "execution_count": null,
   "metadata": {},
   "outputs": [],
   "source": [
    "courts_values.plot.bar(figsize=[15,8])"
   ]
  },
  {
   "cell_type": "markdown",
   "metadata": {},
   "source": [
    "**Here is the top 8 neighborhoods with the most courts/rinks with some neighborhoods forming a tie for the amount of courts/rinks. From this I found the top 6 rankings for most courts/rinks per neighborhood.**"
   ]
  },
  {
   "cell_type": "code",
   "execution_count": null,
   "metadata": {},
   "outputs": [],
   "source": [
    "courts_and_rinks.head(8)"
   ]
  },
  {
   "cell_type": "markdown",
   "metadata": {},
   "source": [
    "**Next, I performed a statistical analysis of the data frame using `.describe()`. Notice that the average number of courts/rinks is 3.9, so about 4 courts/rinks per neighborhood. The maximum number of courts/rinks per neighborhood is 26 courts/rinks.**"
   ]
  },
  {
   "cell_type": "code",
   "execution_count": null,
   "metadata": {},
   "outputs": [],
   "source": [
    "courts_and_rinks.describe()"
   ]
  },
  {
   "cell_type": "markdown",
   "metadata": {},
   "source": [
    "**Next, I put the top neighborhoods and top quantities into lists and then a Series and then plotted this Series using a bar chart, showing the amount of parks in each of these top neighborhoods. Squirrel Hill South has the most courts/rinks with 26 courts/rinks.**"
   ]
  },
  {
   "cell_type": "code",
   "execution_count": null,
   "metadata": {},
   "outputs": [],
   "source": [
    "#Top Neighborhoods Graph\n",
    "top_q2 = [26,20,10,9,9,9,8,7]\n",
    "top_n2 = ['Squirrel Hill South','Highland Park','Hazelwood','Brookline','Allegheny Center','Beltzhoover','Troy Hill','Beechview']\n",
    "top_neighborhoods = pd.Series(top_q2, index=top_n2)\n",
    "\n",
    "top_neighborhoods.plot.bar(rot=0, figsize=[15,8])"
   ]
  },
  {
   "cell_type": "markdown",
   "metadata": {},
   "source": [
    "**Neighborhoods with the Most Courts/Rinks Ranking**\n",
    "1. **Squirrel Hill South**\n",
    "2. **Highland Park**\n",
    "3. **Hazelwood**\n",
    "4. **Brookline, Allegheny Center, and Beltzhoover**\n",
    "5. **Troy Hill**\n",
    "6. **Beechview**"
   ]
  },
  {
   "cell_type": "markdown",
   "metadata": {},
   "source": [
    "**Afer forming this ranking, I wanted to analyze a different aspect of this data set. I found the amount of each type of court or rink there is in the City of Pittsburgh. The most common type is a Basketball (Full) court, with the City of Pittsburgh having 88 Basketball (Full) courts.**"
   ]
  },
  {
   "cell_type": "code",
   "execution_count": null,
   "metadata": {},
   "outputs": [],
   "source": [
    "#Number of Each Type of Court/Rink \n",
    "\n",
    "court_types = courts_rinks_data['type'].value_counts()\n",
    "types = pd.DataFrame(court_types)\n",
    "\n",
    "types"
   ]
  },
  {
   "cell_type": "markdown",
   "metadata": {},
   "source": [
    "**Here are the top five types of court/rink in the data set.**"
   ]
  },
  {
   "cell_type": "code",
   "execution_count": null,
   "metadata": {},
   "outputs": [],
   "source": [
    "types.head(5)"
   ]
  },
  {
   "cell_type": "markdown",
   "metadata": {},
   "source": [
    "**Here is a graph containing all of the different types of court/rink nad how many of each are in the data set.**"
   ]
  },
  {
   "cell_type": "code",
   "execution_count": null,
   "metadata": {},
   "outputs": [],
   "source": [
    "#Types of Court/Rink Graph\n",
    "\n",
    "types.plot.bar(rot=0, figsize=[16,8])"
   ]
  },
  {
   "cell_type": "markdown",
   "metadata": {},
   "source": [
    "**Here is a graph of the top five types of court or rink in the City of Pittsburgh.**"
   ]
  },
  {
   "cell_type": "code",
   "execution_count": null,
   "metadata": {},
   "outputs": [],
   "source": [
    "types.head(5).plot.bar(rot=0, figsize=[10,6])"
   ]
  },
  {
   "cell_type": "markdown",
   "metadata": {},
   "source": [
    "**Using the information I collected about the most commo types of court or rink, I put the neighborhoods into categories based on which type of court or rink a neighborhood has.**"
   ]
  },
  {
   "cell_type": "code",
   "execution_count": null,
   "metadata": {},
   "outputs": [],
   "source": [
    "#Neighborhoods With Each Type of Court/Rink\n",
    "\n",
    "all_neighborhoods = courts_rinks_data.iloc[0:,8]\n",
    "neighborhoods = []\n",
    "\n",
    "\n",
    "for neighborhood in all_neighborhoods:\n",
    "       if neighborhood not in neighborhoods:\n",
    "            neighborhoods.append(neighborhood)\n",
    "\n",
    "\n",
    "\n",
    "lists_in_list = []\n",
    "\n",
    "n_in_top_t = []\n",
    "all_types = courts_rinks_data.iloc[0:,2]\n",
    "top_types = ['Basketball (Full)','Tennis','Basketball (Half)','Hockey','Pickleball']\n",
    "index = 0\n",
    "for name in top_types:\n",
    "    print(\"Court/Rink Type:\", name)\n",
    "    print()\n",
    "    for n in all_neighborhoods:\n",
    "        if all_types[index].startswith(name) and n not in n_in_top_t:\n",
    "            print(n)\n",
    "            n_in_top_t.append(n)\n",
    "        index = index + 1\n",
    "    lists_in_list.append(n_in_top_t)\n",
    "    n_in_top_t = []\n",
    "    index = 0\n",
    "    print()"
   ]
  },
  {
   "cell_type": "markdown",
   "metadata": {},
   "source": [
    "**After looking at all the neighborhoods, I then found which top neighborhoods from the earlier ranking were in each of the top court or rink types.**"
   ]
  },
  {
   "cell_type": "code",
   "execution_count": null,
   "metadata": {},
   "outputs": [],
   "source": [
    "#Top Neighborhoods in Top Court/Rink Types\n",
    "\n",
    "top_n_in_top_t_counts = []\n",
    "\n",
    "t_num = 1\n",
    "count = 0\n",
    "for l in lists_in_list:\n",
    "    print(\"Top Neighborhoods in Top Court/Rink Type\",t_num)\n",
    "    print()\n",
    "    for t in top_n2:\n",
    "        if t in l:\n",
    "            count = count + 1\n",
    "            print(t)\n",
    "          \n",
    "    top_n_in_top_t_counts.append(count)\n",
    "    lists_in_list\n",
    "    count = 0\n",
    "    t_num += 1\n",
    "    print()\n"
   ]
  },
  {
   "cell_type": "markdown",
   "metadata": {},
   "source": [
    "**Notice that most top neighborhoods have Basketball (Full) and Tennis courts (court/rink types 1 and 2). The second most common court/rink type is Basketball (Half) courts/rinks with the second most top neighborhoods having that type. Here is a new ranking of neighborhoods based on top court/rink types and most top neighborhoods within them, using amount of courts/rinks in each neighborhood and how many repeats of the neighborhood in top types there are to break ties.**"
   ]
  },
  {
   "cell_type": "markdown",
   "metadata": {},
   "source": [
    "**New Ranking Based on Court/Rink Types:**\n",
    "1. **Squirrel Hill South**\n",
    "2. **Highland Park**\n",
    "3. **Hazelwood**\n",
    "4. **Allegheny Center and Brookline**\n",
    "5. **Beltzhoover**\n",
    "6. **Troy Hill**\n",
    "7. **Beechview**"
   ]
  },
  {
   "cell_type": "markdown",
   "metadata": {},
   "source": [
    "**Notice that the ranking did not change very much based on the criteria, with only Beltzhoover moving down a level. Therefore, we could infer that most neighborhoods have common types of courts and rinks, so either ranking of neighborhoods will result in a list of high quality neighborhoods with access to courts and rinks that are also high quality.**"
   ]
  },
  {
   "cell_type": "markdown",
   "metadata": {},
   "source": [
    "### **Summary of City of Pittsburgh Courts and Rinks**\n",
    "\n",
    "**Overall winner for this data set is Squirrel Hill South, ranked first place for having the most courts/rinks with 26 court/rinks. Squirrel Hill South has various court types including Basketball (Full), Tennis, Hockey, and Pickle Ball. The most common type of court is a Basketball (Full) court with the City of Pittsburgh having 88 full basketball courts. The average number of courts or rinks per neighborhood is about 4 courts/rinks.**"
   ]
  },
  {
   "cell_type": "markdown",
   "metadata": {},
   "source": [
    "## **City of Pittsburgh Playgrounds**"
   ]
  },
  {
   "cell_type": "markdown",
   "metadata": {},
   "source": [
    "##### Loading in the playground data file and Looking at the first 10 items in the Dataset file."
   ]
  },
  {
   "cell_type": "code",
   "execution_count": null,
   "metadata": {},
   "outputs": [],
   "source": [
    "# load in the playground data file\n",
    "playgrounds_data = pd.read_csv(\"playground.csv\")\n",
    "# look at the first ten rows of the data\n",
    "playgrounds_data.head(10)"
   ]
  },
  {
   "cell_type": "markdown",
   "metadata": {},
   "source": [
    "##### Next, I created a dataframe by filtering the dataset using the ` usecols`function and trying to create a dataset named ` playgrounds_data1` with required columns."
   ]
  },
  {
   "cell_type": "code",
   "execution_count": null,
   "metadata": {},
   "outputs": [],
   "source": [
    "playgrounds_data1 = pd.read_csv(\"playground.csv\",usecols = ['neighborhood','safety_surface_type','equipment_type'])\n",
    "playgrounds_data1.head(15)"
   ]
  },
  {
   "cell_type": "markdown",
   "metadata": {},
   "source": [
    "##### Next , I performed some data analysis on the playgrounds dataset. I created a `df ` dataframe which contains the neighborhoods that have the total number of playgrounds in each neighborhood without any repeats in the Descending Order. Here, I used the pandas function `.value_counts()` to find the total values for each neighborhood."
   ]
  },
  {
   "cell_type": "code",
   "execution_count": null,
   "metadata": {},
   "outputs": [],
   "source": [
    "df = pd.DataFrame(playgrounds_data['neighborhood'].value_counts())\n",
    "df"
   ]
  },
  {
   "cell_type": "markdown",
   "metadata": {},
   "source": [
    "##### Here, I performed a statistical analysis on the `df` dataframe using the pandas `.describe()` function . The average Number of Playgrounds in each neighborhood is 7 and the Maximum and Minimum number of playgrounds are 32 and 1 respectively. \n"
   ]
  },
  {
   "cell_type": "code",
   "execution_count": null,
   "metadata": {},
   "outputs": [],
   "source": [
    "df.describe()"
   ]
  },
  {
   "cell_type": "markdown",
   "metadata": {},
   "source": [
    "##### Here, I created another DataFrame named  `df1` that describes the total number of playgrounds in each neighborhood in the playground dataset which is looking at the top 10 neighborhoods ."
   ]
  },
  {
   "cell_type": "code",
   "execution_count": null,
   "metadata": {},
   "outputs": [],
   "source": [
    "df1 = pd.DataFrame( playgrounds_data['neighborhood'].value_counts().head(10))\n",
    "df1"
   ]
  },
  {
   "cell_type": "markdown",
   "metadata": {},
   "source": [
    "##### Here , I created a Data visualization graph of a Bar Chart using the `.bar()` function of the df1 dataframe of the top 10 neighborhoods which contain the most number of playgrounds .\n"
   ]
  },
  {
   "cell_type": "code",
   "execution_count": null,
   "metadata": {},
   "outputs": [],
   "source": [
    "df1.plot.bar()"
   ]
  },
  {
   "cell_type": "markdown",
   "metadata": {},
   "source": [
    "##### From the above graph, we get to know that `Squirrel Hill South` contains the most number of playgrounds."
   ]
  },
  {
   "cell_type": "markdown",
   "metadata": {},
   "source": [
    "### The Top Neighborhoods with the most Number of Playgrounds\n",
    "#####  1. Squirrel Hill South\n",
    "#####  2. East Liberty\n",
    "#####  3. Beechview\n",
    "#####  4. Allegheny Center\n",
    "#####  5. South Side Slopes\n",
    "#####  6. Hazelwood\n",
    "#####  7. Sheraden"
   ]
  },
  {
   "cell_type": "markdown",
   "metadata": {},
   "source": [
    "##### Here is another analysis of the dataframe `df2` that describes the different types of  `Equipment Type` used in the playgrounds from the Playgrounds dataset."
   ]
  },
  {
   "cell_type": "code",
   "execution_count": null,
   "metadata": {},
   "outputs": [],
   "source": [
    "df2 =  pd.DataFrame(playgrounds_data['equipment_type'].value_counts())\n",
    "df2"
   ]
  },
  {
   "cell_type": "markdown",
   "metadata": {},
   "source": [
    "##### Here is a Bar chart graph showing how many of each Equipment Type is used in the playgrounds."
   ]
  },
  {
   "cell_type": "code",
   "execution_count": null,
   "metadata": {},
   "outputs": [],
   "source": [
    "df2.plot(kind = \"bar\",figsize = (15,7))"
   ]
  },
  {
   "cell_type": "markdown",
   "metadata": {},
   "source": [
    "### The most used Equipment Types used in the Playgrounds\n",
    "#####  1. Play Area 5 to 12\n",
    "#####  2. Play Area 2 to 5\n",
    "#####  3. Swing 2 Bays\n",
    "#####  4. Swing 3 Bays\n",
    "#####  5. Play Area 2 to 12"
   ]
  },
  {
   "cell_type": "markdown",
   "metadata": {},
   "source": [
    "**Using the information I collected along the way about the most commonly used Equipment Type, I decided to put the neighborhoods into categories based on different types of equipment a neighborhood has.**"
   ]
  },
  {
   "cell_type": "code",
   "execution_count": null,
   "metadata": {},
   "outputs": [],
   "source": [
    "#Neighborhoods With Each Type of Equiment type \n",
    "\n",
    "all_neighborhoods = playgrounds_data.iloc[0:,8]\n",
    "neighborhoods = []\n",
    "\n",
    "\n",
    "for neighborhood in all_neighborhoods:\n",
    "       if neighborhood not in neighborhoods:\n",
    "            neighborhoods.append(neighborhood)\n",
    "\n",
    "\n",
    "\n",
    "lists_in_list = []\n",
    "\n",
    "n_in_top_t = []\n",
    "all_types = playgrounds_data.iloc[0:,2]\n",
    "top_types = ['Play Area 5 to 12','Play Area 2 to 5','Swing 2 Bays','Swing 3 Bays','Play Area 2 to 12','Whirl']\n",
    "index = 0\n",
    "for name in top_types:\n",
    "    print(\"Equipment Type:\", name)\n",
    "    print()\n",
    "    for n in all_neighborhoods:\n",
    "        if all_types[index].startswith(name) and n not in n_in_top_t:\n",
    "            print(n)\n",
    "            n_in_top_t.append(n)\n",
    "        index = index + 1\n",
    "    lists_in_list.append(n_in_top_t)\n",
    "    n_in_top_t = []\n",
    "    index = 0\n",
    "    print()"
   ]
  },
  {
   "cell_type": "markdown",
   "metadata": {},
   "source": [
    "##### After looking at all the neighborhoods, I then found which top neighborhoods from the earlier ranking were distributed in each of the top Equipment Types."
   ]
  },
  {
   "cell_type": "code",
   "execution_count": null,
   "metadata": {},
   "outputs": [],
   "source": [
    "#Top Neighborhoods in Top Equipment Types\n",
    "top_n2 = ['Squirrel Hill South','East Liberty','Beechview','Allegheny Center','South Side Slopes','Hazelwood','Sheraden','Elliott']\n",
    "top_n_in_top_t_counts = []\n",
    "\n",
    "t_num = 1\n",
    "count = 0\n",
    "for l in lists_in_list:\n",
    "    print(\"Top Neighborhoods in Top Equipment Type\",t_num)\n",
    "    print()\n",
    "    for t in top_n2:\n",
    "        if t in l:\n",
    "            count = count + 1\n",
    "            print(t)\n",
    "          \n",
    "    top_n_in_top_t_counts.append(count)\n",
    "    lists_in_list\n",
    "    count = 0\n",
    "    t_num += 1\n",
    "    print()"
   ]
  },
  {
   "cell_type": "markdown",
   "metadata": {},
   "source": [
    "##### However, after analyzing this data set, I noticed that the Safety surface type was not listed in equipment type used  , so I decided to create a dataframe `df3` and analyzed this as well.\n"
   ]
  },
  {
   "cell_type": "code",
   "execution_count": null,
   "metadata": {},
   "outputs": [],
   "source": [
    "df3 = pd.DataFrame( playgrounds_data['safety_surface_type'].value_counts())\n",
    "df3"
   ]
  },
  {
   "cell_type": "code",
   "execution_count": null,
   "metadata": {},
   "outputs": [],
   "source": [
    "df3.plot.pie(y='safety_surface_type', figsize=(5, 5)).legend(bbox_to_anchor=(1,1))\n"
   ]
  },
  {
   "cell_type": "markdown",
   "metadata": {},
   "source": [
    "##### From the generated graph , we get to know that `SofSurfaces`and `Pour in Place` are the most used surface types."
   ]
  },
  {
   "cell_type": "markdown",
   "metadata": {},
   "source": [
    "### **Summary of City of Pittsburgh Playgrounds**\n",
    "\n",
    "**Squirrel Hill South, is in the top rankings for every single category out of all the Neighborhoods. I analyzed that in the Playgrounds Data Set, Squirrel Hill South was ranked first out of all the Neighborhoods, which has 32 Playgrounds and has all the Equipment types like Play Area 5 to 12, Play Area 2 to 5, Swing 2 Bays, etc. With Sofsurface and pour in place surface types also. The Average Number of Playgrounds are 7 Playgrounds per Neighborhood. I can conclude that based on the analysis that I have performed, Squirrel Hill South is the best neighborhood to live in . It has many Playgrounds which is a good place for Children as they have a good opportunity for Outdoor Activities which helps them in their Health, Fitness, and Overall Well Being.**"
   ]
  },
  {
   "cell_type": "markdown",
   "metadata": {},
   "source": [
    "##### Here , I created a dataframe `df4` showing the Top Common Neighborhoods in each Category using the Metrics  - The number of local parks, courts, rinks, and playgrounds, and playground equipment."
   ]
  },
  {
   "cell_type": "code",
   "execution_count": null,
   "metadata": {},
   "outputs": [],
   "source": [
    "# create a new dataframe\n",
    "df4 = pd.DataFrame({'Parks': [12, 8, 7,6,6,6,6,5,4,3,3],\n",
    "                     'Courts and Rinks ': [6, 7,6,10,6,5,26,8,5,6,3],\n",
    "                   'Playgrounds ': [26, 21, 14, 13,13,10,32,7,11,7,7]},\n",
    "                  index = ['East Liberty','Beechview','South Side Slopes','Hazelwood','Sheraden',\n",
    "                                     'Mount Washington','Squirrel Hill South','Troy Hill','Elliott','Manchester','Carrick'])\n",
    "\n",
    "df4"
   ]
  },
  {
   "cell_type": "markdown",
   "metadata": {},
   "source": [
    "##### Here is a Data visualization of the Dataframe `df4` which is a Stacked Bar Graph showing all the Metrics - The number of local parks, courts, rinks, and playgrounds. From The Graph , We get to know that `Squirrel Hill South` is Top Neighborhood after combining all the Metrics which gives us the information that it is the Best Neighborhood for the Children with the Average  Number of Parks which is 6 , 26 Courts and Rinks and 32 Playgrounds ."
   ]
  },
  {
   "cell_type": "code",
   "execution_count": null,
   "metadata": {},
   "outputs": [],
   "source": [
    "df4.plot.barh(stacked=True, rot=0)"
   ]
  },
  {
   "cell_type": "markdown",
   "metadata": {},
   "source": [
    "### Reflection"
   ]
  },
  {
   "cell_type": "markdown",
   "metadata": {},
   "source": [
    "#### Madeline Fontana"
   ]
  },
  {
   "cell_type": "markdown",
   "metadata": {},
   "source": [
    "**Squirrel Hill South, in the top rankings for every single category, is ranked first overall in both data sets. Squirrel Hill South has 6 parks, ranked fifth by number of parks and by region the parks are in. Squirrel Hill South was also ranked first for both categories I analyzed in the courts and rinks data set with 26 courts/rinks and having 4 different top court/rink types including Basketball (Full), Tennis, Hockey, and Pickleball. I have concluded that based on my two data sets and the analysis I performed, Squirrel Hill South is the best neighborhood to live in. This neighborhood would be great for children with access to many parks, courts, and rinks while also being located in regions and having a multitude of different types of courts and rinks. Squirrel Hill South also contains part of Schenly Park, which showed up quite frequently in the courts and rinks data set. Squirrel Hill South also has Davis Park and Frick Park. This park had 16 different courts or rinks which could be used by children, making Squirrel Hill South a great neighborhood overall.**"
   ]
  },
  {
   "cell_type": "markdown",
   "metadata": {},
   "source": [
    "#### Roma Reddy Sekhar"
   ]
  },
  {
   "cell_type": "markdown",
   "metadata": {},
   "source": [
    "**Squirrel Hill South, is in the top rankings for every single category out of all the Neighborhoods. Squirrel Hill South has 6 parks and 26 courts/rinks and has 4 different top court/rink types including Basketball (Full), Tennis, Hockey, and Pickleball .Squirrel Hill South was also ranked first in all the categories(Metrics). I analyzed that in the Playgrounds Data Set, Squirrel Hill South was ranked first out of all the Neighborhoods, which has 32 Playgrounds and has all the Equipment types like Play Area 5 to 12, Play Area 2 to 5, Swing 2 Bays, etc. With Sofsurface and pour in place surface types also.The Average Number of Playgrounds is 7 Playgrounds per Neighborhood. I can conclude that based on the analysis that we have performed, Squirrel Hill South is the best neighborhood to live in . It has Multiple facilities like many Parks, courts and Playgrounds which is a good place for Children as they have a good opportunity for Outdoor Activities which helps them in their Health, Fitness, and Overall Well Being .**"
   ]
  }
 ],
 "metadata": {
  "kernelspec": {
   "display_name": "Python 3",
   "language": "python",
   "name": "python3"
  },
  "language_info": {
   "codemirror_mode": {
    "name": "ipython",
    "version": 3
   },
   "file_extension": ".py",
   "mimetype": "text/x-python",
   "name": "python",
   "nbconvert_exporter": "python",
   "pygments_lexer": "ipython3",
   "version": "3.8.3"
  }
 },
 "nbformat": 4,
 "nbformat_minor": 4
}
